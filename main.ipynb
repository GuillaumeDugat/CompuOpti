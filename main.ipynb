{
 "cells": [
  {
   "attachments": {},
   "cell_type": "markdown",
   "metadata": {},
   "source": [
    "# CompuOpti"
   ]
  },
  {
   "cell_type": "code",
   "execution_count": 28,
   "metadata": {},
   "outputs": [],
   "source": [
    "import os\n",
    "import json\n",
    "\n",
    "import numpy as np\n",
    "import gurobipy as grb\n",
    "from gurobipy import GRB"
   ]
  },
  {
   "cell_type": "code",
   "execution_count": 41,
   "metadata": {},
   "outputs": [
    {
     "name": "stdout",
     "output_type": "stream",
     "text": [
      "18446744073709551616\n"
     ]
    }
   ],
   "source": [
    "INF = 2 ** 64"
   ]
  },
  {
   "cell_type": "code",
   "execution_count": 29,
   "metadata": {},
   "outputs": [],
   "source": [
    "model = grb.Model()"
   ]
  },
  {
   "cell_type": "code",
   "execution_count": 30,
   "metadata": {},
   "outputs": [],
   "source": [
    "instance = \"toy_instance.json\"\n",
    "\n",
    "file = os.path.join(\"instances\", instance)\n",
    "data = json.load(open(file, \"r\"))"
   ]
  },
  {
   "attachments": {},
   "cell_type": "markdown",
   "metadata": {},
   "source": [
    "## Modeling"
   ]
  },
  {
   "attachments": {},
   "cell_type": "markdown",
   "metadata": {},
   "source": [
    "### Parameters of the problem"
   ]
  },
  {
   "attachments": {},
   "cell_type": "markdown",
   "metadata": {},
   "source": [
    "Define the length of indices"
   ]
  },
  {
   "cell_type": "code",
   "execution_count": 31,
   "metadata": {},
   "outputs": [],
   "source": [
    "# Number of workers\n",
    "worker_length = len(data[\"staff\"])\n",
    "\n",
    "# Number of jobs\n",
    "job_length = len(data[\"jobs\"])\n",
    "\n",
    "# Number of skills\n",
    "skill_length = len(data[\"qualifications\"])\n",
    "\n",
    "# Number of days\n",
    "day_length = data[\"horizon\"]"
   ]
  },
  {
   "attachments": {},
   "cell_type": "markdown",
   "metadata": {},
   "source": [
    "Define jobs parameters"
   ]
  },
  {
   "cell_type": "code",
   "execution_count": 32,
   "metadata": {},
   "outputs": [],
   "source": [
    "gains_job = np.array([job[\"gain\"] for job in data[\"jobs\"]])\n",
    "penalties_job = np.array([job[\"daily_penalty\"] for job in data[\"jobs\"]])\n",
    "due_dates_job = np.array([job[\"due_date\"] for job in data[\"jobs\"]])\n",
    "work_days_job_skill = np.array([\n",
    "    [\n",
    "        job[\"working_days_per_qualification\"][skill] if skill in job[\"working_days_per_qualification\"] else 0\n",
    "        for skill in data[\"qualifications\"]\n",
    "    ]\n",
    "    for job in data[\"jobs\"]\n",
    "])"
   ]
  },
  {
   "attachments": {},
   "cell_type": "markdown",
   "metadata": {},
   "source": [
    "Define staff parameters"
   ]
  },
  {
   "cell_type": "code",
   "execution_count": 33,
   "metadata": {},
   "outputs": [],
   "source": [
    "qualifications_worker_skill = np.array([\n",
    "    [\n",
    "        1 if skill in worker[\"qualifications\"] else 0\n",
    "        for skill in data[\"qualifications\"]\n",
    "    ]\n",
    "    for worker in data[\"staff\"]\n",
    "])\n",
    "vacations_worker_day = np.array([\n",
    "    [\n",
    "        1 if 1 + day in worker[\"vacations\"] else 0\n",
    "        for day in range(day_length)\n",
    "    ]\n",
    "    for worker in data[\"staff\"]\n",
    "])"
   ]
  },
  {
   "attachments": {},
   "cell_type": "markdown",
   "metadata": {},
   "source": [
    "### Decision variables"
   ]
  },
  {
   "attachments": {},
   "cell_type": "markdown",
   "metadata": {},
   "source": [
    "Variable to model the full solution"
   ]
  },
  {
   "cell_type": "code",
   "execution_count": 34,
   "metadata": {},
   "outputs": [],
   "source": [
    "# 4-D array of binary variables : 1 if a worker is assigned to a certain project for a certain skill on a certain day, else 0\n",
    "works_worker_job_skill_day = model.addVars(worker_length, job_length, skill_length, day_length, vtype=GRB.BINARY, name=\"work\")"
   ]
  },
  {
   "attachments": {},
   "cell_type": "markdown",
   "metadata": {},
   "source": [
    "Variables to compute the duration of a job"
   ]
  },
  {
   "cell_type": "code",
   "execution_count": 36,
   "metadata": {},
   "outputs": [],
   "source": [
    "started_after_job_day = model.addVars(job_length, day_length, vtype=GRB.BINARY, name=\"started_after\") # 1 if a job is started after a certain day, else 0\n",
    "finished_before_job_day = model.addVars(job_length, day_length, vtype=GRB.BINARY, name=\"finished_before\") # 1 if a job is finished before a certain day, else 0"
   ]
  },
  {
   "attachments": {},
   "cell_type": "markdown",
   "metadata": {},
   "source": [
    "Variables to compute the total gain"
   ]
  },
  {
   "cell_type": "code",
   "execution_count": 35,
   "metadata": {},
   "outputs": [],
   "source": [
    "realized_job = model.addVars(job_length, vtype=GRB.BINARY, name=\"realized\") # 1 if a job is realized, else 0\n",
    "finished_late_job = model.addVars(job_length, vtype=GRB.BINARY, name=\"finished_late\") # 1 if a job is finished late, else 0"
   ]
  },
  {
   "attachments": {},
   "cell_type": "markdown",
   "metadata": {},
   "source": [
    "Variable to compute the maximum duration per job"
   ]
  },
  {
   "cell_type": "code",
   "execution_count": 37,
   "metadata": {},
   "outputs": [],
   "source": [
    "max_duration = model.addVar(vtype=GRB.INTEGER, name=\"max_duration\") # Integer that represents the maximum duration for any job"
   ]
  },
  {
   "attachments": {},
   "cell_type": "markdown",
   "metadata": {},
   "source": [
    "Variables to compute the maximum assignements per worker"
   ]
  },
  {
   "cell_type": "code",
   "execution_count": 38,
   "metadata": {},
   "outputs": [],
   "source": [
    "assigned_worker_job = model.addVars(worker_length, job_length, vtype=GRB.BINARY, name=\"assigned\") # 1 if a certain worker is assigned on a certain job, else 0\n",
    "nb_assigned_worker = model.addVars(worker_length, vtype=GRB.INTEGER, name=\"nb_assigned\") # Integers that represents the number of assigned jobs for each worker\n",
    "max_assigned = model.addVar(vtype=GRB.INTEGER, name=\"max_assigned\") # Integer that represents the maximum number of assigned jobs for any worker"
   ]
  },
  {
   "attachments": {},
   "cell_type": "markdown",
   "metadata": {},
   "source": [
    "### Constraints"
   ]
  },
  {
   "attachments": {},
   "cell_type": "markdown",
   "metadata": {},
   "source": [
    "#### Time Table Constraints\n",
    "\n",
    "Define the constraints of the planning problem itself."
   ]
  },
  {
   "attachments": {},
   "cell_type": "markdown",
   "metadata": {},
   "source": [
    "- Worker qualification constraint"
   ]
  },
  {
   "cell_type": "code",
   "execution_count": null,
   "metadata": {},
   "outputs": [],
   "source": [
    "model.addConstrs(\n",
    "    (\n",
    "        works_worker_job_skill_day[worker, job, skill, day] <= qualifications_worker_skill[worker, skill]\n",
    "        for worker in range(worker_length)\n",
    "        for job in range(job_length)\n",
    "        for skill in range(skill_length)\n",
    "        for day in range(day_length)\n",
    "    ),\n",
    "    name=\"qualification\"\n",
    ")"
   ]
  },
  {
   "attachments": {},
   "cell_type": "markdown",
   "metadata": {},
   "source": [
    "- Vacation constraint"
   ]
  },
  {
   "cell_type": "code",
   "execution_count": null,
   "metadata": {},
   "outputs": [],
   "source": [
    "model.addConstrs(\n",
    "    (\n",
    "        grb.quicksum(works_worker_job_skill_day[worker, job, skill, day] for job in range(job_length) for skill in range(skill_length)) \\\n",
    "            <= 1 - vacations_worker_day[worker, day]\n",
    "        for worker in range(worker_length)\n",
    "        for day in range(day_length)\n",
    "    ),\n",
    "    name=\"vacation\"\n",
    ")"
   ]
  },
  {
   "attachments": {},
   "cell_type": "markdown",
   "metadata": {},
   "source": [
    "- Uniqueness of the daily assignement : *done with the vacation constraint*"
   ]
  },
  {
   "attachments": {},
   "cell_type": "markdown",
   "metadata": {},
   "source": [
    "- Job coverage constraint"
   ]
  },
  {
   "cell_type": "code",
   "execution_count": null,
   "metadata": {},
   "outputs": [],
   "source": [
    "model.addConstrs(\n",
    "    (\n",
    "        grb.quicksum(works_worker_job_skill_day[worker, job, skill, day] for worker in range(worker_length) for day in range(day_length)) \\\n",
    "            == realized_job[job] * work_days_job_skill[job, skill]\n",
    "        for job in range(job_length)\n",
    "        for skill in range(skill_length)\n",
    "    ),\n",
    "    name=\"job_coverage\"\n",
    ")"
   ]
  },
  {
   "attachments": {},
   "cell_type": "markdown",
   "metadata": {},
   "source": [
    "- Uniqueness of the realized projects : *done with realized_job either 0 or 1*"
   ]
  },
  {
   "attachments": {},
   "cell_type": "markdown",
   "metadata": {},
   "source": [
    "#### Variable Constraints\n",
    "\n",
    "Define the constraints that are related to the definition of additional variables."
   ]
  },
  {
   "attachments": {},
   "cell_type": "markdown",
   "metadata": {},
   "source": [
    "- Started after / Finished before\n",
    "\n",
    "*Example of what is expected :* \n",
    "\n",
    "| Day             | 0 | 1 | 2 | 3 | 4 | 5 | 6 | 7 |\n",
    "|-----------------|---|---|---|---|---|---|---|---|\n",
    "| Working day     | 0 | 0 | 1 | 1 | 1 | 0 | 0 | 0 |\n",
    "| Started after   | 0 | 0 | 1 | 1 | 1 | 1 | 1 | 1 |\n",
    "| Finished before | 0 | 0 | 0 | 0 | 0 | 1 | 1 | 1 |"
   ]
  },
  {
   "cell_type": "code",
   "execution_count": null,
   "metadata": {},
   "outputs": [],
   "source": [
    "# started_after == 0 => works == 0\n",
    "model.addConstrs(\n",
    "    (\n",
    "        works_worker_job_skill_day[worker, job, skill, day] <= started_after_job_day[job, day]\n",
    "        for worker in range(worker_length)\n",
    "        for job in range(job_length)\n",
    "        for skill in range(skill_length)\n",
    "        for day in range(day_length)\n",
    "    ),\n",
    "    name=\"started_after\"\n",
    ")\n",
    "\n",
    "# increasing sequence\n",
    "model.addConstrs(\n",
    "    (\n",
    "        started_after_job_day[job, day] <= started_after_job_day[job, day + 1]\n",
    "        for job in range(job_length)\n",
    "        for day in range(day_length - 1)\n",
    "    ),\n",
    "    name=\"started_after_increasing\"\n",
    ")"
   ]
  },
  {
   "cell_type": "code",
   "execution_count": null,
   "metadata": {},
   "outputs": [],
   "source": [
    "# finished before == 1 => works == 0\n",
    "model.addConstrs(\n",
    "    (\n",
    "        works_worker_job_skill_day[worker, job, skill, day] <= 1 - finished_before_job_day[job, day]\n",
    "        for worker in range(worker_length)\n",
    "        for job in range(job_length)\n",
    "        for skill in range(skill_length)\n",
    "        for day in range(day_length)\n",
    "    ),\n",
    "    name=\"finished_before\"\n",
    ")\n",
    "\n",
    "# increasing sequence\n",
    "model.addConstrs(\n",
    "    (\n",
    "        finished_before_job_day[job, day] <= finished_before_job_day[job, day + 1]\n",
    "        for job in range(job_length)\n",
    "        for day in range(day_length - 1)\n",
    "    ),\n",
    "    name=\"finished_before_increasing\"\n",
    ")"
   ]
  },
  {
   "attachments": {},
   "cell_type": "markdown",
   "metadata": {},
   "source": [
    "- Realized jobs : *done with job coverage constraint*"
   ]
  },
  {
   "attachments": {},
   "cell_type": "markdown",
   "metadata": {},
   "source": [
    "- Finished late"
   ]
  },
  {
   "cell_type": "code",
   "execution_count": null,
   "metadata": {},
   "outputs": [],
   "source": [
    "# finished_late == 0 => day_length - sum finished_before <= due_date\n",
    "model.addConstrs(\n",
    "    (\n",
    "        day_length - grb.quicksum(finished_before_job_day[job, day] for day in range(day_length)) \\\n",
    "            <= due_dates_job[job] + INF * finished_late_job[job]\n",
    "        for job in range(job_length)\n",
    "    ),\n",
    "    name=\"finished_late_0\"\n",
    ")\n",
    "\n",
    "# finished_late == 1 => day_length - sum finished_before >= due_date + 1\n",
    "model.addConstrs(\n",
    "    (\n",
    "        day_length - grb.quicksum(finished_before_job_day[job, day] for day in range(day_length)) \\\n",
    "            >= due_dates_job[job] + 1 - INF * (1 - finished_late_job[job])\n",
    "        for job in range(job_length)\n",
    "    ),\n",
    "    name=\"finished_late_1\"\n",
    ")"
   ]
  },
  {
   "attachments": {},
   "cell_type": "markdown",
   "metadata": {},
   "source": [
    "- Maximum duration"
   ]
  },
  {
   "cell_type": "code",
   "execution_count": null,
   "metadata": {},
   "outputs": [],
   "source": [
    "model.addConstrs(\n",
    "    (\n",
    "        grb.quicksum(started_after_job_day[job, day] - finished_before_job_day[job, day] for day in range(day_length)) \\\n",
    "            <= max_duration\n",
    "        for job in range(job_length)\n",
    "    ),\n",
    "    name=\"max_duration\"\n",
    ")"
   ]
  },
  {
   "attachments": {},
   "cell_type": "markdown",
   "metadata": {},
   "source": [
    "- Assignements"
   ]
  },
  {
   "cell_type": "code",
   "execution_count": null,
   "metadata": {},
   "outputs": [],
   "source": [
    "model.addConstrs(\n",
    "    (\n",
    "        works_worker_job_skill_day[worker, job, skill, day] <= assigned_worker_job[worker, job]\n",
    "        for worker in range(worker_length)\n",
    "        for job in range(job_length)\n",
    "        for skill in range(skill_length)\n",
    "        for day in range(day_length)\n",
    "    ),\n",
    "    name=\"assigned_worker_job\"\n",
    ")\n",
    "model.addConstrs(\n",
    "    (\n",
    "        grb.quicksum(assigned_worker_job[worker, job] for job in range(job_length)) <= \\\n",
    "            nb_assigned_worker[worker]\n",
    "        for worker in range(worker_length)\n",
    "    ),\n",
    "    name=\"nb_assigned_worker\"\n",
    ")\n",
    "model.addConstrs(\n",
    "    (\n",
    "        nb_assigned_worker[worker] <= max_assigned\n",
    "        for worker in range(worker_length)\n",
    "    ),\n",
    "    name=\"max_assigned\"\n",
    ")"
   ]
  },
  {
   "attachments": {},
   "cell_type": "markdown",
   "metadata": {},
   "source": [
    "### Objectives"
   ]
  }
 ],
 "metadata": {
  "kernelspec": {
   "display_name": "Python 3",
   "language": "python",
   "name": "python3"
  },
  "language_info": {
   "codemirror_mode": {
    "name": "ipython",
    "version": 3
   },
   "file_extension": ".py",
   "mimetype": "text/x-python",
   "name": "python",
   "nbconvert_exporter": "python",
   "pygments_lexer": "ipython3",
   "version": "3.10.4"
  },
  "orig_nbformat": 4,
  "vscode": {
   "interpreter": {
    "hash": "5372fa4cf8c924fc741702be56b11c428b552d59c4a502a0fb32c9af273f7d1e"
   }
  }
 },
 "nbformat": 4,
 "nbformat_minor": 2
}
