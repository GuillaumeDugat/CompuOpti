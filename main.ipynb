{
 "cells": [
  {
   "attachments": {},
   "cell_type": "markdown",
   "metadata": {},
   "source": [
    "# CompuOpti"
   ]
  },
  {
   "cell_type": "code",
   "execution_count": 14,
   "metadata": {},
   "outputs": [],
   "source": [
    "import os\n",
    "import json\n",
    "\n",
    "import numpy as np\n",
    "import gurobipy"
   ]
  },
  {
   "cell_type": "code",
   "execution_count": 4,
   "metadata": {},
   "outputs": [],
   "source": [
    "model = gurobipy.Model()"
   ]
  },
  {
   "cell_type": "code",
   "execution_count": 9,
   "metadata": {},
   "outputs": [],
   "source": [
    "instance = \"toy_instance.json\"\n",
    "\n",
    "file = os.path.join(\"instances\", instance)\n",
    "data = json.load(open(file, \"r\"))"
   ]
  },
  {
   "attachments": {},
   "cell_type": "markdown",
   "metadata": {},
   "source": [
    "## Modeling"
   ]
  },
  {
   "attachments": {},
   "cell_type": "markdown",
   "metadata": {},
   "source": [
    "### Parameters of the problem"
   ]
  },
  {
   "attachments": {},
   "cell_type": "markdown",
   "metadata": {},
   "source": [
    "Define the length of indices"
   ]
  },
  {
   "cell_type": "code",
   "execution_count": 18,
   "metadata": {},
   "outputs": [],
   "source": [
    "# Number of workers\n",
    "worker_length = len(data[\"staff\"])\n",
    "\n",
    "# Number of days\n",
    "day_length = data[\"horizon\"]\n",
    "\n",
    "# Number of jobs\n",
    "job_length = len(data[\"jobs\"])\n",
    "\n",
    "# Number of skills\n",
    "skill_length = len(data[\"qualifications\"])"
   ]
  },
  {
   "attachments": {},
   "cell_type": "markdown",
   "metadata": {},
   "source": [
    "Define jobs parameters"
   ]
  },
  {
   "cell_type": "code",
   "execution_count": 20,
   "metadata": {},
   "outputs": [],
   "source": [
    "gains_job = np.array([job[\"gain\"] for job in data[\"jobs\"]])\n",
    "penalties_job = np.array([job[\"daily_penalty\"] for job in data[\"jobs\"]])\n",
    "due_dates_job = np.array([job[\"due_date\"] for job in data[\"jobs\"]])\n",
    "work_days_job_skill = np.array([\n",
    "    [\n",
    "        job[\"working_days_per_qualification\"][skill] if skill in job[\"working_days_per_qualification\"] else 0\n",
    "        for skill in data[\"qualifications\"]\n",
    "    ]\n",
    "    for job in data[\"jobs\"]\n",
    "])"
   ]
  },
  {
   "attachments": {},
   "cell_type": "markdown",
   "metadata": {},
   "source": [
    "Define staff parameters"
   ]
  },
  {
   "cell_type": "code",
   "execution_count": 25,
   "metadata": {},
   "outputs": [],
   "source": [
    "qualifications_worker_skill = np.array([\n",
    "    [\n",
    "        1 if skill in worker[\"qualifications\"] else 0\n",
    "        for skill in data[\"qualifications\"]\n",
    "    ]\n",
    "    for worker in data[\"staff\"]\n",
    "])\n",
    "vacations_worker_day = np.array([\n",
    "    [\n",
    "        1 if 1 + day in worker[\"vacations\"] else 0\n",
    "        for day in range(day_length)\n",
    "    ]\n",
    "    for worker in data[\"staff\"]\n",
    "])"
   ]
  },
  {
   "attachments": {},
   "cell_type": "markdown",
   "metadata": {},
   "source": [
    "### Decision variables"
   ]
  },
  {
   "attachments": {},
   "cell_type": "markdown",
   "metadata": {},
   "source": [
    "### Constraints"
   ]
  },
  {
   "attachments": {},
   "cell_type": "markdown",
   "metadata": {},
   "source": [
    "### Objectives"
   ]
  }
 ],
 "metadata": {
  "kernelspec": {
   "display_name": "Python 3",
   "language": "python",
   "name": "python3"
  },
  "language_info": {
   "codemirror_mode": {
    "name": "ipython",
    "version": 3
   },
   "file_extension": ".py",
   "mimetype": "text/x-python",
   "name": "python",
   "nbconvert_exporter": "python",
   "pygments_lexer": "ipython3",
   "version": "3.10.4"
  },
  "orig_nbformat": 4,
  "vscode": {
   "interpreter": {
    "hash": "5372fa4cf8c924fc741702be56b11c428b552d59c4a502a0fb32c9af273f7d1e"
   }
  }
 },
 "nbformat": 4,
 "nbformat_minor": 2
}
