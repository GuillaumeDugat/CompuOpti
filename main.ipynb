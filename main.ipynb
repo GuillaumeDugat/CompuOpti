{
 "cells": [
  {
   "attachments": {},
   "cell_type": "markdown",
   "metadata": {},
   "source": [
    "# CompuOpti"
   ]
  },
  {
   "cell_type": "code",
   "execution_count": 1,
   "metadata": {},
   "outputs": [],
   "source": [
    "import os\n",
    "import json\n",
    "\n",
    "import numpy as np\n",
    "import gurobipy as grb\n",
    "from gurobipy import GRB"
   ]
  },
  {
   "cell_type": "code",
   "execution_count": 2,
   "metadata": {},
   "outputs": [],
   "source": [
    "INF = 2 ** 64"
   ]
  },
  {
   "cell_type": "code",
   "execution_count": 3,
   "metadata": {},
   "outputs": [
    {
     "name": "stdout",
     "output_type": "stream",
     "text": [
      "Set parameter Username\n",
      "Academic license - for non-commercial use only - expires 2024-01-05\n"
     ]
    }
   ],
   "source": [
    "model = grb.Model()"
   ]
  },
  {
   "cell_type": "code",
   "execution_count": 4,
   "metadata": {},
   "outputs": [],
   "source": [
    "instance = \"toy_instance.json\"\n",
    "\n",
    "file = os.path.join(\"instances\", instance)\n",
    "data = json.load(open(file, \"r\"))"
   ]
  },
  {
   "attachments": {},
   "cell_type": "markdown",
   "metadata": {},
   "source": [
    "## Modeling"
   ]
  },
  {
   "attachments": {},
   "cell_type": "markdown",
   "metadata": {},
   "source": [
    "### Parameters of the problem"
   ]
  },
  {
   "attachments": {},
   "cell_type": "markdown",
   "metadata": {},
   "source": [
    "Define the length of indices"
   ]
  },
  {
   "cell_type": "code",
   "execution_count": 5,
   "metadata": {},
   "outputs": [],
   "source": [
    "# Number of workers\n",
    "worker_length = len(data[\"staff\"])\n",
    "\n",
    "# Number of jobs\n",
    "job_length = len(data[\"jobs\"])\n",
    "\n",
    "# Number of skills\n",
    "skill_length = len(data[\"qualifications\"])\n",
    "\n",
    "# Number of days\n",
    "day_length = data[\"horizon\"]"
   ]
  },
  {
   "attachments": {},
   "cell_type": "markdown",
   "metadata": {},
   "source": [
    "Define jobs parameters"
   ]
  },
  {
   "cell_type": "code",
   "execution_count": 6,
   "metadata": {},
   "outputs": [],
   "source": [
    "gains_job = np.array([job[\"gain\"] for job in data[\"jobs\"]])\n",
    "penalties_job = np.array([job[\"daily_penalty\"] for job in data[\"jobs\"]])\n",
    "due_dates_job = np.array([job[\"due_date\"] for job in data[\"jobs\"]])\n",
    "work_days_job_skill = np.array([\n",
    "    [\n",
    "        job[\"working_days_per_qualification\"][skill] if skill in job[\"working_days_per_qualification\"] else 0\n",
    "        for skill in data[\"qualifications\"]\n",
    "    ]\n",
    "    for job in data[\"jobs\"]\n",
    "])"
   ]
  },
  {
   "attachments": {},
   "cell_type": "markdown",
   "metadata": {},
   "source": [
    "Define staff parameters"
   ]
  },
  {
   "cell_type": "code",
   "execution_count": 7,
   "metadata": {},
   "outputs": [],
   "source": [
    "qualifications_worker_skill = np.array([\n",
    "    [\n",
    "        1 if skill in worker[\"qualifications\"] else 0\n",
    "        for skill in data[\"qualifications\"]\n",
    "    ]\n",
    "    for worker in data[\"staff\"]\n",
    "])\n",
    "vacations_worker_day = np.array([\n",
    "    [\n",
    "        1 if 1 + day in worker[\"vacations\"] else 0\n",
    "        for day in range(day_length)\n",
    "    ]\n",
    "    for worker in data[\"staff\"]\n",
    "])"
   ]
  },
  {
   "attachments": {},
   "cell_type": "markdown",
   "metadata": {},
   "source": [
    "### Decision variables"
   ]
  },
  {
   "attachments": {},
   "cell_type": "markdown",
   "metadata": {},
   "source": [
    "Variable to model the full solution"
   ]
  },
  {
   "cell_type": "code",
   "execution_count": 8,
   "metadata": {},
   "outputs": [],
   "source": [
    "# 4-D array of binary variables : 1 if a worker is assigned to a certain project for a certain skill on a certain day, else 0\n",
    "works_worker_job_skill_day = model.addVars(worker_length, job_length, skill_length, day_length, vtype=GRB.BINARY, name=\"work\")"
   ]
  },
  {
   "attachments": {},
   "cell_type": "markdown",
   "metadata": {},
   "source": [
    "Variables to compute the total gain"
   ]
  },
  {
   "cell_type": "code",
   "execution_count": 9,
   "metadata": {},
   "outputs": [],
   "source": [
    "is_realized_job = model.addVars(job_length, vtype=GRB.BINARY, name=\"is_realized\") # 1 if a job is realized, else 0"
   ]
  },
  {
   "attachments": {},
   "cell_type": "markdown",
   "metadata": {},
   "source": [
    "Variable to compute the maximum duration (and the penalties)"
   ]
  },
  {
   "cell_type": "code",
   "execution_count": 10,
   "metadata": {},
   "outputs": [],
   "source": [
    "is_worked_job_day = model.addVars(job_length, day_length, vtype=GRB.BINARY, name=\"is_worked\") # 1 if a certain day is a work day for a certain job, else 0\n",
    "max_duration = model.addVar(vtype=GRB.INTEGER, name=\"max_duration\") # Integer that represents the maximum duration for any job"
   ]
  },
  {
   "attachments": {},
   "cell_type": "markdown",
   "metadata": {},
   "source": [
    "Variables to compute the maximum assignement"
   ]
  },
  {
   "cell_type": "code",
   "execution_count": 11,
   "metadata": {},
   "outputs": [],
   "source": [
    "is_assigned_worker_job = model.addVars(worker_length, job_length, vtype=GRB.BINARY, name=\"is_assigned\") # 1 if a certain worker is assigned on a certain job, else 0\n",
    "max_assigned = model.addVar(vtype=GRB.INTEGER, name=\"max_assigned\") # Integer that represents the maximum number of assigned jobs for any worker"
   ]
  },
  {
   "attachments": {},
   "cell_type": "markdown",
   "metadata": {},
   "source": [
    "### Constraints"
   ]
  },
  {
   "attachments": {},
   "cell_type": "markdown",
   "metadata": {},
   "source": [
    "#### Time Table Constraints\n",
    "\n",
    "Define the constraints of the planning problem itself."
   ]
  },
  {
   "attachments": {},
   "cell_type": "markdown",
   "metadata": {},
   "source": [
    "- Worker qualification constraint"
   ]
  },
  {
   "cell_type": "code",
   "execution_count": 12,
   "metadata": {},
   "outputs": [
    {
     "data": {
      "text/plain": [
       "{(0, 0, 0, 0): <gurobi.Constr *Awaiting Model Update*>,\n",
       " (0, 0, 0, 1): <gurobi.Constr *Awaiting Model Update*>,\n",
       " (0, 0, 0, 2): <gurobi.Constr *Awaiting Model Update*>,\n",
       " (0, 0, 0, 3): <gurobi.Constr *Awaiting Model Update*>,\n",
       " (0, 0, 0, 4): <gurobi.Constr *Awaiting Model Update*>,\n",
       " (0, 0, 1, 0): <gurobi.Constr *Awaiting Model Update*>,\n",
       " (0, 0, 1, 1): <gurobi.Constr *Awaiting Model Update*>,\n",
       " (0, 0, 1, 2): <gurobi.Constr *Awaiting Model Update*>,\n",
       " (0, 0, 1, 3): <gurobi.Constr *Awaiting Model Update*>,\n",
       " (0, 0, 1, 4): <gurobi.Constr *Awaiting Model Update*>,\n",
       " (0, 0, 2, 0): <gurobi.Constr *Awaiting Model Update*>,\n",
       " (0, 0, 2, 1): <gurobi.Constr *Awaiting Model Update*>,\n",
       " (0, 0, 2, 2): <gurobi.Constr *Awaiting Model Update*>,\n",
       " (0, 0, 2, 3): <gurobi.Constr *Awaiting Model Update*>,\n",
       " (0, 0, 2, 4): <gurobi.Constr *Awaiting Model Update*>,\n",
       " (0, 1, 0, 0): <gurobi.Constr *Awaiting Model Update*>,\n",
       " (0, 1, 0, 1): <gurobi.Constr *Awaiting Model Update*>,\n",
       " (0, 1, 0, 2): <gurobi.Constr *Awaiting Model Update*>,\n",
       " (0, 1, 0, 3): <gurobi.Constr *Awaiting Model Update*>,\n",
       " (0, 1, 0, 4): <gurobi.Constr *Awaiting Model Update*>,\n",
       " (0, 1, 1, 0): <gurobi.Constr *Awaiting Model Update*>,\n",
       " (0, 1, 1, 1): <gurobi.Constr *Awaiting Model Update*>,\n",
       " (0, 1, 1, 2): <gurobi.Constr *Awaiting Model Update*>,\n",
       " (0, 1, 1, 3): <gurobi.Constr *Awaiting Model Update*>,\n",
       " (0, 1, 1, 4): <gurobi.Constr *Awaiting Model Update*>,\n",
       " (0, 1, 2, 0): <gurobi.Constr *Awaiting Model Update*>,\n",
       " (0, 1, 2, 1): <gurobi.Constr *Awaiting Model Update*>,\n",
       " (0, 1, 2, 2): <gurobi.Constr *Awaiting Model Update*>,\n",
       " (0, 1, 2, 3): <gurobi.Constr *Awaiting Model Update*>,\n",
       " (0, 1, 2, 4): <gurobi.Constr *Awaiting Model Update*>,\n",
       " (0, 2, 0, 0): <gurobi.Constr *Awaiting Model Update*>,\n",
       " (0, 2, 0, 1): <gurobi.Constr *Awaiting Model Update*>,\n",
       " (0, 2, 0, 2): <gurobi.Constr *Awaiting Model Update*>,\n",
       " (0, 2, 0, 3): <gurobi.Constr *Awaiting Model Update*>,\n",
       " (0, 2, 0, 4): <gurobi.Constr *Awaiting Model Update*>,\n",
       " (0, 2, 1, 0): <gurobi.Constr *Awaiting Model Update*>,\n",
       " (0, 2, 1, 1): <gurobi.Constr *Awaiting Model Update*>,\n",
       " (0, 2, 1, 2): <gurobi.Constr *Awaiting Model Update*>,\n",
       " (0, 2, 1, 3): <gurobi.Constr *Awaiting Model Update*>,\n",
       " (0, 2, 1, 4): <gurobi.Constr *Awaiting Model Update*>,\n",
       " (0, 2, 2, 0): <gurobi.Constr *Awaiting Model Update*>,\n",
       " (0, 2, 2, 1): <gurobi.Constr *Awaiting Model Update*>,\n",
       " (0, 2, 2, 2): <gurobi.Constr *Awaiting Model Update*>,\n",
       " (0, 2, 2, 3): <gurobi.Constr *Awaiting Model Update*>,\n",
       " (0, 2, 2, 4): <gurobi.Constr *Awaiting Model Update*>,\n",
       " (0, 3, 0, 0): <gurobi.Constr *Awaiting Model Update*>,\n",
       " (0, 3, 0, 1): <gurobi.Constr *Awaiting Model Update*>,\n",
       " (0, 3, 0, 2): <gurobi.Constr *Awaiting Model Update*>,\n",
       " (0, 3, 0, 3): <gurobi.Constr *Awaiting Model Update*>,\n",
       " (0, 3, 0, 4): <gurobi.Constr *Awaiting Model Update*>,\n",
       " (0, 3, 1, 0): <gurobi.Constr *Awaiting Model Update*>,\n",
       " (0, 3, 1, 1): <gurobi.Constr *Awaiting Model Update*>,\n",
       " (0, 3, 1, 2): <gurobi.Constr *Awaiting Model Update*>,\n",
       " (0, 3, 1, 3): <gurobi.Constr *Awaiting Model Update*>,\n",
       " (0, 3, 1, 4): <gurobi.Constr *Awaiting Model Update*>,\n",
       " (0, 3, 2, 0): <gurobi.Constr *Awaiting Model Update*>,\n",
       " (0, 3, 2, 1): <gurobi.Constr *Awaiting Model Update*>,\n",
       " (0, 3, 2, 2): <gurobi.Constr *Awaiting Model Update*>,\n",
       " (0, 3, 2, 3): <gurobi.Constr *Awaiting Model Update*>,\n",
       " (0, 3, 2, 4): <gurobi.Constr *Awaiting Model Update*>,\n",
       " (0, 4, 0, 0): <gurobi.Constr *Awaiting Model Update*>,\n",
       " (0, 4, 0, 1): <gurobi.Constr *Awaiting Model Update*>,\n",
       " (0, 4, 0, 2): <gurobi.Constr *Awaiting Model Update*>,\n",
       " (0, 4, 0, 3): <gurobi.Constr *Awaiting Model Update*>,\n",
       " (0, 4, 0, 4): <gurobi.Constr *Awaiting Model Update*>,\n",
       " (0, 4, 1, 0): <gurobi.Constr *Awaiting Model Update*>,\n",
       " (0, 4, 1, 1): <gurobi.Constr *Awaiting Model Update*>,\n",
       " (0, 4, 1, 2): <gurobi.Constr *Awaiting Model Update*>,\n",
       " (0, 4, 1, 3): <gurobi.Constr *Awaiting Model Update*>,\n",
       " (0, 4, 1, 4): <gurobi.Constr *Awaiting Model Update*>,\n",
       " (0, 4, 2, 0): <gurobi.Constr *Awaiting Model Update*>,\n",
       " (0, 4, 2, 1): <gurobi.Constr *Awaiting Model Update*>,\n",
       " (0, 4, 2, 2): <gurobi.Constr *Awaiting Model Update*>,\n",
       " (0, 4, 2, 3): <gurobi.Constr *Awaiting Model Update*>,\n",
       " (0, 4, 2, 4): <gurobi.Constr *Awaiting Model Update*>,\n",
       " (1, 0, 0, 0): <gurobi.Constr *Awaiting Model Update*>,\n",
       " (1, 0, 0, 1): <gurobi.Constr *Awaiting Model Update*>,\n",
       " (1, 0, 0, 2): <gurobi.Constr *Awaiting Model Update*>,\n",
       " (1, 0, 0, 3): <gurobi.Constr *Awaiting Model Update*>,\n",
       " (1, 0, 0, 4): <gurobi.Constr *Awaiting Model Update*>,\n",
       " (1, 0, 1, 0): <gurobi.Constr *Awaiting Model Update*>,\n",
       " (1, 0, 1, 1): <gurobi.Constr *Awaiting Model Update*>,\n",
       " (1, 0, 1, 2): <gurobi.Constr *Awaiting Model Update*>,\n",
       " (1, 0, 1, 3): <gurobi.Constr *Awaiting Model Update*>,\n",
       " (1, 0, 1, 4): <gurobi.Constr *Awaiting Model Update*>,\n",
       " (1, 0, 2, 0): <gurobi.Constr *Awaiting Model Update*>,\n",
       " (1, 0, 2, 1): <gurobi.Constr *Awaiting Model Update*>,\n",
       " (1, 0, 2, 2): <gurobi.Constr *Awaiting Model Update*>,\n",
       " (1, 0, 2, 3): <gurobi.Constr *Awaiting Model Update*>,\n",
       " (1, 0, 2, 4): <gurobi.Constr *Awaiting Model Update*>,\n",
       " (1, 1, 0, 0): <gurobi.Constr *Awaiting Model Update*>,\n",
       " (1, 1, 0, 1): <gurobi.Constr *Awaiting Model Update*>,\n",
       " (1, 1, 0, 2): <gurobi.Constr *Awaiting Model Update*>,\n",
       " (1, 1, 0, 3): <gurobi.Constr *Awaiting Model Update*>,\n",
       " (1, 1, 0, 4): <gurobi.Constr *Awaiting Model Update*>,\n",
       " (1, 1, 1, 0): <gurobi.Constr *Awaiting Model Update*>,\n",
       " (1, 1, 1, 1): <gurobi.Constr *Awaiting Model Update*>,\n",
       " (1, 1, 1, 2): <gurobi.Constr *Awaiting Model Update*>,\n",
       " (1, 1, 1, 3): <gurobi.Constr *Awaiting Model Update*>,\n",
       " (1, 1, 1, 4): <gurobi.Constr *Awaiting Model Update*>,\n",
       " (1, 1, 2, 0): <gurobi.Constr *Awaiting Model Update*>,\n",
       " (1, 1, 2, 1): <gurobi.Constr *Awaiting Model Update*>,\n",
       " (1, 1, 2, 2): <gurobi.Constr *Awaiting Model Update*>,\n",
       " (1, 1, 2, 3): <gurobi.Constr *Awaiting Model Update*>,\n",
       " (1, 1, 2, 4): <gurobi.Constr *Awaiting Model Update*>,\n",
       " (1, 2, 0, 0): <gurobi.Constr *Awaiting Model Update*>,\n",
       " (1, 2, 0, 1): <gurobi.Constr *Awaiting Model Update*>,\n",
       " (1, 2, 0, 2): <gurobi.Constr *Awaiting Model Update*>,\n",
       " (1, 2, 0, 3): <gurobi.Constr *Awaiting Model Update*>,\n",
       " (1, 2, 0, 4): <gurobi.Constr *Awaiting Model Update*>,\n",
       " (1, 2, 1, 0): <gurobi.Constr *Awaiting Model Update*>,\n",
       " (1, 2, 1, 1): <gurobi.Constr *Awaiting Model Update*>,\n",
       " (1, 2, 1, 2): <gurobi.Constr *Awaiting Model Update*>,\n",
       " (1, 2, 1, 3): <gurobi.Constr *Awaiting Model Update*>,\n",
       " (1, 2, 1, 4): <gurobi.Constr *Awaiting Model Update*>,\n",
       " (1, 2, 2, 0): <gurobi.Constr *Awaiting Model Update*>,\n",
       " (1, 2, 2, 1): <gurobi.Constr *Awaiting Model Update*>,\n",
       " (1, 2, 2, 2): <gurobi.Constr *Awaiting Model Update*>,\n",
       " (1, 2, 2, 3): <gurobi.Constr *Awaiting Model Update*>,\n",
       " (1, 2, 2, 4): <gurobi.Constr *Awaiting Model Update*>,\n",
       " (1, 3, 0, 0): <gurobi.Constr *Awaiting Model Update*>,\n",
       " (1, 3, 0, 1): <gurobi.Constr *Awaiting Model Update*>,\n",
       " (1, 3, 0, 2): <gurobi.Constr *Awaiting Model Update*>,\n",
       " (1, 3, 0, 3): <gurobi.Constr *Awaiting Model Update*>,\n",
       " (1, 3, 0, 4): <gurobi.Constr *Awaiting Model Update*>,\n",
       " (1, 3, 1, 0): <gurobi.Constr *Awaiting Model Update*>,\n",
       " (1, 3, 1, 1): <gurobi.Constr *Awaiting Model Update*>,\n",
       " (1, 3, 1, 2): <gurobi.Constr *Awaiting Model Update*>,\n",
       " (1, 3, 1, 3): <gurobi.Constr *Awaiting Model Update*>,\n",
       " (1, 3, 1, 4): <gurobi.Constr *Awaiting Model Update*>,\n",
       " (1, 3, 2, 0): <gurobi.Constr *Awaiting Model Update*>,\n",
       " (1, 3, 2, 1): <gurobi.Constr *Awaiting Model Update*>,\n",
       " (1, 3, 2, 2): <gurobi.Constr *Awaiting Model Update*>,\n",
       " (1, 3, 2, 3): <gurobi.Constr *Awaiting Model Update*>,\n",
       " (1, 3, 2, 4): <gurobi.Constr *Awaiting Model Update*>,\n",
       " (1, 4, 0, 0): <gurobi.Constr *Awaiting Model Update*>,\n",
       " (1, 4, 0, 1): <gurobi.Constr *Awaiting Model Update*>,\n",
       " (1, 4, 0, 2): <gurobi.Constr *Awaiting Model Update*>,\n",
       " (1, 4, 0, 3): <gurobi.Constr *Awaiting Model Update*>,\n",
       " (1, 4, 0, 4): <gurobi.Constr *Awaiting Model Update*>,\n",
       " (1, 4, 1, 0): <gurobi.Constr *Awaiting Model Update*>,\n",
       " (1, 4, 1, 1): <gurobi.Constr *Awaiting Model Update*>,\n",
       " (1, 4, 1, 2): <gurobi.Constr *Awaiting Model Update*>,\n",
       " (1, 4, 1, 3): <gurobi.Constr *Awaiting Model Update*>,\n",
       " (1, 4, 1, 4): <gurobi.Constr *Awaiting Model Update*>,\n",
       " (1, 4, 2, 0): <gurobi.Constr *Awaiting Model Update*>,\n",
       " (1, 4, 2, 1): <gurobi.Constr *Awaiting Model Update*>,\n",
       " (1, 4, 2, 2): <gurobi.Constr *Awaiting Model Update*>,\n",
       " (1, 4, 2, 3): <gurobi.Constr *Awaiting Model Update*>,\n",
       " (1, 4, 2, 4): <gurobi.Constr *Awaiting Model Update*>,\n",
       " (2, 0, 0, 0): <gurobi.Constr *Awaiting Model Update*>,\n",
       " (2, 0, 0, 1): <gurobi.Constr *Awaiting Model Update*>,\n",
       " (2, 0, 0, 2): <gurobi.Constr *Awaiting Model Update*>,\n",
       " (2, 0, 0, 3): <gurobi.Constr *Awaiting Model Update*>,\n",
       " (2, 0, 0, 4): <gurobi.Constr *Awaiting Model Update*>,\n",
       " (2, 0, 1, 0): <gurobi.Constr *Awaiting Model Update*>,\n",
       " (2, 0, 1, 1): <gurobi.Constr *Awaiting Model Update*>,\n",
       " (2, 0, 1, 2): <gurobi.Constr *Awaiting Model Update*>,\n",
       " (2, 0, 1, 3): <gurobi.Constr *Awaiting Model Update*>,\n",
       " (2, 0, 1, 4): <gurobi.Constr *Awaiting Model Update*>,\n",
       " (2, 0, 2, 0): <gurobi.Constr *Awaiting Model Update*>,\n",
       " (2, 0, 2, 1): <gurobi.Constr *Awaiting Model Update*>,\n",
       " (2, 0, 2, 2): <gurobi.Constr *Awaiting Model Update*>,\n",
       " (2, 0, 2, 3): <gurobi.Constr *Awaiting Model Update*>,\n",
       " (2, 0, 2, 4): <gurobi.Constr *Awaiting Model Update*>,\n",
       " (2, 1, 0, 0): <gurobi.Constr *Awaiting Model Update*>,\n",
       " (2, 1, 0, 1): <gurobi.Constr *Awaiting Model Update*>,\n",
       " (2, 1, 0, 2): <gurobi.Constr *Awaiting Model Update*>,\n",
       " (2, 1, 0, 3): <gurobi.Constr *Awaiting Model Update*>,\n",
       " (2, 1, 0, 4): <gurobi.Constr *Awaiting Model Update*>,\n",
       " (2, 1, 1, 0): <gurobi.Constr *Awaiting Model Update*>,\n",
       " (2, 1, 1, 1): <gurobi.Constr *Awaiting Model Update*>,\n",
       " (2, 1, 1, 2): <gurobi.Constr *Awaiting Model Update*>,\n",
       " (2, 1, 1, 3): <gurobi.Constr *Awaiting Model Update*>,\n",
       " (2, 1, 1, 4): <gurobi.Constr *Awaiting Model Update*>,\n",
       " (2, 1, 2, 0): <gurobi.Constr *Awaiting Model Update*>,\n",
       " (2, 1, 2, 1): <gurobi.Constr *Awaiting Model Update*>,\n",
       " (2, 1, 2, 2): <gurobi.Constr *Awaiting Model Update*>,\n",
       " (2, 1, 2, 3): <gurobi.Constr *Awaiting Model Update*>,\n",
       " (2, 1, 2, 4): <gurobi.Constr *Awaiting Model Update*>,\n",
       " (2, 2, 0, 0): <gurobi.Constr *Awaiting Model Update*>,\n",
       " (2, 2, 0, 1): <gurobi.Constr *Awaiting Model Update*>,\n",
       " (2, 2, 0, 2): <gurobi.Constr *Awaiting Model Update*>,\n",
       " (2, 2, 0, 3): <gurobi.Constr *Awaiting Model Update*>,\n",
       " (2, 2, 0, 4): <gurobi.Constr *Awaiting Model Update*>,\n",
       " (2, 2, 1, 0): <gurobi.Constr *Awaiting Model Update*>,\n",
       " (2, 2, 1, 1): <gurobi.Constr *Awaiting Model Update*>,\n",
       " (2, 2, 1, 2): <gurobi.Constr *Awaiting Model Update*>,\n",
       " (2, 2, 1, 3): <gurobi.Constr *Awaiting Model Update*>,\n",
       " (2, 2, 1, 4): <gurobi.Constr *Awaiting Model Update*>,\n",
       " (2, 2, 2, 0): <gurobi.Constr *Awaiting Model Update*>,\n",
       " (2, 2, 2, 1): <gurobi.Constr *Awaiting Model Update*>,\n",
       " (2, 2, 2, 2): <gurobi.Constr *Awaiting Model Update*>,\n",
       " (2, 2, 2, 3): <gurobi.Constr *Awaiting Model Update*>,\n",
       " (2, 2, 2, 4): <gurobi.Constr *Awaiting Model Update*>,\n",
       " (2, 3, 0, 0): <gurobi.Constr *Awaiting Model Update*>,\n",
       " (2, 3, 0, 1): <gurobi.Constr *Awaiting Model Update*>,\n",
       " (2, 3, 0, 2): <gurobi.Constr *Awaiting Model Update*>,\n",
       " (2, 3, 0, 3): <gurobi.Constr *Awaiting Model Update*>,\n",
       " (2, 3, 0, 4): <gurobi.Constr *Awaiting Model Update*>,\n",
       " (2, 3, 1, 0): <gurobi.Constr *Awaiting Model Update*>,\n",
       " (2, 3, 1, 1): <gurobi.Constr *Awaiting Model Update*>,\n",
       " (2, 3, 1, 2): <gurobi.Constr *Awaiting Model Update*>,\n",
       " (2, 3, 1, 3): <gurobi.Constr *Awaiting Model Update*>,\n",
       " (2, 3, 1, 4): <gurobi.Constr *Awaiting Model Update*>,\n",
       " (2, 3, 2, 0): <gurobi.Constr *Awaiting Model Update*>,\n",
       " (2, 3, 2, 1): <gurobi.Constr *Awaiting Model Update*>,\n",
       " (2, 3, 2, 2): <gurobi.Constr *Awaiting Model Update*>,\n",
       " (2, 3, 2, 3): <gurobi.Constr *Awaiting Model Update*>,\n",
       " (2, 3, 2, 4): <gurobi.Constr *Awaiting Model Update*>,\n",
       " (2, 4, 0, 0): <gurobi.Constr *Awaiting Model Update*>,\n",
       " (2, 4, 0, 1): <gurobi.Constr *Awaiting Model Update*>,\n",
       " (2, 4, 0, 2): <gurobi.Constr *Awaiting Model Update*>,\n",
       " (2, 4, 0, 3): <gurobi.Constr *Awaiting Model Update*>,\n",
       " (2, 4, 0, 4): <gurobi.Constr *Awaiting Model Update*>,\n",
       " (2, 4, 1, 0): <gurobi.Constr *Awaiting Model Update*>,\n",
       " (2, 4, 1, 1): <gurobi.Constr *Awaiting Model Update*>,\n",
       " (2, 4, 1, 2): <gurobi.Constr *Awaiting Model Update*>,\n",
       " (2, 4, 1, 3): <gurobi.Constr *Awaiting Model Update*>,\n",
       " (2, 4, 1, 4): <gurobi.Constr *Awaiting Model Update*>,\n",
       " (2, 4, 2, 0): <gurobi.Constr *Awaiting Model Update*>,\n",
       " (2, 4, 2, 1): <gurobi.Constr *Awaiting Model Update*>,\n",
       " (2, 4, 2, 2): <gurobi.Constr *Awaiting Model Update*>,\n",
       " (2, 4, 2, 3): <gurobi.Constr *Awaiting Model Update*>,\n",
       " (2, 4, 2, 4): <gurobi.Constr *Awaiting Model Update*>}"
      ]
     },
     "execution_count": 12,
     "metadata": {},
     "output_type": "execute_result"
    }
   ],
   "source": [
    "model.addConstrs(\n",
    "    (\n",
    "        works_worker_job_skill_day[worker, job, skill, day] <= qualifications_worker_skill[worker, skill]\n",
    "        for worker in range(worker_length)\n",
    "        for job in range(job_length)\n",
    "        for skill in range(skill_length)\n",
    "        for day in range(day_length)\n",
    "    ),\n",
    "    name=\"qualification\",\n",
    ")"
   ]
  },
  {
   "attachments": {},
   "cell_type": "markdown",
   "metadata": {},
   "source": [
    "- Uniqueness of the daily assignement : *done with the vacation constraint (see below)*"
   ]
  },
  {
   "attachments": {},
   "cell_type": "markdown",
   "metadata": {},
   "source": [
    "- Vacation constraint"
   ]
  },
  {
   "cell_type": "code",
   "execution_count": 13,
   "metadata": {},
   "outputs": [
    {
     "data": {
      "text/plain": [
       "{(0, 0): <gurobi.Constr *Awaiting Model Update*>,\n",
       " (0, 1): <gurobi.Constr *Awaiting Model Update*>,\n",
       " (0, 2): <gurobi.Constr *Awaiting Model Update*>,\n",
       " (0, 3): <gurobi.Constr *Awaiting Model Update*>,\n",
       " (0, 4): <gurobi.Constr *Awaiting Model Update*>,\n",
       " (1, 0): <gurobi.Constr *Awaiting Model Update*>,\n",
       " (1, 1): <gurobi.Constr *Awaiting Model Update*>,\n",
       " (1, 2): <gurobi.Constr *Awaiting Model Update*>,\n",
       " (1, 3): <gurobi.Constr *Awaiting Model Update*>,\n",
       " (1, 4): <gurobi.Constr *Awaiting Model Update*>,\n",
       " (2, 0): <gurobi.Constr *Awaiting Model Update*>,\n",
       " (2, 1): <gurobi.Constr *Awaiting Model Update*>,\n",
       " (2, 2): <gurobi.Constr *Awaiting Model Update*>,\n",
       " (2, 3): <gurobi.Constr *Awaiting Model Update*>,\n",
       " (2, 4): <gurobi.Constr *Awaiting Model Update*>}"
      ]
     },
     "execution_count": 13,
     "metadata": {},
     "output_type": "execute_result"
    }
   ],
   "source": [
    "model.addConstrs(\n",
    "    (\n",
    "        grb.quicksum(works_worker_job_skill_day[worker, job, skill, day] for job in range(job_length) for skill in range(skill_length)) \\\n",
    "            <= 1 - vacations_worker_day[worker, day]\n",
    "        for worker in range(worker_length)\n",
    "        for day in range(day_length)\n",
    "    ),\n",
    "    name=\"vacation\",\n",
    ")"
   ]
  },
  {
   "attachments": {},
   "cell_type": "markdown",
   "metadata": {},
   "source": [
    "- Job coverage constraint"
   ]
  },
  {
   "cell_type": "code",
   "execution_count": 14,
   "metadata": {},
   "outputs": [
    {
     "data": {
      "text/plain": [
       "{(0, 0): <gurobi.Constr *Awaiting Model Update*>,\n",
       " (0, 1): <gurobi.Constr *Awaiting Model Update*>,\n",
       " (0, 2): <gurobi.Constr *Awaiting Model Update*>,\n",
       " (1, 0): <gurobi.Constr *Awaiting Model Update*>,\n",
       " (1, 1): <gurobi.Constr *Awaiting Model Update*>,\n",
       " (1, 2): <gurobi.Constr *Awaiting Model Update*>,\n",
       " (2, 0): <gurobi.Constr *Awaiting Model Update*>,\n",
       " (2, 1): <gurobi.Constr *Awaiting Model Update*>,\n",
       " (2, 2): <gurobi.Constr *Awaiting Model Update*>,\n",
       " (3, 0): <gurobi.Constr *Awaiting Model Update*>,\n",
       " (3, 1): <gurobi.Constr *Awaiting Model Update*>,\n",
       " (3, 2): <gurobi.Constr *Awaiting Model Update*>,\n",
       " (4, 0): <gurobi.Constr *Awaiting Model Update*>,\n",
       " (4, 1): <gurobi.Constr *Awaiting Model Update*>,\n",
       " (4, 2): <gurobi.Constr *Awaiting Model Update*>}"
      ]
     },
     "execution_count": 14,
     "metadata": {},
     "output_type": "execute_result"
    }
   ],
   "source": [
    "model.addConstrs(\n",
    "    (\n",
    "        grb.quicksum(works_worker_job_skill_day[worker, job, skill, day] for worker in range(worker_length) for day in range(day_length)) \\\n",
    "            == is_realized_job[job] * work_days_job_skill[job, skill]\n",
    "        for job in range(job_length)\n",
    "        for skill in range(skill_length)\n",
    "    ),\n",
    "    name=\"job_coverage\",\n",
    ")"
   ]
  },
  {
   "attachments": {},
   "cell_type": "markdown",
   "metadata": {},
   "source": [
    "- Uniqueness of the realized projects : *done with realized_job either 0 or 1*"
   ]
  },
  {
   "attachments": {},
   "cell_type": "markdown",
   "metadata": {},
   "source": [
    "#### Variable Constraints\n",
    "\n",
    "Define the constraints that are related to the definition of additional variables."
   ]
  },
  {
   "attachments": {},
   "cell_type": "markdown",
   "metadata": {},
   "source": [
    "- Is realized : *done with job coverage constraint*"
   ]
  },
  {
   "attachments": {},
   "cell_type": "markdown",
   "metadata": {},
   "source": [
    "- Is worked"
   ]
  },
  {
   "cell_type": "code",
   "execution_count": 15,
   "metadata": {},
   "outputs": [
    {
     "data": {
      "text/plain": [
       "{(0, 0): <gurobi.Constr *Awaiting Model Update*>,\n",
       " (0, 1): <gurobi.Constr *Awaiting Model Update*>,\n",
       " (0, 2): <gurobi.Constr *Awaiting Model Update*>,\n",
       " (0, 3): <gurobi.Constr *Awaiting Model Update*>,\n",
       " (0, 4): <gurobi.Constr *Awaiting Model Update*>,\n",
       " (1, 0): <gurobi.Constr *Awaiting Model Update*>,\n",
       " (1, 1): <gurobi.Constr *Awaiting Model Update*>,\n",
       " (1, 2): <gurobi.Constr *Awaiting Model Update*>,\n",
       " (1, 3): <gurobi.Constr *Awaiting Model Update*>,\n",
       " (1, 4): <gurobi.Constr *Awaiting Model Update*>,\n",
       " (2, 0): <gurobi.Constr *Awaiting Model Update*>,\n",
       " (2, 1): <gurobi.Constr *Awaiting Model Update*>,\n",
       " (2, 2): <gurobi.Constr *Awaiting Model Update*>,\n",
       " (2, 3): <gurobi.Constr *Awaiting Model Update*>,\n",
       " (2, 4): <gurobi.Constr *Awaiting Model Update*>,\n",
       " (3, 0): <gurobi.Constr *Awaiting Model Update*>,\n",
       " (3, 1): <gurobi.Constr *Awaiting Model Update*>,\n",
       " (3, 2): <gurobi.Constr *Awaiting Model Update*>,\n",
       " (3, 3): <gurobi.Constr *Awaiting Model Update*>,\n",
       " (3, 4): <gurobi.Constr *Awaiting Model Update*>,\n",
       " (4, 0): <gurobi.Constr *Awaiting Model Update*>,\n",
       " (4, 1): <gurobi.Constr *Awaiting Model Update*>,\n",
       " (4, 2): <gurobi.Constr *Awaiting Model Update*>,\n",
       " (4, 3): <gurobi.Constr *Awaiting Model Update*>,\n",
       " (4, 4): <gurobi.Constr *Awaiting Model Update*>}"
      ]
     },
     "execution_count": 15,
     "metadata": {},
     "output_type": "execute_result"
    }
   ],
   "source": [
    "# exists_worker_skill works == 1 => is_worked == 1\n",
    "model.addConstrs(\n",
    "    (\n",
    "        works_worker_job_skill_day[worker, job, skill, day] <= is_worked_job_day[job, day]\n",
    "        for worker in range(worker_length)\n",
    "        for job in range(job_length)\n",
    "        for skill in range(skill_length)\n",
    "        for day in range(day_length)\n",
    "    ),\n",
    "    name=\"is_worked_job_day\",\n",
    ")\n",
    "# forall_worker_skill works == 0 => is_worked == 0\n",
    "model.addConstrs(\n",
    "    (\n",
    "        is_worked_job_day[job, day] <= \\\n",
    "            grb.quicksum(\n",
    "                works_worker_job_skill_day[worker, job, skill, day]\n",
    "                for worker in range(worker_length)\n",
    "                for skill in range(skill_length)\n",
    "            )\n",
    "        for job in range(job_length)\n",
    "        for day in range(day_length)\n",
    "    ),\n",
    "    name=\"is_worked_job_day_bis\",\n",
    ")"
   ]
  },
  {
   "attachments": {},
   "cell_type": "markdown",
   "metadata": {},
   "source": [
    "- Maximum duration"
   ]
  },
  {
   "cell_type": "code",
   "execution_count": 16,
   "metadata": {},
   "outputs": [
    {
     "data": {
      "text/plain": [
       "{0: <gurobi.Constr *Awaiting Model Update*>,\n",
       " 1: <gurobi.Constr *Awaiting Model Update*>,\n",
       " 2: <gurobi.Constr *Awaiting Model Update*>,\n",
       " 3: <gurobi.Constr *Awaiting Model Update*>,\n",
       " 4: <gurobi.Constr *Awaiting Model Update*>}"
      ]
     },
     "execution_count": 16,
     "metadata": {},
     "output_type": "execute_result"
    }
   ],
   "source": [
    "model.addConstrs(\n",
    "    (\n",
    "        grb.quicksum(is_worked_job_day[job, day] for day in range(day_length)) \\\n",
    "            <= max_duration\n",
    "        for job in range(job_length)\n",
    "    ),\n",
    "    name=\"max_duration\",\n",
    ")"
   ]
  },
  {
   "cell_type": "markdown",
   "metadata": {},
   "source": [
    "- Is assigned"
   ]
  },
  {
   "cell_type": "code",
   "execution_count": 17,
   "metadata": {},
   "outputs": [
    {
     "data": {
      "text/plain": [
       "{(0, 0): <gurobi.Constr *Awaiting Model Update*>,\n",
       " (0, 1): <gurobi.Constr *Awaiting Model Update*>,\n",
       " (0, 2): <gurobi.Constr *Awaiting Model Update*>,\n",
       " (0, 3): <gurobi.Constr *Awaiting Model Update*>,\n",
       " (0, 4): <gurobi.Constr *Awaiting Model Update*>,\n",
       " (1, 0): <gurobi.Constr *Awaiting Model Update*>,\n",
       " (1, 1): <gurobi.Constr *Awaiting Model Update*>,\n",
       " (1, 2): <gurobi.Constr *Awaiting Model Update*>,\n",
       " (1, 3): <gurobi.Constr *Awaiting Model Update*>,\n",
       " (1, 4): <gurobi.Constr *Awaiting Model Update*>,\n",
       " (2, 0): <gurobi.Constr *Awaiting Model Update*>,\n",
       " (2, 1): <gurobi.Constr *Awaiting Model Update*>,\n",
       " (2, 2): <gurobi.Constr *Awaiting Model Update*>,\n",
       " (2, 3): <gurobi.Constr *Awaiting Model Update*>,\n",
       " (2, 4): <gurobi.Constr *Awaiting Model Update*>}"
      ]
     },
     "execution_count": 17,
     "metadata": {},
     "output_type": "execute_result"
    }
   ],
   "source": [
    "# exists_skill_day works == 1 => is_assigned == 1\n",
    "model.addConstrs(\n",
    "    (\n",
    "        works_worker_job_skill_day[worker, job, skill, day] <= is_assigned_worker_job[worker, job]\n",
    "        for worker in range(worker_length)\n",
    "        for job in range(job_length)\n",
    "        for skill in range(skill_length)\n",
    "        for day in range(day_length)\n",
    "    ),\n",
    "    name=\"is_assigned_worker_job\",\n",
    ")\n",
    "# forall_skill_day works == 0 => is_assigned == 0\n",
    "model.addConstrs(\n",
    "    (\n",
    "        is_assigned_worker_job[worker, job] <= \\\n",
    "            grb.quicksum(\n",
    "                works_worker_job_skill_day[worker, job, skill, day]\n",
    "                for skill in range(skill_length)\n",
    "                for day in range(day_length)\n",
    "            )\n",
    "        for worker in range(worker_length)\n",
    "        for job in range(job_length)\n",
    "    ),\n",
    "    name=\"is_assigned_worker_job_bis\",\n",
    ")"
   ]
  },
  {
   "attachments": {},
   "cell_type": "markdown",
   "metadata": {},
   "source": [
    "- Maximum assigned"
   ]
  },
  {
   "cell_type": "code",
   "execution_count": 18,
   "metadata": {},
   "outputs": [
    {
     "data": {
      "text/plain": [
       "{0: <gurobi.Constr *Awaiting Model Update*>,\n",
       " 1: <gurobi.Constr *Awaiting Model Update*>,\n",
       " 2: <gurobi.Constr *Awaiting Model Update*>}"
      ]
     },
     "execution_count": 18,
     "metadata": {},
     "output_type": "execute_result"
    }
   ],
   "source": [
    "model.addConstrs(\n",
    "    (\n",
    "        grb.quicksum(is_assigned_worker_job[worker, job] for job in range(job_length)) \\\n",
    "            <= max_assigned\n",
    "        for worker in range(worker_length)\n",
    "    ),\n",
    "    name=\"max_assigned\",\n",
    ")"
   ]
  },
  {
   "attachments": {},
   "cell_type": "markdown",
   "metadata": {},
   "source": [
    "### Objectives"
   ]
  },
  {
   "cell_type": "code",
   "execution_count": 20,
   "metadata": {},
   "outputs": [],
   "source": [
    "# Add primary objective\n",
    "model.setObjective(\n",
    "  grb.quicksum(\n",
    "    gains_job[job] * is_realized_job[job] \\\n",
    "      - penalties_job[job] * grb.quicksum(\n",
    "        is_worked_job_day[job, day]\n",
    "        for day in range(due_dates_job[job], day_length)\n",
    "      )\n",
    "    for job in range(job_length)\n",
    "  ),\n",
    "  GRB.MAXIMIZE,\n",
    ")\n",
    "\n",
    "# Add multi-objective functions\n",
    "model.ModelSense = GRB.MINIMIZE\n",
    "model.setObjectiveN(\n",
    "  max_assigned,\n",
    "  0,\n",
    "  2,\n",
    ")\n",
    "model.setObjectiveN(\n",
    "  max_duration,\n",
    "  1,\n",
    "  1,\n",
    ")"
   ]
  }
 ],
 "metadata": {
  "kernelspec": {
   "display_name": "Python 3",
   "language": "python",
   "name": "python3"
  },
  "language_info": {
   "codemirror_mode": {
    "name": "ipython",
    "version": 3
   },
   "file_extension": ".py",
   "mimetype": "text/x-python",
   "name": "python",
   "nbconvert_exporter": "python",
   "pygments_lexer": "ipython3",
   "version": "3.10.4"
  },
  "orig_nbformat": 4,
  "vscode": {
   "interpreter": {
    "hash": "5372fa4cf8c924fc741702be56b11c428b552d59c4a502a0fb32c9af273f7d1e"
   }
  }
 },
 "nbformat": 4,
 "nbformat_minor": 2
}
