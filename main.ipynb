{
 "cells": [
  {
   "attachments": {},
   "cell_type": "markdown",
   "metadata": {},
   "source": [
    "# CompuOpti"
   ]
  },
  {
   "cell_type": "code",
   "execution_count": 774,
   "metadata": {},
   "outputs": [],
   "source": [
    "import os\n",
    "import json\n",
    "\n",
    "import numpy as np\n",
    "import gurobipy as grb\n",
    "from gurobipy import GRB"
   ]
  },
  {
   "cell_type": "code",
   "execution_count": 775,
   "metadata": {},
   "outputs": [],
   "source": [
    "INF = 2 ** 64"
   ]
  },
  {
   "cell_type": "code",
   "execution_count": 776,
   "metadata": {},
   "outputs": [],
   "source": [
    "model = grb.Model()"
   ]
  },
  {
   "cell_type": "code",
   "execution_count": 777,
   "metadata": {},
   "outputs": [],
   "source": [
    "instance = \"toy_instance.json\"\n",
    "\n",
    "file = os.path.join(\"instances\", instance)\n",
    "data = json.load(open(file, \"r\"))"
   ]
  },
  {
   "attachments": {},
   "cell_type": "markdown",
   "metadata": {},
   "source": [
    "## Modeling"
   ]
  },
  {
   "attachments": {},
   "cell_type": "markdown",
   "metadata": {},
   "source": [
    "### Parameters of the problem"
   ]
  },
  {
   "attachments": {},
   "cell_type": "markdown",
   "metadata": {},
   "source": [
    "Define the length of indices"
   ]
  },
  {
   "cell_type": "code",
   "execution_count": 778,
   "metadata": {},
   "outputs": [],
   "source": [
    "# Number of workers\n",
    "worker_length = len(data[\"staff\"])\n",
    "\n",
    "# Number of jobs\n",
    "job_length = len(data[\"jobs\"])\n",
    "\n",
    "# Number of skills\n",
    "skill_length = len(data[\"qualifications\"])\n",
    "\n",
    "# Number of days\n",
    "day_length = data[\"horizon\"]"
   ]
  },
  {
   "attachments": {},
   "cell_type": "markdown",
   "metadata": {},
   "source": [
    "Define jobs parameters"
   ]
  },
  {
   "cell_type": "code",
   "execution_count": 779,
   "metadata": {},
   "outputs": [],
   "source": [
    "gains_job = np.array([job[\"gain\"] for job in data[\"jobs\"]])\n",
    "penalties_job = np.array([job[\"daily_penalty\"] for job in data[\"jobs\"]])\n",
    "due_dates_job = np.array([job[\"due_date\"] for job in data[\"jobs\"]])\n",
    "work_days_job_skill = np.array([\n",
    "    [\n",
    "        job[\"working_days_per_qualification\"][skill] if skill in job[\"working_days_per_qualification\"] else 0\n",
    "        for skill in data[\"qualifications\"]\n",
    "    ]\n",
    "    for job in data[\"jobs\"]\n",
    "])"
   ]
  },
  {
   "attachments": {},
   "cell_type": "markdown",
   "metadata": {},
   "source": [
    "Define staff parameters"
   ]
  },
  {
   "cell_type": "code",
   "execution_count": 780,
   "metadata": {},
   "outputs": [],
   "source": [
    "qualifications_worker_skill = np.array([\n",
    "    [\n",
    "        1 if skill in worker[\"qualifications\"] else 0\n",
    "        for skill in data[\"qualifications\"]\n",
    "    ]\n",
    "    for worker in data[\"staff\"]\n",
    "])\n",
    "vacations_worker_day = np.array([\n",
    "    [\n",
    "        1 if 1 + day in worker[\"vacations\"] else 0\n",
    "        for day in range(day_length)\n",
    "    ]\n",
    "    for worker in data[\"staff\"]\n",
    "])"
   ]
  },
  {
   "attachments": {},
   "cell_type": "markdown",
   "metadata": {},
   "source": [
    "### Decision variables"
   ]
  },
  {
   "attachments": {},
   "cell_type": "markdown",
   "metadata": {},
   "source": [
    "Variable to model the full solution"
   ]
  },
  {
   "cell_type": "code",
   "execution_count": 781,
   "metadata": {},
   "outputs": [],
   "source": [
    "# 4-D array of binary variables : 1 if a worker is assigned to a certain project for a certain skill on a certain day, else 0\n",
    "works_worker_job_skill_day = model.addVars(worker_length, job_length, skill_length, day_length, vtype=GRB.BINARY, name=\"work\")"
   ]
  },
  {
   "attachments": {},
   "cell_type": "markdown",
   "metadata": {},
   "source": [
    "Variables to compute the total gain"
   ]
  },
  {
   "cell_type": "code",
   "execution_count": 782,
   "metadata": {},
   "outputs": [],
   "source": [
    "is_realized_job = model.addVars(job_length, vtype=GRB.BINARY, name=\"is_realized\") # 1 if a job is realized, else 0"
   ]
  },
  {
   "attachments": {},
   "cell_type": "markdown",
   "metadata": {},
   "source": [
    "Variable to compute the maximum duration (and the penalties)"
   ]
  },
  {
   "cell_type": "code",
   "execution_count": 783,
   "metadata": {},
   "outputs": [],
   "source": [
    "started_after_job_day = model.addVars(job_length, day_length, vtype=GRB.BINARY, name=\"started_after\") # 1 if a job is started after a certain day, else 0\n",
    "finished_before_job_day = model.addVars(job_length, day_length, vtype=GRB.BINARY, name=\"finished_before\") # 1 if a job is finished before a certain day, else 0\n",
    "max_duration = model.addVar(vtype=GRB.INTEGER, name=\"max_duration\") # Integer that represents the maximum duration for any job"
   ]
  },
  {
   "attachments": {},
   "cell_type": "markdown",
   "metadata": {},
   "source": [
    "Variables to compute the maximum assignement"
   ]
  },
  {
   "cell_type": "code",
   "execution_count": 784,
   "metadata": {},
   "outputs": [],
   "source": [
    "is_assigned_worker_job = model.addVars(worker_length, job_length, vtype=GRB.BINARY, name=\"is_assigned\") # 1 if a certain worker is assigned on a certain job, else 0\n",
    "max_assigned = model.addVar(vtype=GRB.INTEGER, name=\"max_assigned\") # Integer that represents the maximum number of assigned jobs for any worker"
   ]
  },
  {
   "attachments": {},
   "cell_type": "markdown",
   "metadata": {},
   "source": [
    "### Constraints"
   ]
  },
  {
   "attachments": {},
   "cell_type": "markdown",
   "metadata": {},
   "source": [
    "#### Time Table Constraints\n",
    "\n",
    "Define the constraints of the planning problem itself."
   ]
  },
  {
   "attachments": {},
   "cell_type": "markdown",
   "metadata": {},
   "source": [
    "- Worker qualification constraint"
   ]
  },
  {
   "cell_type": "code",
   "execution_count": 785,
   "metadata": {},
   "outputs": [
    {
     "data": {
      "text/plain": [
       "{(0, 0, 0, 0): <gurobi.Constr *Awaiting Model Update*>,\n",
       " (0, 0, 0, 1): <gurobi.Constr *Awaiting Model Update*>,\n",
       " (0, 0, 0, 2): <gurobi.Constr *Awaiting Model Update*>,\n",
       " (0, 0, 0, 3): <gurobi.Constr *Awaiting Model Update*>,\n",
       " (0, 0, 0, 4): <gurobi.Constr *Awaiting Model Update*>,\n",
       " (0, 0, 1, 0): <gurobi.Constr *Awaiting Model Update*>,\n",
       " (0, 0, 1, 1): <gurobi.Constr *Awaiting Model Update*>,\n",
       " (0, 0, 1, 2): <gurobi.Constr *Awaiting Model Update*>,\n",
       " (0, 0, 1, 3): <gurobi.Constr *Awaiting Model Update*>,\n",
       " (0, 0, 1, 4): <gurobi.Constr *Awaiting Model Update*>,\n",
       " (0, 0, 2, 0): <gurobi.Constr *Awaiting Model Update*>,\n",
       " (0, 0, 2, 1): <gurobi.Constr *Awaiting Model Update*>,\n",
       " (0, 0, 2, 2): <gurobi.Constr *Awaiting Model Update*>,\n",
       " (0, 0, 2, 3): <gurobi.Constr *Awaiting Model Update*>,\n",
       " (0, 0, 2, 4): <gurobi.Constr *Awaiting Model Update*>,\n",
       " (0, 1, 0, 0): <gurobi.Constr *Awaiting Model Update*>,\n",
       " (0, 1, 0, 1): <gurobi.Constr *Awaiting Model Update*>,\n",
       " (0, 1, 0, 2): <gurobi.Constr *Awaiting Model Update*>,\n",
       " (0, 1, 0, 3): <gurobi.Constr *Awaiting Model Update*>,\n",
       " (0, 1, 0, 4): <gurobi.Constr *Awaiting Model Update*>,\n",
       " (0, 1, 1, 0): <gurobi.Constr *Awaiting Model Update*>,\n",
       " (0, 1, 1, 1): <gurobi.Constr *Awaiting Model Update*>,\n",
       " (0, 1, 1, 2): <gurobi.Constr *Awaiting Model Update*>,\n",
       " (0, 1, 1, 3): <gurobi.Constr *Awaiting Model Update*>,\n",
       " (0, 1, 1, 4): <gurobi.Constr *Awaiting Model Update*>,\n",
       " (0, 1, 2, 0): <gurobi.Constr *Awaiting Model Update*>,\n",
       " (0, 1, 2, 1): <gurobi.Constr *Awaiting Model Update*>,\n",
       " (0, 1, 2, 2): <gurobi.Constr *Awaiting Model Update*>,\n",
       " (0, 1, 2, 3): <gurobi.Constr *Awaiting Model Update*>,\n",
       " (0, 1, 2, 4): <gurobi.Constr *Awaiting Model Update*>,\n",
       " (0, 2, 0, 0): <gurobi.Constr *Awaiting Model Update*>,\n",
       " (0, 2, 0, 1): <gurobi.Constr *Awaiting Model Update*>,\n",
       " (0, 2, 0, 2): <gurobi.Constr *Awaiting Model Update*>,\n",
       " (0, 2, 0, 3): <gurobi.Constr *Awaiting Model Update*>,\n",
       " (0, 2, 0, 4): <gurobi.Constr *Awaiting Model Update*>,\n",
       " (0, 2, 1, 0): <gurobi.Constr *Awaiting Model Update*>,\n",
       " (0, 2, 1, 1): <gurobi.Constr *Awaiting Model Update*>,\n",
       " (0, 2, 1, 2): <gurobi.Constr *Awaiting Model Update*>,\n",
       " (0, 2, 1, 3): <gurobi.Constr *Awaiting Model Update*>,\n",
       " (0, 2, 1, 4): <gurobi.Constr *Awaiting Model Update*>,\n",
       " (0, 2, 2, 0): <gurobi.Constr *Awaiting Model Update*>,\n",
       " (0, 2, 2, 1): <gurobi.Constr *Awaiting Model Update*>,\n",
       " (0, 2, 2, 2): <gurobi.Constr *Awaiting Model Update*>,\n",
       " (0, 2, 2, 3): <gurobi.Constr *Awaiting Model Update*>,\n",
       " (0, 2, 2, 4): <gurobi.Constr *Awaiting Model Update*>,\n",
       " (0, 3, 0, 0): <gurobi.Constr *Awaiting Model Update*>,\n",
       " (0, 3, 0, 1): <gurobi.Constr *Awaiting Model Update*>,\n",
       " (0, 3, 0, 2): <gurobi.Constr *Awaiting Model Update*>,\n",
       " (0, 3, 0, 3): <gurobi.Constr *Awaiting Model Update*>,\n",
       " (0, 3, 0, 4): <gurobi.Constr *Awaiting Model Update*>,\n",
       " (0, 3, 1, 0): <gurobi.Constr *Awaiting Model Update*>,\n",
       " (0, 3, 1, 1): <gurobi.Constr *Awaiting Model Update*>,\n",
       " (0, 3, 1, 2): <gurobi.Constr *Awaiting Model Update*>,\n",
       " (0, 3, 1, 3): <gurobi.Constr *Awaiting Model Update*>,\n",
       " (0, 3, 1, 4): <gurobi.Constr *Awaiting Model Update*>,\n",
       " (0, 3, 2, 0): <gurobi.Constr *Awaiting Model Update*>,\n",
       " (0, 3, 2, 1): <gurobi.Constr *Awaiting Model Update*>,\n",
       " (0, 3, 2, 2): <gurobi.Constr *Awaiting Model Update*>,\n",
       " (0, 3, 2, 3): <gurobi.Constr *Awaiting Model Update*>,\n",
       " (0, 3, 2, 4): <gurobi.Constr *Awaiting Model Update*>,\n",
       " (0, 4, 0, 0): <gurobi.Constr *Awaiting Model Update*>,\n",
       " (0, 4, 0, 1): <gurobi.Constr *Awaiting Model Update*>,\n",
       " (0, 4, 0, 2): <gurobi.Constr *Awaiting Model Update*>,\n",
       " (0, 4, 0, 3): <gurobi.Constr *Awaiting Model Update*>,\n",
       " (0, 4, 0, 4): <gurobi.Constr *Awaiting Model Update*>,\n",
       " (0, 4, 1, 0): <gurobi.Constr *Awaiting Model Update*>,\n",
       " (0, 4, 1, 1): <gurobi.Constr *Awaiting Model Update*>,\n",
       " (0, 4, 1, 2): <gurobi.Constr *Awaiting Model Update*>,\n",
       " (0, 4, 1, 3): <gurobi.Constr *Awaiting Model Update*>,\n",
       " (0, 4, 1, 4): <gurobi.Constr *Awaiting Model Update*>,\n",
       " (0, 4, 2, 0): <gurobi.Constr *Awaiting Model Update*>,\n",
       " (0, 4, 2, 1): <gurobi.Constr *Awaiting Model Update*>,\n",
       " (0, 4, 2, 2): <gurobi.Constr *Awaiting Model Update*>,\n",
       " (0, 4, 2, 3): <gurobi.Constr *Awaiting Model Update*>,\n",
       " (0, 4, 2, 4): <gurobi.Constr *Awaiting Model Update*>,\n",
       " (1, 0, 0, 0): <gurobi.Constr *Awaiting Model Update*>,\n",
       " (1, 0, 0, 1): <gurobi.Constr *Awaiting Model Update*>,\n",
       " (1, 0, 0, 2): <gurobi.Constr *Awaiting Model Update*>,\n",
       " (1, 0, 0, 3): <gurobi.Constr *Awaiting Model Update*>,\n",
       " (1, 0, 0, 4): <gurobi.Constr *Awaiting Model Update*>,\n",
       " (1, 0, 1, 0): <gurobi.Constr *Awaiting Model Update*>,\n",
       " (1, 0, 1, 1): <gurobi.Constr *Awaiting Model Update*>,\n",
       " (1, 0, 1, 2): <gurobi.Constr *Awaiting Model Update*>,\n",
       " (1, 0, 1, 3): <gurobi.Constr *Awaiting Model Update*>,\n",
       " (1, 0, 1, 4): <gurobi.Constr *Awaiting Model Update*>,\n",
       " (1, 0, 2, 0): <gurobi.Constr *Awaiting Model Update*>,\n",
       " (1, 0, 2, 1): <gurobi.Constr *Awaiting Model Update*>,\n",
       " (1, 0, 2, 2): <gurobi.Constr *Awaiting Model Update*>,\n",
       " (1, 0, 2, 3): <gurobi.Constr *Awaiting Model Update*>,\n",
       " (1, 0, 2, 4): <gurobi.Constr *Awaiting Model Update*>,\n",
       " (1, 1, 0, 0): <gurobi.Constr *Awaiting Model Update*>,\n",
       " (1, 1, 0, 1): <gurobi.Constr *Awaiting Model Update*>,\n",
       " (1, 1, 0, 2): <gurobi.Constr *Awaiting Model Update*>,\n",
       " (1, 1, 0, 3): <gurobi.Constr *Awaiting Model Update*>,\n",
       " (1, 1, 0, 4): <gurobi.Constr *Awaiting Model Update*>,\n",
       " (1, 1, 1, 0): <gurobi.Constr *Awaiting Model Update*>,\n",
       " (1, 1, 1, 1): <gurobi.Constr *Awaiting Model Update*>,\n",
       " (1, 1, 1, 2): <gurobi.Constr *Awaiting Model Update*>,\n",
       " (1, 1, 1, 3): <gurobi.Constr *Awaiting Model Update*>,\n",
       " (1, 1, 1, 4): <gurobi.Constr *Awaiting Model Update*>,\n",
       " (1, 1, 2, 0): <gurobi.Constr *Awaiting Model Update*>,\n",
       " (1, 1, 2, 1): <gurobi.Constr *Awaiting Model Update*>,\n",
       " (1, 1, 2, 2): <gurobi.Constr *Awaiting Model Update*>,\n",
       " (1, 1, 2, 3): <gurobi.Constr *Awaiting Model Update*>,\n",
       " (1, 1, 2, 4): <gurobi.Constr *Awaiting Model Update*>,\n",
       " (1, 2, 0, 0): <gurobi.Constr *Awaiting Model Update*>,\n",
       " (1, 2, 0, 1): <gurobi.Constr *Awaiting Model Update*>,\n",
       " (1, 2, 0, 2): <gurobi.Constr *Awaiting Model Update*>,\n",
       " (1, 2, 0, 3): <gurobi.Constr *Awaiting Model Update*>,\n",
       " (1, 2, 0, 4): <gurobi.Constr *Awaiting Model Update*>,\n",
       " (1, 2, 1, 0): <gurobi.Constr *Awaiting Model Update*>,\n",
       " (1, 2, 1, 1): <gurobi.Constr *Awaiting Model Update*>,\n",
       " (1, 2, 1, 2): <gurobi.Constr *Awaiting Model Update*>,\n",
       " (1, 2, 1, 3): <gurobi.Constr *Awaiting Model Update*>,\n",
       " (1, 2, 1, 4): <gurobi.Constr *Awaiting Model Update*>,\n",
       " (1, 2, 2, 0): <gurobi.Constr *Awaiting Model Update*>,\n",
       " (1, 2, 2, 1): <gurobi.Constr *Awaiting Model Update*>,\n",
       " (1, 2, 2, 2): <gurobi.Constr *Awaiting Model Update*>,\n",
       " (1, 2, 2, 3): <gurobi.Constr *Awaiting Model Update*>,\n",
       " (1, 2, 2, 4): <gurobi.Constr *Awaiting Model Update*>,\n",
       " (1, 3, 0, 0): <gurobi.Constr *Awaiting Model Update*>,\n",
       " (1, 3, 0, 1): <gurobi.Constr *Awaiting Model Update*>,\n",
       " (1, 3, 0, 2): <gurobi.Constr *Awaiting Model Update*>,\n",
       " (1, 3, 0, 3): <gurobi.Constr *Awaiting Model Update*>,\n",
       " (1, 3, 0, 4): <gurobi.Constr *Awaiting Model Update*>,\n",
       " (1, 3, 1, 0): <gurobi.Constr *Awaiting Model Update*>,\n",
       " (1, 3, 1, 1): <gurobi.Constr *Awaiting Model Update*>,\n",
       " (1, 3, 1, 2): <gurobi.Constr *Awaiting Model Update*>,\n",
       " (1, 3, 1, 3): <gurobi.Constr *Awaiting Model Update*>,\n",
       " (1, 3, 1, 4): <gurobi.Constr *Awaiting Model Update*>,\n",
       " (1, 3, 2, 0): <gurobi.Constr *Awaiting Model Update*>,\n",
       " (1, 3, 2, 1): <gurobi.Constr *Awaiting Model Update*>,\n",
       " (1, 3, 2, 2): <gurobi.Constr *Awaiting Model Update*>,\n",
       " (1, 3, 2, 3): <gurobi.Constr *Awaiting Model Update*>,\n",
       " (1, 3, 2, 4): <gurobi.Constr *Awaiting Model Update*>,\n",
       " (1, 4, 0, 0): <gurobi.Constr *Awaiting Model Update*>,\n",
       " (1, 4, 0, 1): <gurobi.Constr *Awaiting Model Update*>,\n",
       " (1, 4, 0, 2): <gurobi.Constr *Awaiting Model Update*>,\n",
       " (1, 4, 0, 3): <gurobi.Constr *Awaiting Model Update*>,\n",
       " (1, 4, 0, 4): <gurobi.Constr *Awaiting Model Update*>,\n",
       " (1, 4, 1, 0): <gurobi.Constr *Awaiting Model Update*>,\n",
       " (1, 4, 1, 1): <gurobi.Constr *Awaiting Model Update*>,\n",
       " (1, 4, 1, 2): <gurobi.Constr *Awaiting Model Update*>,\n",
       " (1, 4, 1, 3): <gurobi.Constr *Awaiting Model Update*>,\n",
       " (1, 4, 1, 4): <gurobi.Constr *Awaiting Model Update*>,\n",
       " (1, 4, 2, 0): <gurobi.Constr *Awaiting Model Update*>,\n",
       " (1, 4, 2, 1): <gurobi.Constr *Awaiting Model Update*>,\n",
       " (1, 4, 2, 2): <gurobi.Constr *Awaiting Model Update*>,\n",
       " (1, 4, 2, 3): <gurobi.Constr *Awaiting Model Update*>,\n",
       " (1, 4, 2, 4): <gurobi.Constr *Awaiting Model Update*>,\n",
       " (2, 0, 0, 0): <gurobi.Constr *Awaiting Model Update*>,\n",
       " (2, 0, 0, 1): <gurobi.Constr *Awaiting Model Update*>,\n",
       " (2, 0, 0, 2): <gurobi.Constr *Awaiting Model Update*>,\n",
       " (2, 0, 0, 3): <gurobi.Constr *Awaiting Model Update*>,\n",
       " (2, 0, 0, 4): <gurobi.Constr *Awaiting Model Update*>,\n",
       " (2, 0, 1, 0): <gurobi.Constr *Awaiting Model Update*>,\n",
       " (2, 0, 1, 1): <gurobi.Constr *Awaiting Model Update*>,\n",
       " (2, 0, 1, 2): <gurobi.Constr *Awaiting Model Update*>,\n",
       " (2, 0, 1, 3): <gurobi.Constr *Awaiting Model Update*>,\n",
       " (2, 0, 1, 4): <gurobi.Constr *Awaiting Model Update*>,\n",
       " (2, 0, 2, 0): <gurobi.Constr *Awaiting Model Update*>,\n",
       " (2, 0, 2, 1): <gurobi.Constr *Awaiting Model Update*>,\n",
       " (2, 0, 2, 2): <gurobi.Constr *Awaiting Model Update*>,\n",
       " (2, 0, 2, 3): <gurobi.Constr *Awaiting Model Update*>,\n",
       " (2, 0, 2, 4): <gurobi.Constr *Awaiting Model Update*>,\n",
       " (2, 1, 0, 0): <gurobi.Constr *Awaiting Model Update*>,\n",
       " (2, 1, 0, 1): <gurobi.Constr *Awaiting Model Update*>,\n",
       " (2, 1, 0, 2): <gurobi.Constr *Awaiting Model Update*>,\n",
       " (2, 1, 0, 3): <gurobi.Constr *Awaiting Model Update*>,\n",
       " (2, 1, 0, 4): <gurobi.Constr *Awaiting Model Update*>,\n",
       " (2, 1, 1, 0): <gurobi.Constr *Awaiting Model Update*>,\n",
       " (2, 1, 1, 1): <gurobi.Constr *Awaiting Model Update*>,\n",
       " (2, 1, 1, 2): <gurobi.Constr *Awaiting Model Update*>,\n",
       " (2, 1, 1, 3): <gurobi.Constr *Awaiting Model Update*>,\n",
       " (2, 1, 1, 4): <gurobi.Constr *Awaiting Model Update*>,\n",
       " (2, 1, 2, 0): <gurobi.Constr *Awaiting Model Update*>,\n",
       " (2, 1, 2, 1): <gurobi.Constr *Awaiting Model Update*>,\n",
       " (2, 1, 2, 2): <gurobi.Constr *Awaiting Model Update*>,\n",
       " (2, 1, 2, 3): <gurobi.Constr *Awaiting Model Update*>,\n",
       " (2, 1, 2, 4): <gurobi.Constr *Awaiting Model Update*>,\n",
       " (2, 2, 0, 0): <gurobi.Constr *Awaiting Model Update*>,\n",
       " (2, 2, 0, 1): <gurobi.Constr *Awaiting Model Update*>,\n",
       " (2, 2, 0, 2): <gurobi.Constr *Awaiting Model Update*>,\n",
       " (2, 2, 0, 3): <gurobi.Constr *Awaiting Model Update*>,\n",
       " (2, 2, 0, 4): <gurobi.Constr *Awaiting Model Update*>,\n",
       " (2, 2, 1, 0): <gurobi.Constr *Awaiting Model Update*>,\n",
       " (2, 2, 1, 1): <gurobi.Constr *Awaiting Model Update*>,\n",
       " (2, 2, 1, 2): <gurobi.Constr *Awaiting Model Update*>,\n",
       " (2, 2, 1, 3): <gurobi.Constr *Awaiting Model Update*>,\n",
       " (2, 2, 1, 4): <gurobi.Constr *Awaiting Model Update*>,\n",
       " (2, 2, 2, 0): <gurobi.Constr *Awaiting Model Update*>,\n",
       " (2, 2, 2, 1): <gurobi.Constr *Awaiting Model Update*>,\n",
       " (2, 2, 2, 2): <gurobi.Constr *Awaiting Model Update*>,\n",
       " (2, 2, 2, 3): <gurobi.Constr *Awaiting Model Update*>,\n",
       " (2, 2, 2, 4): <gurobi.Constr *Awaiting Model Update*>,\n",
       " (2, 3, 0, 0): <gurobi.Constr *Awaiting Model Update*>,\n",
       " (2, 3, 0, 1): <gurobi.Constr *Awaiting Model Update*>,\n",
       " (2, 3, 0, 2): <gurobi.Constr *Awaiting Model Update*>,\n",
       " (2, 3, 0, 3): <gurobi.Constr *Awaiting Model Update*>,\n",
       " (2, 3, 0, 4): <gurobi.Constr *Awaiting Model Update*>,\n",
       " (2, 3, 1, 0): <gurobi.Constr *Awaiting Model Update*>,\n",
       " (2, 3, 1, 1): <gurobi.Constr *Awaiting Model Update*>,\n",
       " (2, 3, 1, 2): <gurobi.Constr *Awaiting Model Update*>,\n",
       " (2, 3, 1, 3): <gurobi.Constr *Awaiting Model Update*>,\n",
       " (2, 3, 1, 4): <gurobi.Constr *Awaiting Model Update*>,\n",
       " (2, 3, 2, 0): <gurobi.Constr *Awaiting Model Update*>,\n",
       " (2, 3, 2, 1): <gurobi.Constr *Awaiting Model Update*>,\n",
       " (2, 3, 2, 2): <gurobi.Constr *Awaiting Model Update*>,\n",
       " (2, 3, 2, 3): <gurobi.Constr *Awaiting Model Update*>,\n",
       " (2, 3, 2, 4): <gurobi.Constr *Awaiting Model Update*>,\n",
       " (2, 4, 0, 0): <gurobi.Constr *Awaiting Model Update*>,\n",
       " (2, 4, 0, 1): <gurobi.Constr *Awaiting Model Update*>,\n",
       " (2, 4, 0, 2): <gurobi.Constr *Awaiting Model Update*>,\n",
       " (2, 4, 0, 3): <gurobi.Constr *Awaiting Model Update*>,\n",
       " (2, 4, 0, 4): <gurobi.Constr *Awaiting Model Update*>,\n",
       " (2, 4, 1, 0): <gurobi.Constr *Awaiting Model Update*>,\n",
       " (2, 4, 1, 1): <gurobi.Constr *Awaiting Model Update*>,\n",
       " (2, 4, 1, 2): <gurobi.Constr *Awaiting Model Update*>,\n",
       " (2, 4, 1, 3): <gurobi.Constr *Awaiting Model Update*>,\n",
       " (2, 4, 1, 4): <gurobi.Constr *Awaiting Model Update*>,\n",
       " (2, 4, 2, 0): <gurobi.Constr *Awaiting Model Update*>,\n",
       " (2, 4, 2, 1): <gurobi.Constr *Awaiting Model Update*>,\n",
       " (2, 4, 2, 2): <gurobi.Constr *Awaiting Model Update*>,\n",
       " (2, 4, 2, 3): <gurobi.Constr *Awaiting Model Update*>,\n",
       " (2, 4, 2, 4): <gurobi.Constr *Awaiting Model Update*>}"
      ]
     },
     "execution_count": 785,
     "metadata": {},
     "output_type": "execute_result"
    }
   ],
   "source": [
    "model.addConstrs(\n",
    "    (\n",
    "        works_worker_job_skill_day[worker, job, skill, day] <= qualifications_worker_skill[worker, skill]\n",
    "        for worker in range(worker_length)\n",
    "        for job in range(job_length)\n",
    "        for skill in range(skill_length)\n",
    "        for day in range(day_length)\n",
    "    ),\n",
    "    name=\"qualification\",\n",
    ")"
   ]
  },
  {
   "attachments": {},
   "cell_type": "markdown",
   "metadata": {},
   "source": [
    "- Uniqueness of the daily assignement : *done with the vacation constraint (see below)*"
   ]
  },
  {
   "attachments": {},
   "cell_type": "markdown",
   "metadata": {},
   "source": [
    "- Vacation constraint"
   ]
  },
  {
   "cell_type": "code",
   "execution_count": 786,
   "metadata": {},
   "outputs": [
    {
     "data": {
      "text/plain": [
       "{(0, 0): <gurobi.Constr *Awaiting Model Update*>,\n",
       " (0, 1): <gurobi.Constr *Awaiting Model Update*>,\n",
       " (0, 2): <gurobi.Constr *Awaiting Model Update*>,\n",
       " (0, 3): <gurobi.Constr *Awaiting Model Update*>,\n",
       " (0, 4): <gurobi.Constr *Awaiting Model Update*>,\n",
       " (1, 0): <gurobi.Constr *Awaiting Model Update*>,\n",
       " (1, 1): <gurobi.Constr *Awaiting Model Update*>,\n",
       " (1, 2): <gurobi.Constr *Awaiting Model Update*>,\n",
       " (1, 3): <gurobi.Constr *Awaiting Model Update*>,\n",
       " (1, 4): <gurobi.Constr *Awaiting Model Update*>,\n",
       " (2, 0): <gurobi.Constr *Awaiting Model Update*>,\n",
       " (2, 1): <gurobi.Constr *Awaiting Model Update*>,\n",
       " (2, 2): <gurobi.Constr *Awaiting Model Update*>,\n",
       " (2, 3): <gurobi.Constr *Awaiting Model Update*>,\n",
       " (2, 4): <gurobi.Constr *Awaiting Model Update*>}"
      ]
     },
     "execution_count": 786,
     "metadata": {},
     "output_type": "execute_result"
    }
   ],
   "source": [
    "model.addConstrs(\n",
    "    (\n",
    "        grb.quicksum(works_worker_job_skill_day[worker, job, skill, day] for job in range(job_length) for skill in range(skill_length)) \\\n",
    "            <= 1 - vacations_worker_day[worker, day]\n",
    "        for worker in range(worker_length)\n",
    "        for day in range(day_length)\n",
    "    ),\n",
    "    name=\"vacation\",\n",
    ")"
   ]
  },
  {
   "attachments": {},
   "cell_type": "markdown",
   "metadata": {},
   "source": [
    "- Job coverage constraint"
   ]
  },
  {
   "cell_type": "code",
   "execution_count": 787,
   "metadata": {},
   "outputs": [
    {
     "data": {
      "text/plain": [
       "{(0, 0): <gurobi.Constr *Awaiting Model Update*>,\n",
       " (0, 1): <gurobi.Constr *Awaiting Model Update*>,\n",
       " (0, 2): <gurobi.Constr *Awaiting Model Update*>,\n",
       " (1, 0): <gurobi.Constr *Awaiting Model Update*>,\n",
       " (1, 1): <gurobi.Constr *Awaiting Model Update*>,\n",
       " (1, 2): <gurobi.Constr *Awaiting Model Update*>,\n",
       " (2, 0): <gurobi.Constr *Awaiting Model Update*>,\n",
       " (2, 1): <gurobi.Constr *Awaiting Model Update*>,\n",
       " (2, 2): <gurobi.Constr *Awaiting Model Update*>,\n",
       " (3, 0): <gurobi.Constr *Awaiting Model Update*>,\n",
       " (3, 1): <gurobi.Constr *Awaiting Model Update*>,\n",
       " (3, 2): <gurobi.Constr *Awaiting Model Update*>,\n",
       " (4, 0): <gurobi.Constr *Awaiting Model Update*>,\n",
       " (4, 1): <gurobi.Constr *Awaiting Model Update*>,\n",
       " (4, 2): <gurobi.Constr *Awaiting Model Update*>}"
      ]
     },
     "execution_count": 787,
     "metadata": {},
     "output_type": "execute_result"
    }
   ],
   "source": [
    "model.addConstrs(\n",
    "    (\n",
    "        grb.quicksum(works_worker_job_skill_day[worker, job, skill, day] for worker in range(worker_length) for day in range(day_length)) \\\n",
    "            == is_realized_job[job] * work_days_job_skill[job, skill]\n",
    "        for job in range(job_length)\n",
    "        for skill in range(skill_length)\n",
    "    ),\n",
    "    name=\"job_coverage\",\n",
    ")"
   ]
  },
  {
   "attachments": {},
   "cell_type": "markdown",
   "metadata": {},
   "source": [
    "- Uniqueness of the realized projects : *done with realized_job either 0 or 1*"
   ]
  },
  {
   "attachments": {},
   "cell_type": "markdown",
   "metadata": {},
   "source": [
    "#### Variable Constraints\n",
    "\n",
    "Define the constraints that are related to the definition of additional variables."
   ]
  },
  {
   "attachments": {},
   "cell_type": "markdown",
   "metadata": {},
   "source": [
    "- Is realized : *done with job coverage constraint*"
   ]
  },
  {
   "attachments": {},
   "cell_type": "markdown",
   "metadata": {},
   "source": [
    "- Started after / Finished before\n",
    "\n",
    "*Example of what is expected :* \n",
    "\n",
    "| Day             | 0 | 1 | 2 | 3 | 4 | 5 | 6 | 7 |\n",
    "|-----------------|---|---|---|---|---|---|---|---|\n",
    "| Working day     | 0 | 0 | 1 | 0 | 1 | 0 | 0 | 0 |\n",
    "| Started after   | 0 | 0 | 1 | 1 | 1 | 1 | 1 | 1 |\n",
    "| Finished before | 0 | 0 | 0 | 0 | 0 | 1 | 1 | 1 |"
   ]
  },
  {
   "cell_type": "code",
   "execution_count": 788,
   "metadata": {},
   "outputs": [
    {
     "data": {
      "text/plain": [
       "{(0, 0): <gurobi.Constr *Awaiting Model Update*>,\n",
       " (0, 1): <gurobi.Constr *Awaiting Model Update*>,\n",
       " (0, 2): <gurobi.Constr *Awaiting Model Update*>,\n",
       " (0, 3): <gurobi.Constr *Awaiting Model Update*>,\n",
       " (0, 4): <gurobi.Constr *Awaiting Model Update*>,\n",
       " (1, 0): <gurobi.Constr *Awaiting Model Update*>,\n",
       " (1, 1): <gurobi.Constr *Awaiting Model Update*>,\n",
       " (1, 2): <gurobi.Constr *Awaiting Model Update*>,\n",
       " (1, 3): <gurobi.Constr *Awaiting Model Update*>,\n",
       " (1, 4): <gurobi.Constr *Awaiting Model Update*>,\n",
       " (2, 0): <gurobi.Constr *Awaiting Model Update*>,\n",
       " (2, 1): <gurobi.Constr *Awaiting Model Update*>,\n",
       " (2, 2): <gurobi.Constr *Awaiting Model Update*>,\n",
       " (2, 3): <gurobi.Constr *Awaiting Model Update*>,\n",
       " (2, 4): <gurobi.Constr *Awaiting Model Update*>,\n",
       " (3, 0): <gurobi.Constr *Awaiting Model Update*>,\n",
       " (3, 1): <gurobi.Constr *Awaiting Model Update*>,\n",
       " (3, 2): <gurobi.Constr *Awaiting Model Update*>,\n",
       " (3, 3): <gurobi.Constr *Awaiting Model Update*>,\n",
       " (3, 4): <gurobi.Constr *Awaiting Model Update*>,\n",
       " (4, 0): <gurobi.Constr *Awaiting Model Update*>,\n",
       " (4, 1): <gurobi.Constr *Awaiting Model Update*>,\n",
       " (4, 2): <gurobi.Constr *Awaiting Model Update*>,\n",
       " (4, 3): <gurobi.Constr *Awaiting Model Update*>,\n",
       " (4, 4): <gurobi.Constr *Awaiting Model Update*>}"
      ]
     },
     "execution_count": 788,
     "metadata": {},
     "output_type": "execute_result"
    }
   ],
   "source": [
    "# started_after == 0 => works == 0\n",
    "model.addConstrs(\n",
    "    (\n",
    "        works_worker_job_skill_day[worker, job, skill, day] <= started_after_job_day[job, day]\n",
    "        for worker in range(worker_length)\n",
    "        for job in range(job_length)\n",
    "        for skill in range(skill_length)\n",
    "        for day in range(day_length)\n",
    "    ),\n",
    "    name=\"started_after\",\n",
    ")\n",
    "\n",
    "# increasing sequence\n",
    "model.addConstrs(\n",
    "    (\n",
    "        started_after_job_day[job, day] <= started_after_job_day[job, day + 1]\n",
    "        for job in range(job_length)\n",
    "        for day in range(day_length - 1)\n",
    "    ),\n",
    "    name=\"started_after_increasing\",\n",
    ")\n",
    "# is_realized_job == 0 => started_after == 1\n",
    "model.addConstrs(\n",
    "    (\n",
    "        1 - started_after_job_day[job, day] <= is_realized_job[job]\n",
    "        for job in range(job_length)\n",
    "        for day in range(day_length)\n",
    "    ),\n",
    "    name=\"started_after_not_realized\",\n",
    ")"
   ]
  },
  {
   "cell_type": "code",
   "execution_count": 789,
   "metadata": {},
   "outputs": [
    {
     "data": {
      "text/plain": [
       "{(0, 0): <gurobi.Constr *Awaiting Model Update*>,\n",
       " (0, 1): <gurobi.Constr *Awaiting Model Update*>,\n",
       " (0, 2): <gurobi.Constr *Awaiting Model Update*>,\n",
       " (0, 3): <gurobi.Constr *Awaiting Model Update*>,\n",
       " (0, 4): <gurobi.Constr *Awaiting Model Update*>,\n",
       " (1, 0): <gurobi.Constr *Awaiting Model Update*>,\n",
       " (1, 1): <gurobi.Constr *Awaiting Model Update*>,\n",
       " (1, 2): <gurobi.Constr *Awaiting Model Update*>,\n",
       " (1, 3): <gurobi.Constr *Awaiting Model Update*>,\n",
       " (1, 4): <gurobi.Constr *Awaiting Model Update*>,\n",
       " (2, 0): <gurobi.Constr *Awaiting Model Update*>,\n",
       " (2, 1): <gurobi.Constr *Awaiting Model Update*>,\n",
       " (2, 2): <gurobi.Constr *Awaiting Model Update*>,\n",
       " (2, 3): <gurobi.Constr *Awaiting Model Update*>,\n",
       " (2, 4): <gurobi.Constr *Awaiting Model Update*>,\n",
       " (3, 0): <gurobi.Constr *Awaiting Model Update*>,\n",
       " (3, 1): <gurobi.Constr *Awaiting Model Update*>,\n",
       " (3, 2): <gurobi.Constr *Awaiting Model Update*>,\n",
       " (3, 3): <gurobi.Constr *Awaiting Model Update*>,\n",
       " (3, 4): <gurobi.Constr *Awaiting Model Update*>,\n",
       " (4, 0): <gurobi.Constr *Awaiting Model Update*>,\n",
       " (4, 1): <gurobi.Constr *Awaiting Model Update*>,\n",
       " (4, 2): <gurobi.Constr *Awaiting Model Update*>,\n",
       " (4, 3): <gurobi.Constr *Awaiting Model Update*>,\n",
       " (4, 4): <gurobi.Constr *Awaiting Model Update*>}"
      ]
     },
     "execution_count": 789,
     "metadata": {},
     "output_type": "execute_result"
    }
   ],
   "source": [
    "# finished before == 1 => works == 0\n",
    "model.addConstrs(\n",
    "    (\n",
    "        works_worker_job_skill_day[worker, job, skill, day] <= 1 - finished_before_job_day[job, day]\n",
    "        for worker in range(worker_length)\n",
    "        for job in range(job_length)\n",
    "        for skill in range(skill_length)\n",
    "        for day in range(day_length)\n",
    "    ),\n",
    "    name=\"finished_before\",\n",
    ")\n",
    "\n",
    "# increasing sequence\n",
    "model.addConstrs(\n",
    "    (\n",
    "        finished_before_job_day[job, day] <= finished_before_job_day[job, day + 1]\n",
    "        for job in range(job_length)\n",
    "        for day in range(day_length - 1)\n",
    "    ),\n",
    "    name=\"finished_before_increasing\",\n",
    ")\n",
    "# is_realized_job == 0 => finished_before == 1\n",
    "model.addConstrs(\n",
    "    (\n",
    "        1 - finished_before_job_day[job, day] <= is_realized_job[job]\n",
    "        for job in range(job_length)\n",
    "        for day in range(day_length)\n",
    "    ),\n",
    "    name=\"finished_before_not_realized\",\n",
    ")"
   ]
  },
  {
   "attachments": {},
   "cell_type": "markdown",
   "metadata": {},
   "source": [
    "- Maximum duration"
   ]
  },
  {
   "cell_type": "code",
   "execution_count": 790,
   "metadata": {},
   "outputs": [
    {
     "data": {
      "text/plain": [
       "{0: <gurobi.Constr *Awaiting Model Update*>,\n",
       " 1: <gurobi.Constr *Awaiting Model Update*>,\n",
       " 2: <gurobi.Constr *Awaiting Model Update*>,\n",
       " 3: <gurobi.Constr *Awaiting Model Update*>,\n",
       " 4: <gurobi.Constr *Awaiting Model Update*>}"
      ]
     },
     "execution_count": 790,
     "metadata": {},
     "output_type": "execute_result"
    }
   ],
   "source": [
    "model.addConstrs(\n",
    "    (\n",
    "        grb.quicksum(\n",
    "            started_after_job_day[job, day] - finished_before_job_day[job, day]\n",
    "            for day in range(day_length)\n",
    "        ) <= max_duration\n",
    "        for job in range(job_length)\n",
    "    ),\n",
    "    name=\"max_duration\",\n",
    ")"
   ]
  },
  {
   "cell_type": "markdown",
   "metadata": {},
   "source": [
    "- Is assigned"
   ]
  },
  {
   "cell_type": "code",
   "execution_count": 791,
   "metadata": {},
   "outputs": [
    {
     "data": {
      "text/plain": [
       "{(0, 0): <gurobi.Constr *Awaiting Model Update*>,\n",
       " (0, 1): <gurobi.Constr *Awaiting Model Update*>,\n",
       " (0, 2): <gurobi.Constr *Awaiting Model Update*>,\n",
       " (0, 3): <gurobi.Constr *Awaiting Model Update*>,\n",
       " (0, 4): <gurobi.Constr *Awaiting Model Update*>,\n",
       " (1, 0): <gurobi.Constr *Awaiting Model Update*>,\n",
       " (1, 1): <gurobi.Constr *Awaiting Model Update*>,\n",
       " (1, 2): <gurobi.Constr *Awaiting Model Update*>,\n",
       " (1, 3): <gurobi.Constr *Awaiting Model Update*>,\n",
       " (1, 4): <gurobi.Constr *Awaiting Model Update*>,\n",
       " (2, 0): <gurobi.Constr *Awaiting Model Update*>,\n",
       " (2, 1): <gurobi.Constr *Awaiting Model Update*>,\n",
       " (2, 2): <gurobi.Constr *Awaiting Model Update*>,\n",
       " (2, 3): <gurobi.Constr *Awaiting Model Update*>,\n",
       " (2, 4): <gurobi.Constr *Awaiting Model Update*>}"
      ]
     },
     "execution_count": 791,
     "metadata": {},
     "output_type": "execute_result"
    }
   ],
   "source": [
    "# exists_skill_day works == 1 => is_assigned == 1\n",
    "model.addConstrs(\n",
    "    (\n",
    "        works_worker_job_skill_day[worker, job, skill, day] <= is_assigned_worker_job[worker, job]\n",
    "        for worker in range(worker_length)\n",
    "        for job in range(job_length)\n",
    "        for skill in range(skill_length)\n",
    "        for day in range(day_length)\n",
    "    ),\n",
    "    name=\"is_assigned_worker_job\",\n",
    ")\n",
    "# forall_skill_day works == 0 => is_assigned == 0\n",
    "model.addConstrs(\n",
    "    (\n",
    "        is_assigned_worker_job[worker, job] <= \\\n",
    "            grb.quicksum(\n",
    "                works_worker_job_skill_day[worker, job, skill, day]\n",
    "                for skill in range(skill_length)\n",
    "                for day in range(day_length)\n",
    "            )\n",
    "        for worker in range(worker_length)\n",
    "        for job in range(job_length)\n",
    "    ),\n",
    "    name=\"is_assigned_worker_job_bis\",\n",
    ")"
   ]
  },
  {
   "attachments": {},
   "cell_type": "markdown",
   "metadata": {},
   "source": [
    "- Maximum assigned"
   ]
  },
  {
   "cell_type": "code",
   "execution_count": 792,
   "metadata": {},
   "outputs": [
    {
     "data": {
      "text/plain": [
       "{0: <gurobi.Constr *Awaiting Model Update*>,\n",
       " 1: <gurobi.Constr *Awaiting Model Update*>,\n",
       " 2: <gurobi.Constr *Awaiting Model Update*>}"
      ]
     },
     "execution_count": 792,
     "metadata": {},
     "output_type": "execute_result"
    }
   ],
   "source": [
    "model.addConstrs(\n",
    "    (\n",
    "        grb.quicksum(is_assigned_worker_job[worker, job] for job in range(job_length)) \\\n",
    "            <= max_assigned\n",
    "        for worker in range(worker_length)\n",
    "    ),\n",
    "    name=\"max_assigned\",\n",
    ")"
   ]
  },
  {
   "attachments": {},
   "cell_type": "markdown",
   "metadata": {},
   "source": [
    "### Objectives"
   ]
  },
  {
   "cell_type": "code",
   "execution_count": 793,
   "metadata": {},
   "outputs": [],
   "source": [
    "# Add primary objective\n",
    "model.ModelSense = GRB.MAXIMIZE\n",
    "model.setObjectiveN(\n",
    "  grb.quicksum(\n",
    "    gains_job[job] * is_realized_job[job] \\\n",
    "      - penalties_job[job] * grb.quicksum(\n",
    "        1 - finished_before_job_day[job, day]\n",
    "        for day in range(due_dates_job[job], day_length)\n",
    "      )\n",
    "    for job in range(job_length)\n",
    "  ),\n",
    "  0,\n",
    "  priority=2,\n",
    ")\n",
    "\n",
    "# Add multi-objective functions\n",
    "model.setObjectiveN(\n",
    "  -max_assigned,\n",
    "  1,\n",
    "  priority=1,\n",
    ")\n",
    "model.setObjectiveN(\n",
    "  -max_duration,\n",
    "  2,\n",
    "  priority=0,\n",
    ")"
   ]
  },
  {
   "attachments": {},
   "cell_type": "markdown",
   "metadata": {},
   "source": [
    "## Optimization"
   ]
  },
  {
   "cell_type": "code",
   "execution_count": 794,
   "metadata": {},
   "outputs": [
    {
     "name": "stdout",
     "output_type": "stream",
     "text": [
      "Gurobi Optimizer version 10.0.0 build v10.0.0rc2 (linux64)\n",
      "\n",
      "CPU model: AMD Ryzen 5 3500U with Radeon Vega Mobile Gfx, instruction set [SSE2|AVX|AVX2]\n",
      "Thread count: 4 physical cores, 8 logical processors, using up to 8 threads\n",
      "\n",
      "Optimize a model with 1043 rows, 297 columns and 2528 nonzeros\n",
      "Model fingerprint: 0xc0e99ab1\n",
      "Variable types: 0 continuous, 297 integer (295 binary)\n",
      "Coefficient statistics:\n",
      "  Matrix range     [1e+00, 2e+00]\n",
      "  Objective range  [1e+00, 2e+01]\n",
      "  Bounds range     [1e+00, 1e+00]\n",
      "  RHS range        [1e+00, 1e+00]\n",
      "\n",
      "---------------------------------------------------------------------------\n",
      "Multi-objectives: starting optimization with 3 objectives ... \n",
      "---------------------------------------------------------------------------\n",
      "\n",
      "Multi-objectives: applying initial presolve ...\n",
      "---------------------------------------------------------------------------\n",
      "\n",
      "Presolve removed 818 rows and 152 columns\n",
      "Presolve time: 0.01s\n",
      "Presolved: 225 rows and 145 columns\n",
      "---------------------------------------------------------------------------\n",
      "\n",
      "Multi-objectives: optimize objective 1 () ...\n",
      "---------------------------------------------------------------------------\n",
      "\n",
      "Found heuristic solution: objective -115.0000000\n",
      "Presolve removed 77 rows and 33 columns\n",
      "Presolve time: 0.01s\n",
      "Presolved: 148 rows, 112 columns, 607 nonzeros\n",
      "Variable types: 0 continuous, 112 integer (112 binary)\n",
      "\n",
      "Root relaxation: objective -8.950000e+01, 152 iterations, 0.00 seconds (0.00 work units)\n",
      "\n",
      "    Nodes    |    Current Node    |     Objective Bounds      |     Work\n",
      " Expl Unexpl |  Obj  Depth IntInf | Incumbent    BestBd   Gap | It/Node Time\n",
      "\n",
      "     0     0  -89.50000    0   13 -115.00000  -89.50000  22.2%     -    0s\n",
      "H    0     0                    -110.0000000  -89.50000  18.6%     -    0s\n",
      "H    0     0                    -104.0000000  -89.50000  13.9%     -    0s\n",
      "H    0     0                     -96.0000000  -93.33333  2.78%     -    0s\n",
      "     0     0  -93.33333    0   14  -96.00000  -93.33333  2.78%     -    0s\n",
      "H    0     0                     -95.0000000  -93.33333  1.75%     -    0s\n",
      "\n",
      "Cutting planes:\n",
      "  Gomory: 3\n",
      "  Clique: 1\n",
      "  Zero half: 2\n",
      "  RLT: 2\n",
      "\n",
      "Explored 1 nodes (317 simplex iterations) in 0.11 seconds (0.01 work units)\n",
      "Thread count was 8 (of 8 available processors)\n",
      "\n",
      "Solution count 5: -95 -96 -104 ... -115\n",
      "No other solutions better than -95\n",
      "\n",
      "Optimal solution found (tolerance 1.00e-04)\n",
      "Best objective -9.500000000000e+01, best bound -9.500000000000e+01, gap 0.0000%\n",
      "---------------------------------------------------------------------------\n",
      "\n",
      "Multi-objectives: optimize objective 2 () ...\n",
      "---------------------------------------------------------------------------\n",
      "\n",
      "\n",
      "Loaded user MIP start with objective -4\n",
      "\n",
      "Presolve removed 91 rows and 31 columns\n",
      "Presolve time: 0.00s\n",
      "Presolved: 135 rows, 114 columns, 586 nonzeros\n",
      "Variable types: 0 continuous, 114 integer (113 binary)\n",
      "\n",
      "Root relaxation: objective -1.424965e+00, 216 iterations, 0.00 seconds (0.00 work units)\n",
      "\n",
      "    Nodes    |    Current Node    |     Objective Bounds      |     Work\n",
      " Expl Unexpl |  Obj  Depth IntInf | Incumbent    BestBd   Gap | It/Node Time\n",
      "\n",
      "     0     0   -1.42496    0   68   -4.00000   -1.42496  64.4%     -    0s\n",
      "H    0     0                      -3.0000000   -1.42496  52.5%     -    0s\n",
      "     0     0   -2.00000    0   62   -3.00000   -2.00000  33.3%     -    0s\n",
      "H    0     0                      -2.0000000   -2.00000  0.00%     -    0s\n",
      "\n",
      "Cutting planes:\n",
      "  Gomory: 13\n",
      "  Cover: 1\n",
      "  Clique: 2\n",
      "  MIR: 2\n",
      "  StrongCG: 1\n",
      "  Zero half: 8\n",
      "  RLT: 8\n",
      "\n",
      "Explored 1 nodes (386 simplex iterations) in 0.20 seconds (0.02 work units)\n",
      "Thread count was 8 (of 8 available processors)\n",
      "\n",
      "Solution count 3: -2 -3 -4 \n",
      "No other solutions better than -2\n",
      "\n",
      "Optimal solution found (tolerance 1.00e-04)\n",
      "Best objective -2.000000000000e+00, best bound -2.000000000000e+00, gap 0.0000%\n",
      "---------------------------------------------------------------------------\n",
      "\n",
      "Multi-objectives: optimize objective 3 () ...\n",
      "---------------------------------------------------------------------------\n",
      "\n",
      "\n",
      "Loaded user MIP start with objective -5\n",
      "\n",
      "Presolve removed 19 rows and 4 columns\n",
      "Presolve time: 0.01s\n",
      "Presolved: 208 rows, 141 columns, 824 nonzeros\n",
      "Variable types: 0 continuous, 141 integer (140 binary)\n",
      "Found heuristic solution: objective -4.0000000\n",
      "\n",
      "Root relaxation: objective -1.070853e-01, 341 iterations, 0.01 seconds (0.00 work units)\n",
      "\n",
      "    Nodes    |    Current Node    |     Objective Bounds      |     Work\n",
      " Expl Unexpl |  Obj  Depth IntInf | Incumbent    BestBd   Gap | It/Node Time\n",
      "\n",
      "     0     0   -0.10709    0  107   -4.00000   -0.10709  97.3%     -    0s\n",
      "H    0     0                      -3.0000000   -0.10709  96.4%     -    0s\n",
      "     0     0   -3.00000    0  114   -3.00000   -3.00000  0.00%     -    0s\n",
      "\n",
      "Cutting planes:\n",
      "  Gomory: 22\n",
      "  Cover: 1\n",
      "  Implied bound: 1\n",
      "  Clique: 39\n",
      "  Zero half: 27\n",
      "  RLT: 27\n",
      "  BQP: 3\n",
      "\n",
      "Explored 1 nodes (805 simplex iterations) in 0.32 seconds (0.05 work units)\n",
      "Thread count was 8 (of 8 available processors)\n",
      "\n",
      "Solution count 3: -3 -4 -5 \n",
      "No other solutions better than -3\n",
      "\n",
      "Optimal solution found (tolerance 1.00e-04)\n",
      "Best objective -3.000000000000e+00, best bound -3.000000000000e+00, gap 0.0000%\n",
      "\n",
      "---------------------------------------------------------------------------\n",
      "Multi-objectives: solved in 0.34 seconds (0.05 work units), solution count 9\n",
      "\n"
     ]
    }
   ],
   "source": [
    "model.optimize()"
   ]
  },
  {
   "cell_type": "code",
   "execution_count": 795,
   "metadata": {},
   "outputs": [
    {
     "name": "stdout",
     "output_type": "stream",
     "text": [
      "True False False\n"
     ]
    }
   ],
   "source": [
    "# Get optimization status\n",
    "print(model.Status == GRB.OPTIMAL, model.Status == GRB.TIME_LIMIT, model.Status == GRB.INFEASIBLE)"
   ]
  },
  {
   "cell_type": "code",
   "execution_count": 796,
   "metadata": {},
   "outputs": [
    {
     "name": "stdout",
     "output_type": "stream",
     "text": [
      "65.0\n"
     ]
    }
   ],
   "source": [
    "# Get objective value\n",
    "objective_value = model.objVal\n",
    "print(objective_value)"
   ]
  },
  {
   "cell_type": "code",
   "execution_count": 797,
   "metadata": {},
   "outputs": [],
   "source": [
    "import pandas as pd\n",
    "import matplotlib as mpl"
   ]
  },
  {
   "cell_type": "code",
   "execution_count": 798,
   "metadata": {},
   "outputs": [],
   "source": [
    "qualifications = data[\"qualifications\"]\n",
    "names = [worker[\"name\"] for worker in data[\"staff\"]]\n",
    "jobs = [job[\"name\"] for job in data[\"jobs\"]]"
   ]
  },
  {
   "cell_type": "code",
   "execution_count": 799,
   "metadata": {},
   "outputs": [],
   "source": [
    "# Give a hex color to each job\n",
    "cmap = mpl.cm.get_cmap('hsv', int(len(jobs)*1.2))\n",
    "job_colors = [mpl.colors.rgb2hex(cmap(i)[:3]) for i in range(cmap.N)][:len(jobs)]"
   ]
  },
  {
   "cell_type": "code",
   "execution_count": 800,
   "metadata": {},
   "outputs": [],
   "source": [
    "def disply_worker_skills():\n",
    "    res = pd.DataFrame(\n",
    "        [\n",
    "            [\n",
    "                str([q for (r, q) in zip(row_q, qualifications) if r == 1]).replace(\"'\", \"\"),\n",
    "                str([d for (r, d) in zip(row_d, range(day_length)) if r == 1]),\n",
    "            ]\n",
    "            for row_q, row_d in zip(qualifications_worker_skill, vacations_worker_day)],\n",
    "        index=names,\n",
    "        columns=[\"qualifications\", \"vacations\"]\n",
    "    )\n",
    "    return res\n",
    "    "
   ]
  },
  {
   "cell_type": "code",
   "execution_count": 801,
   "metadata": {},
   "outputs": [],
   "source": [
    "def highlight_cols(col):\n",
    "    return [f\"color:black;background-color: {color}\" for color in job_colors]\n",
    "\n",
    "def display_work_days():\n",
    "    res = pd.DataFrame(work_days_job_skill, index=jobs, columns=qualifications)\n",
    "    res[\"due date\"] = pd.Series(due_dates_job, index=jobs)\n",
    "    res[\"gain\"] = pd.Series(gains_job, index=jobs)\n",
    "    res[\"penalty\"] = pd.Series(penalties_job, index=jobs)\n",
    "    res = res.style.apply(highlight_cols, axis=0)\n",
    "    return res"
   ]
  },
  {
   "cell_type": "code",
   "execution_count": 802,
   "metadata": {},
   "outputs": [],
   "source": [
    "def find_task(tab, worker, day):\n",
    "    for job in range(job_length):\n",
    "        for skill in range(skill_length):\n",
    "            if tab[worker, job, skill, day].x == 1:\n",
    "                return job, qualifications[skill]\n",
    "    return None\n",
    "\n",
    "def color_cells(x, df):\n",
    "        df = df.applymap(lambda val: job_colors[val[0]] if val is not None else \"\")\n",
    "        df = df.applymap(lambda color: f\"color:{'' if color == '' else 'black'};background-color: {color}\")\n",
    "        return df\n",
    "\n",
    "def display_time_table():\n",
    "    data = [\n",
    "        [\n",
    "            find_task(works_worker_job_skill_day, worker, day)\n",
    "            for day in range(day_length)\n",
    "        ]\n",
    "        for worker in range(worker_length)\n",
    "    ]\n",
    "    df = pd.DataFrame(\n",
    "        data,\n",
    "        index=names,\n",
    "        columns=range(day_length)\n",
    "    )\n",
    "    res = df.applymap(lambda x: x[1] if x is not None else None)\n",
    "    res = res.style.apply(lambda x: color_cells(x, df), axis=None)\n",
    "    return res"
   ]
  },
  {
   "cell_type": "code",
   "execution_count": 803,
   "metadata": {},
   "outputs": [
    {
     "data": {
      "text/html": [
       "<div>\n",
       "<style scoped>\n",
       "    .dataframe tbody tr th:only-of-type {\n",
       "        vertical-align: middle;\n",
       "    }\n",
       "\n",
       "    .dataframe tbody tr th {\n",
       "        vertical-align: top;\n",
       "    }\n",
       "\n",
       "    .dataframe thead th {\n",
       "        text-align: right;\n",
       "    }\n",
       "</style>\n",
       "<table border=\"1\" class=\"dataframe\">\n",
       "  <thead>\n",
       "    <tr style=\"text-align: right;\">\n",
       "      <th></th>\n",
       "      <th>qualifications</th>\n",
       "      <th>vacations</th>\n",
       "    </tr>\n",
       "  </thead>\n",
       "  <tbody>\n",
       "    <tr>\n",
       "      <th>Olivia</th>\n",
       "      <td>[A, B, C]</td>\n",
       "      <td>[]</td>\n",
       "    </tr>\n",
       "    <tr>\n",
       "      <th>Liam</th>\n",
       "      <td>[A, B]</td>\n",
       "      <td>[0]</td>\n",
       "    </tr>\n",
       "    <tr>\n",
       "      <th>Emma</th>\n",
       "      <td>[C]</td>\n",
       "      <td>[1]</td>\n",
       "    </tr>\n",
       "  </tbody>\n",
       "</table>\n",
       "</div>"
      ],
      "text/plain": [
       "       qualifications vacations\n",
       "Olivia      [A, B, C]        []\n",
       "Liam           [A, B]       [0]\n",
       "Emma              [C]       [1]"
      ]
     },
     "execution_count": 803,
     "metadata": {},
     "output_type": "execute_result"
    }
   ],
   "source": [
    "disply_worker_skills()"
   ]
  },
  {
   "cell_type": "code",
   "execution_count": 804,
   "metadata": {},
   "outputs": [
    {
     "data": {
      "text/html": [
       "<style type=\"text/css\">\n",
       "#T_cb5b8_row0_col0, #T_cb5b8_row0_col1, #T_cb5b8_row0_col2, #T_cb5b8_row0_col3, #T_cb5b8_row0_col4, #T_cb5b8_row0_col5 {\n",
       "  color: black;\n",
       "  background-color: #ff0000;\n",
       "}\n",
       "#T_cb5b8_row1_col0, #T_cb5b8_row1_col1, #T_cb5b8_row1_col2, #T_cb5b8_row1_col3, #T_cb5b8_row1_col4, #T_cb5b8_row1_col5 {\n",
       "  color: black;\n",
       "  background-color: #d1ff00;\n",
       "}\n",
       "#T_cb5b8_row2_col0, #T_cb5b8_row2_col1, #T_cb5b8_row2_col2, #T_cb5b8_row2_col3, #T_cb5b8_row2_col4, #T_cb5b8_row2_col5 {\n",
       "  color: black;\n",
       "  background-color: #00ff5c;\n",
       "}\n",
       "#T_cb5b8_row3_col0, #T_cb5b8_row3_col1, #T_cb5b8_row3_col2, #T_cb5b8_row3_col3, #T_cb5b8_row3_col4, #T_cb5b8_row3_col5 {\n",
       "  color: black;\n",
       "  background-color: #0074ff;\n",
       "}\n",
       "#T_cb5b8_row4_col0, #T_cb5b8_row4_col1, #T_cb5b8_row4_col2, #T_cb5b8_row4_col3, #T_cb5b8_row4_col4, #T_cb5b8_row4_col5 {\n",
       "  color: black;\n",
       "  background-color: #b900ff;\n",
       "}\n",
       "</style>\n",
       "<table id=\"T_cb5b8\">\n",
       "  <thead>\n",
       "    <tr>\n",
       "      <th class=\"blank level0\" >&nbsp;</th>\n",
       "      <th id=\"T_cb5b8_level0_col0\" class=\"col_heading level0 col0\" >A</th>\n",
       "      <th id=\"T_cb5b8_level0_col1\" class=\"col_heading level0 col1\" >B</th>\n",
       "      <th id=\"T_cb5b8_level0_col2\" class=\"col_heading level0 col2\" >C</th>\n",
       "      <th id=\"T_cb5b8_level0_col3\" class=\"col_heading level0 col3\" >due date</th>\n",
       "      <th id=\"T_cb5b8_level0_col4\" class=\"col_heading level0 col4\" >gain</th>\n",
       "      <th id=\"T_cb5b8_level0_col5\" class=\"col_heading level0 col5\" >penalty</th>\n",
       "    </tr>\n",
       "  </thead>\n",
       "  <tbody>\n",
       "    <tr>\n",
       "      <th id=\"T_cb5b8_level0_row0\" class=\"row_heading level0 row0\" >Job1</th>\n",
       "      <td id=\"T_cb5b8_row0_col0\" class=\"data row0 col0\" >1</td>\n",
       "      <td id=\"T_cb5b8_row0_col1\" class=\"data row0 col1\" >1</td>\n",
       "      <td id=\"T_cb5b8_row0_col2\" class=\"data row0 col2\" >1</td>\n",
       "      <td id=\"T_cb5b8_row0_col3\" class=\"data row0 col3\" >3</td>\n",
       "      <td id=\"T_cb5b8_row0_col4\" class=\"data row0 col4\" >20</td>\n",
       "      <td id=\"T_cb5b8_row0_col5\" class=\"data row0 col5\" >3</td>\n",
       "    </tr>\n",
       "    <tr>\n",
       "      <th id=\"T_cb5b8_level0_row1\" class=\"row_heading level0 row1\" >Job2</th>\n",
       "      <td id=\"T_cb5b8_row1_col0\" class=\"data row1 col0\" >1</td>\n",
       "      <td id=\"T_cb5b8_row1_col1\" class=\"data row1 col1\" >2</td>\n",
       "      <td id=\"T_cb5b8_row1_col2\" class=\"data row1 col2\" >0</td>\n",
       "      <td id=\"T_cb5b8_row1_col3\" class=\"data row1 col3\" >3</td>\n",
       "      <td id=\"T_cb5b8_row1_col4\" class=\"data row1 col4\" >15</td>\n",
       "      <td id=\"T_cb5b8_row1_col5\" class=\"data row1 col5\" >3</td>\n",
       "    </tr>\n",
       "    <tr>\n",
       "      <th id=\"T_cb5b8_level0_row2\" class=\"row_heading level0 row2\" >Job3</th>\n",
       "      <td id=\"T_cb5b8_row2_col0\" class=\"data row2 col0\" >1</td>\n",
       "      <td id=\"T_cb5b8_row2_col1\" class=\"data row2 col1\" >0</td>\n",
       "      <td id=\"T_cb5b8_row2_col2\" class=\"data row2 col2\" >2</td>\n",
       "      <td id=\"T_cb5b8_row2_col3\" class=\"data row2 col3\" >4</td>\n",
       "      <td id=\"T_cb5b8_row2_col4\" class=\"data row2 col4\" >15</td>\n",
       "      <td id=\"T_cb5b8_row2_col5\" class=\"data row2 col5\" >3</td>\n",
       "    </tr>\n",
       "    <tr>\n",
       "      <th id=\"T_cb5b8_level0_row3\" class=\"row_heading level0 row3\" >Job4</th>\n",
       "      <td id=\"T_cb5b8_row3_col0\" class=\"data row3 col0\" >0</td>\n",
       "      <td id=\"T_cb5b8_row3_col1\" class=\"data row3 col1\" >2</td>\n",
       "      <td id=\"T_cb5b8_row3_col2\" class=\"data row3 col2\" >1</td>\n",
       "      <td id=\"T_cb5b8_row3_col3\" class=\"data row3 col3\" >3</td>\n",
       "      <td id=\"T_cb5b8_row3_col4\" class=\"data row3 col4\" >20</td>\n",
       "      <td id=\"T_cb5b8_row3_col5\" class=\"data row3 col5\" >3</td>\n",
       "    </tr>\n",
       "    <tr>\n",
       "      <th id=\"T_cb5b8_level0_row4\" class=\"row_heading level0 row4\" >Job5</th>\n",
       "      <td id=\"T_cb5b8_row4_col0\" class=\"data row4 col0\" >0</td>\n",
       "      <td id=\"T_cb5b8_row4_col1\" class=\"data row4 col1\" >0</td>\n",
       "      <td id=\"T_cb5b8_row4_col2\" class=\"data row4 col2\" >2</td>\n",
       "      <td id=\"T_cb5b8_row4_col3\" class=\"data row4 col3\" >5</td>\n",
       "      <td id=\"T_cb5b8_row4_col4\" class=\"data row4 col4\" >10</td>\n",
       "      <td id=\"T_cb5b8_row4_col5\" class=\"data row4 col5\" >3</td>\n",
       "    </tr>\n",
       "  </tbody>\n",
       "</table>\n"
      ],
      "text/plain": [
       "<pandas.io.formats.style.Styler at 0x7f85a8c86410>"
      ]
     },
     "execution_count": 804,
     "metadata": {},
     "output_type": "execute_result"
    }
   ],
   "source": [
    "display_work_days()"
   ]
  },
  {
   "cell_type": "code",
   "execution_count": 805,
   "metadata": {},
   "outputs": [
    {
     "data": {
      "text/html": [
       "<style type=\"text/css\">\n",
       "#T_ea84b_row0_col0, #T_ea84b_row0_col1, #T_ea84b_row0_col2 {\n",
       "  color: black;\n",
       "  background-color: #0074ff;\n",
       "}\n",
       "#T_ea84b_row0_col3, #T_ea84b_row0_col4 {\n",
       "  color: black;\n",
       "  background-color: #b900ff;\n",
       "}\n",
       "#T_ea84b_row1_col0, #T_ea84b_row1_col4, #T_ea84b_row2_col1, #T_ea84b_row2_col4 {\n",
       "  color: ;\n",
       "  background-color: ;\n",
       "}\n",
       "#T_ea84b_row1_col1, #T_ea84b_row1_col2, #T_ea84b_row2_col0 {\n",
       "  color: black;\n",
       "  background-color: #ff0000;\n",
       "}\n",
       "#T_ea84b_row1_col3, #T_ea84b_row2_col2, #T_ea84b_row2_col3 {\n",
       "  color: black;\n",
       "  background-color: #00ff5c;\n",
       "}\n",
       "</style>\n",
       "<table id=\"T_ea84b\">\n",
       "  <thead>\n",
       "    <tr>\n",
       "      <th class=\"blank level0\" >&nbsp;</th>\n",
       "      <th id=\"T_ea84b_level0_col0\" class=\"col_heading level0 col0\" >0</th>\n",
       "      <th id=\"T_ea84b_level0_col1\" class=\"col_heading level0 col1\" >1</th>\n",
       "      <th id=\"T_ea84b_level0_col2\" class=\"col_heading level0 col2\" >2</th>\n",
       "      <th id=\"T_ea84b_level0_col3\" class=\"col_heading level0 col3\" >3</th>\n",
       "      <th id=\"T_ea84b_level0_col4\" class=\"col_heading level0 col4\" >4</th>\n",
       "    </tr>\n",
       "  </thead>\n",
       "  <tbody>\n",
       "    <tr>\n",
       "      <th id=\"T_ea84b_level0_row0\" class=\"row_heading level0 row0\" >Olivia</th>\n",
       "      <td id=\"T_ea84b_row0_col0\" class=\"data row0 col0\" >B</td>\n",
       "      <td id=\"T_ea84b_row0_col1\" class=\"data row0 col1\" >C</td>\n",
       "      <td id=\"T_ea84b_row0_col2\" class=\"data row0 col2\" >B</td>\n",
       "      <td id=\"T_ea84b_row0_col3\" class=\"data row0 col3\" >C</td>\n",
       "      <td id=\"T_ea84b_row0_col4\" class=\"data row0 col4\" >C</td>\n",
       "    </tr>\n",
       "    <tr>\n",
       "      <th id=\"T_ea84b_level0_row1\" class=\"row_heading level0 row1\" >Liam</th>\n",
       "      <td id=\"T_ea84b_row1_col0\" class=\"data row1 col0\" >None</td>\n",
       "      <td id=\"T_ea84b_row1_col1\" class=\"data row1 col1\" >A</td>\n",
       "      <td id=\"T_ea84b_row1_col2\" class=\"data row1 col2\" >B</td>\n",
       "      <td id=\"T_ea84b_row1_col3\" class=\"data row1 col3\" >A</td>\n",
       "      <td id=\"T_ea84b_row1_col4\" class=\"data row1 col4\" >None</td>\n",
       "    </tr>\n",
       "    <tr>\n",
       "      <th id=\"T_ea84b_level0_row2\" class=\"row_heading level0 row2\" >Emma</th>\n",
       "      <td id=\"T_ea84b_row2_col0\" class=\"data row2 col0\" >C</td>\n",
       "      <td id=\"T_ea84b_row2_col1\" class=\"data row2 col1\" >None</td>\n",
       "      <td id=\"T_ea84b_row2_col2\" class=\"data row2 col2\" >C</td>\n",
       "      <td id=\"T_ea84b_row2_col3\" class=\"data row2 col3\" >C</td>\n",
       "      <td id=\"T_ea84b_row2_col4\" class=\"data row2 col4\" >None</td>\n",
       "    </tr>\n",
       "  </tbody>\n",
       "</table>\n"
      ],
      "text/plain": [
       "<pandas.io.formats.style.Styler at 0x7f85a8de3370>"
      ]
     },
     "execution_count": 805,
     "metadata": {},
     "output_type": "execute_result"
    }
   ],
   "source": [
    "display_time_table()"
   ]
  },
  {
   "cell_type": "code",
   "execution_count": 806,
   "metadata": {},
   "outputs": [
    {
     "data": {
      "text/plain": [
       "3.0"
      ]
     },
     "execution_count": 806,
     "metadata": {},
     "output_type": "execute_result"
    }
   ],
   "source": [
    "max_duration.x"
   ]
  },
  {
   "cell_type": "code",
   "execution_count": 807,
   "metadata": {},
   "outputs": [
    {
     "data": {
      "text/plain": [
       "2.0"
      ]
     },
     "execution_count": 807,
     "metadata": {},
     "output_type": "execute_result"
    }
   ],
   "source": [
    "max_assigned.x"
   ]
  }
 ],
 "metadata": {
  "kernelspec": {
   "display_name": "Python 3",
   "language": "python",
   "name": "python3"
  },
  "language_info": {
   "codemirror_mode": {
    "name": "ipython",
    "version": 3
   },
   "file_extension": ".py",
   "mimetype": "text/x-python",
   "name": "python",
   "nbconvert_exporter": "python",
   "pygments_lexer": "ipython3",
   "version": "3.10.4"
  },
  "orig_nbformat": 4,
  "vscode": {
   "interpreter": {
    "hash": "5372fa4cf8c924fc741702be56b11c428b552d59c4a502a0fb32c9af273f7d1e"
   }
  }
 },
 "nbformat": 4,
 "nbformat_minor": 2
}
