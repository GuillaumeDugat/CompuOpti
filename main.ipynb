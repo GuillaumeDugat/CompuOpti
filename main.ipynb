{
 "cells": [
  {
   "attachments": {},
   "cell_type": "markdown",
   "metadata": {},
   "source": [
    "# CompuOpti"
   ]
  },
  {
   "cell_type": "code",
   "execution_count": 409,
   "metadata": {},
   "outputs": [],
   "source": [
    "import os\n",
    "import json\n",
    "\n",
    "import numpy as np\n",
    "import gurobipy as grb\n",
    "from gurobipy import GRB"
   ]
  },
  {
   "cell_type": "code",
   "execution_count": 410,
   "metadata": {},
   "outputs": [],
   "source": [
    "INF = 2 ** 64"
   ]
  },
  {
   "cell_type": "code",
   "execution_count": 411,
   "metadata": {},
   "outputs": [],
   "source": [
    "model = grb.Model()"
   ]
  },
  {
   "cell_type": "code",
   "execution_count": 412,
   "metadata": {},
   "outputs": [],
   "source": [
    "instance = \"toy_instance.json\"\n",
    "\n",
    "file = os.path.join(\"instances\", instance)\n",
    "data = json.load(open(file, \"r\"))"
   ]
  },
  {
   "attachments": {},
   "cell_type": "markdown",
   "metadata": {},
   "source": [
    "## Modeling"
   ]
  },
  {
   "attachments": {},
   "cell_type": "markdown",
   "metadata": {},
   "source": [
    "### Parameters of the problem"
   ]
  },
  {
   "attachments": {},
   "cell_type": "markdown",
   "metadata": {},
   "source": [
    "Define the length of indices"
   ]
  },
  {
   "cell_type": "code",
   "execution_count": 413,
   "metadata": {},
   "outputs": [],
   "source": [
    "# Number of workers\n",
    "worker_length = len(data[\"staff\"])\n",
    "\n",
    "# Number of jobs\n",
    "job_length = len(data[\"jobs\"])\n",
    "\n",
    "# Number of skills\n",
    "skill_length = len(data[\"qualifications\"])\n",
    "\n",
    "# Number of days\n",
    "day_length = data[\"horizon\"]"
   ]
  },
  {
   "attachments": {},
   "cell_type": "markdown",
   "metadata": {},
   "source": [
    "Define jobs parameters"
   ]
  },
  {
   "cell_type": "code",
   "execution_count": 414,
   "metadata": {},
   "outputs": [],
   "source": [
    "gains_job = np.array([job[\"gain\"] for job in data[\"jobs\"]])\n",
    "penalties_job = np.array([job[\"daily_penalty\"] for job in data[\"jobs\"]])\n",
    "due_dates_job = np.array([job[\"due_date\"] for job in data[\"jobs\"]])\n",
    "work_days_job_skill = np.array([\n",
    "    [\n",
    "        job[\"working_days_per_qualification\"][skill] if skill in job[\"working_days_per_qualification\"] else 0\n",
    "        for skill in data[\"qualifications\"]\n",
    "    ]\n",
    "    for job in data[\"jobs\"]\n",
    "])"
   ]
  },
  {
   "attachments": {},
   "cell_type": "markdown",
   "metadata": {},
   "source": [
    "Define staff parameters"
   ]
  },
  {
   "cell_type": "code",
   "execution_count": 415,
   "metadata": {},
   "outputs": [],
   "source": [
    "qualifications_worker_skill = np.array([\n",
    "    [\n",
    "        1 if skill in worker[\"qualifications\"] else 0\n",
    "        for skill in data[\"qualifications\"]\n",
    "    ]\n",
    "    for worker in data[\"staff\"]\n",
    "])\n",
    "vacations_worker_day = np.array([\n",
    "    [\n",
    "        1 if 1 + day in worker[\"vacations\"] else 0\n",
    "        for day in range(day_length)\n",
    "    ]\n",
    "    for worker in data[\"staff\"]\n",
    "])"
   ]
  },
  {
   "attachments": {},
   "cell_type": "markdown",
   "metadata": {},
   "source": [
    "### Decision variables"
   ]
  },
  {
   "attachments": {},
   "cell_type": "markdown",
   "metadata": {},
   "source": [
    "Variable to model the full solution"
   ]
  },
  {
   "cell_type": "code",
   "execution_count": 416,
   "metadata": {},
   "outputs": [],
   "source": [
    "# 4-D array of binary variables : 1 if a worker is assigned to a certain project for a certain skill on a certain day, else 0\n",
    "works_worker_job_skill_day = model.addVars(worker_length, job_length, skill_length, day_length, vtype=GRB.BINARY, name=\"work\")"
   ]
  },
  {
   "attachments": {},
   "cell_type": "markdown",
   "metadata": {},
   "source": [
    "Variables to compute the total gain"
   ]
  },
  {
   "cell_type": "code",
   "execution_count": 417,
   "metadata": {},
   "outputs": [],
   "source": [
    "is_realized_job = model.addVars(job_length, vtype=GRB.BINARY, name=\"is_realized\") # 1 if a job is realized, else 0"
   ]
  },
  {
   "attachments": {},
   "cell_type": "markdown",
   "metadata": {},
   "source": [
    "Variable to compute the maximum duration (and the penalties)"
   ]
  },
  {
   "cell_type": "code",
   "execution_count": 418,
   "metadata": {},
   "outputs": [],
   "source": [
    "is_worked_job_day = model.addVars(job_length, day_length, vtype=GRB.BINARY, name=\"is_worked\") # 1 if a certain day is a work day for a certain job, else 0\n",
    "max_duration = model.addVar(vtype=GRB.INTEGER, name=\"max_duration\") # Integer that represents the maximum duration for any job"
   ]
  },
  {
   "attachments": {},
   "cell_type": "markdown",
   "metadata": {},
   "source": [
    "Variables to compute the maximum assignement"
   ]
  },
  {
   "cell_type": "code",
   "execution_count": 419,
   "metadata": {},
   "outputs": [],
   "source": [
    "is_assigned_worker_job = model.addVars(worker_length, job_length, vtype=GRB.BINARY, name=\"is_assigned\") # 1 if a certain worker is assigned on a certain job, else 0\n",
    "max_assigned = model.addVar(vtype=GRB.INTEGER, name=\"max_assigned\") # Integer that represents the maximum number of assigned jobs for any worker"
   ]
  },
  {
   "attachments": {},
   "cell_type": "markdown",
   "metadata": {},
   "source": [
    "### Constraints"
   ]
  },
  {
   "attachments": {},
   "cell_type": "markdown",
   "metadata": {},
   "source": [
    "#### Time Table Constraints\n",
    "\n",
    "Define the constraints of the planning problem itself."
   ]
  },
  {
   "attachments": {},
   "cell_type": "markdown",
   "metadata": {},
   "source": [
    "- Worker qualification constraint"
   ]
  },
  {
   "cell_type": "code",
   "execution_count": 420,
   "metadata": {},
   "outputs": [
    {
     "data": {
      "text/plain": [
       "{(0, 0, 0, 0): <gurobi.Constr *Awaiting Model Update*>,\n",
       " (0, 0, 0, 1): <gurobi.Constr *Awaiting Model Update*>,\n",
       " (0, 0, 0, 2): <gurobi.Constr *Awaiting Model Update*>,\n",
       " (0, 0, 0, 3): <gurobi.Constr *Awaiting Model Update*>,\n",
       " (0, 0, 0, 4): <gurobi.Constr *Awaiting Model Update*>,\n",
       " (0, 0, 1, 0): <gurobi.Constr *Awaiting Model Update*>,\n",
       " (0, 0, 1, 1): <gurobi.Constr *Awaiting Model Update*>,\n",
       " (0, 0, 1, 2): <gurobi.Constr *Awaiting Model Update*>,\n",
       " (0, 0, 1, 3): <gurobi.Constr *Awaiting Model Update*>,\n",
       " (0, 0, 1, 4): <gurobi.Constr *Awaiting Model Update*>,\n",
       " (0, 0, 2, 0): <gurobi.Constr *Awaiting Model Update*>,\n",
       " (0, 0, 2, 1): <gurobi.Constr *Awaiting Model Update*>,\n",
       " (0, 0, 2, 2): <gurobi.Constr *Awaiting Model Update*>,\n",
       " (0, 0, 2, 3): <gurobi.Constr *Awaiting Model Update*>,\n",
       " (0, 0, 2, 4): <gurobi.Constr *Awaiting Model Update*>,\n",
       " (0, 1, 0, 0): <gurobi.Constr *Awaiting Model Update*>,\n",
       " (0, 1, 0, 1): <gurobi.Constr *Awaiting Model Update*>,\n",
       " (0, 1, 0, 2): <gurobi.Constr *Awaiting Model Update*>,\n",
       " (0, 1, 0, 3): <gurobi.Constr *Awaiting Model Update*>,\n",
       " (0, 1, 0, 4): <gurobi.Constr *Awaiting Model Update*>,\n",
       " (0, 1, 1, 0): <gurobi.Constr *Awaiting Model Update*>,\n",
       " (0, 1, 1, 1): <gurobi.Constr *Awaiting Model Update*>,\n",
       " (0, 1, 1, 2): <gurobi.Constr *Awaiting Model Update*>,\n",
       " (0, 1, 1, 3): <gurobi.Constr *Awaiting Model Update*>,\n",
       " (0, 1, 1, 4): <gurobi.Constr *Awaiting Model Update*>,\n",
       " (0, 1, 2, 0): <gurobi.Constr *Awaiting Model Update*>,\n",
       " (0, 1, 2, 1): <gurobi.Constr *Awaiting Model Update*>,\n",
       " (0, 1, 2, 2): <gurobi.Constr *Awaiting Model Update*>,\n",
       " (0, 1, 2, 3): <gurobi.Constr *Awaiting Model Update*>,\n",
       " (0, 1, 2, 4): <gurobi.Constr *Awaiting Model Update*>,\n",
       " (0, 2, 0, 0): <gurobi.Constr *Awaiting Model Update*>,\n",
       " (0, 2, 0, 1): <gurobi.Constr *Awaiting Model Update*>,\n",
       " (0, 2, 0, 2): <gurobi.Constr *Awaiting Model Update*>,\n",
       " (0, 2, 0, 3): <gurobi.Constr *Awaiting Model Update*>,\n",
       " (0, 2, 0, 4): <gurobi.Constr *Awaiting Model Update*>,\n",
       " (0, 2, 1, 0): <gurobi.Constr *Awaiting Model Update*>,\n",
       " (0, 2, 1, 1): <gurobi.Constr *Awaiting Model Update*>,\n",
       " (0, 2, 1, 2): <gurobi.Constr *Awaiting Model Update*>,\n",
       " (0, 2, 1, 3): <gurobi.Constr *Awaiting Model Update*>,\n",
       " (0, 2, 1, 4): <gurobi.Constr *Awaiting Model Update*>,\n",
       " (0, 2, 2, 0): <gurobi.Constr *Awaiting Model Update*>,\n",
       " (0, 2, 2, 1): <gurobi.Constr *Awaiting Model Update*>,\n",
       " (0, 2, 2, 2): <gurobi.Constr *Awaiting Model Update*>,\n",
       " (0, 2, 2, 3): <gurobi.Constr *Awaiting Model Update*>,\n",
       " (0, 2, 2, 4): <gurobi.Constr *Awaiting Model Update*>,\n",
       " (0, 3, 0, 0): <gurobi.Constr *Awaiting Model Update*>,\n",
       " (0, 3, 0, 1): <gurobi.Constr *Awaiting Model Update*>,\n",
       " (0, 3, 0, 2): <gurobi.Constr *Awaiting Model Update*>,\n",
       " (0, 3, 0, 3): <gurobi.Constr *Awaiting Model Update*>,\n",
       " (0, 3, 0, 4): <gurobi.Constr *Awaiting Model Update*>,\n",
       " (0, 3, 1, 0): <gurobi.Constr *Awaiting Model Update*>,\n",
       " (0, 3, 1, 1): <gurobi.Constr *Awaiting Model Update*>,\n",
       " (0, 3, 1, 2): <gurobi.Constr *Awaiting Model Update*>,\n",
       " (0, 3, 1, 3): <gurobi.Constr *Awaiting Model Update*>,\n",
       " (0, 3, 1, 4): <gurobi.Constr *Awaiting Model Update*>,\n",
       " (0, 3, 2, 0): <gurobi.Constr *Awaiting Model Update*>,\n",
       " (0, 3, 2, 1): <gurobi.Constr *Awaiting Model Update*>,\n",
       " (0, 3, 2, 2): <gurobi.Constr *Awaiting Model Update*>,\n",
       " (0, 3, 2, 3): <gurobi.Constr *Awaiting Model Update*>,\n",
       " (0, 3, 2, 4): <gurobi.Constr *Awaiting Model Update*>,\n",
       " (0, 4, 0, 0): <gurobi.Constr *Awaiting Model Update*>,\n",
       " (0, 4, 0, 1): <gurobi.Constr *Awaiting Model Update*>,\n",
       " (0, 4, 0, 2): <gurobi.Constr *Awaiting Model Update*>,\n",
       " (0, 4, 0, 3): <gurobi.Constr *Awaiting Model Update*>,\n",
       " (0, 4, 0, 4): <gurobi.Constr *Awaiting Model Update*>,\n",
       " (0, 4, 1, 0): <gurobi.Constr *Awaiting Model Update*>,\n",
       " (0, 4, 1, 1): <gurobi.Constr *Awaiting Model Update*>,\n",
       " (0, 4, 1, 2): <gurobi.Constr *Awaiting Model Update*>,\n",
       " (0, 4, 1, 3): <gurobi.Constr *Awaiting Model Update*>,\n",
       " (0, 4, 1, 4): <gurobi.Constr *Awaiting Model Update*>,\n",
       " (0, 4, 2, 0): <gurobi.Constr *Awaiting Model Update*>,\n",
       " (0, 4, 2, 1): <gurobi.Constr *Awaiting Model Update*>,\n",
       " (0, 4, 2, 2): <gurobi.Constr *Awaiting Model Update*>,\n",
       " (0, 4, 2, 3): <gurobi.Constr *Awaiting Model Update*>,\n",
       " (0, 4, 2, 4): <gurobi.Constr *Awaiting Model Update*>,\n",
       " (1, 0, 0, 0): <gurobi.Constr *Awaiting Model Update*>,\n",
       " (1, 0, 0, 1): <gurobi.Constr *Awaiting Model Update*>,\n",
       " (1, 0, 0, 2): <gurobi.Constr *Awaiting Model Update*>,\n",
       " (1, 0, 0, 3): <gurobi.Constr *Awaiting Model Update*>,\n",
       " (1, 0, 0, 4): <gurobi.Constr *Awaiting Model Update*>,\n",
       " (1, 0, 1, 0): <gurobi.Constr *Awaiting Model Update*>,\n",
       " (1, 0, 1, 1): <gurobi.Constr *Awaiting Model Update*>,\n",
       " (1, 0, 1, 2): <gurobi.Constr *Awaiting Model Update*>,\n",
       " (1, 0, 1, 3): <gurobi.Constr *Awaiting Model Update*>,\n",
       " (1, 0, 1, 4): <gurobi.Constr *Awaiting Model Update*>,\n",
       " (1, 0, 2, 0): <gurobi.Constr *Awaiting Model Update*>,\n",
       " (1, 0, 2, 1): <gurobi.Constr *Awaiting Model Update*>,\n",
       " (1, 0, 2, 2): <gurobi.Constr *Awaiting Model Update*>,\n",
       " (1, 0, 2, 3): <gurobi.Constr *Awaiting Model Update*>,\n",
       " (1, 0, 2, 4): <gurobi.Constr *Awaiting Model Update*>,\n",
       " (1, 1, 0, 0): <gurobi.Constr *Awaiting Model Update*>,\n",
       " (1, 1, 0, 1): <gurobi.Constr *Awaiting Model Update*>,\n",
       " (1, 1, 0, 2): <gurobi.Constr *Awaiting Model Update*>,\n",
       " (1, 1, 0, 3): <gurobi.Constr *Awaiting Model Update*>,\n",
       " (1, 1, 0, 4): <gurobi.Constr *Awaiting Model Update*>,\n",
       " (1, 1, 1, 0): <gurobi.Constr *Awaiting Model Update*>,\n",
       " (1, 1, 1, 1): <gurobi.Constr *Awaiting Model Update*>,\n",
       " (1, 1, 1, 2): <gurobi.Constr *Awaiting Model Update*>,\n",
       " (1, 1, 1, 3): <gurobi.Constr *Awaiting Model Update*>,\n",
       " (1, 1, 1, 4): <gurobi.Constr *Awaiting Model Update*>,\n",
       " (1, 1, 2, 0): <gurobi.Constr *Awaiting Model Update*>,\n",
       " (1, 1, 2, 1): <gurobi.Constr *Awaiting Model Update*>,\n",
       " (1, 1, 2, 2): <gurobi.Constr *Awaiting Model Update*>,\n",
       " (1, 1, 2, 3): <gurobi.Constr *Awaiting Model Update*>,\n",
       " (1, 1, 2, 4): <gurobi.Constr *Awaiting Model Update*>,\n",
       " (1, 2, 0, 0): <gurobi.Constr *Awaiting Model Update*>,\n",
       " (1, 2, 0, 1): <gurobi.Constr *Awaiting Model Update*>,\n",
       " (1, 2, 0, 2): <gurobi.Constr *Awaiting Model Update*>,\n",
       " (1, 2, 0, 3): <gurobi.Constr *Awaiting Model Update*>,\n",
       " (1, 2, 0, 4): <gurobi.Constr *Awaiting Model Update*>,\n",
       " (1, 2, 1, 0): <gurobi.Constr *Awaiting Model Update*>,\n",
       " (1, 2, 1, 1): <gurobi.Constr *Awaiting Model Update*>,\n",
       " (1, 2, 1, 2): <gurobi.Constr *Awaiting Model Update*>,\n",
       " (1, 2, 1, 3): <gurobi.Constr *Awaiting Model Update*>,\n",
       " (1, 2, 1, 4): <gurobi.Constr *Awaiting Model Update*>,\n",
       " (1, 2, 2, 0): <gurobi.Constr *Awaiting Model Update*>,\n",
       " (1, 2, 2, 1): <gurobi.Constr *Awaiting Model Update*>,\n",
       " (1, 2, 2, 2): <gurobi.Constr *Awaiting Model Update*>,\n",
       " (1, 2, 2, 3): <gurobi.Constr *Awaiting Model Update*>,\n",
       " (1, 2, 2, 4): <gurobi.Constr *Awaiting Model Update*>,\n",
       " (1, 3, 0, 0): <gurobi.Constr *Awaiting Model Update*>,\n",
       " (1, 3, 0, 1): <gurobi.Constr *Awaiting Model Update*>,\n",
       " (1, 3, 0, 2): <gurobi.Constr *Awaiting Model Update*>,\n",
       " (1, 3, 0, 3): <gurobi.Constr *Awaiting Model Update*>,\n",
       " (1, 3, 0, 4): <gurobi.Constr *Awaiting Model Update*>,\n",
       " (1, 3, 1, 0): <gurobi.Constr *Awaiting Model Update*>,\n",
       " (1, 3, 1, 1): <gurobi.Constr *Awaiting Model Update*>,\n",
       " (1, 3, 1, 2): <gurobi.Constr *Awaiting Model Update*>,\n",
       " (1, 3, 1, 3): <gurobi.Constr *Awaiting Model Update*>,\n",
       " (1, 3, 1, 4): <gurobi.Constr *Awaiting Model Update*>,\n",
       " (1, 3, 2, 0): <gurobi.Constr *Awaiting Model Update*>,\n",
       " (1, 3, 2, 1): <gurobi.Constr *Awaiting Model Update*>,\n",
       " (1, 3, 2, 2): <gurobi.Constr *Awaiting Model Update*>,\n",
       " (1, 3, 2, 3): <gurobi.Constr *Awaiting Model Update*>,\n",
       " (1, 3, 2, 4): <gurobi.Constr *Awaiting Model Update*>,\n",
       " (1, 4, 0, 0): <gurobi.Constr *Awaiting Model Update*>,\n",
       " (1, 4, 0, 1): <gurobi.Constr *Awaiting Model Update*>,\n",
       " (1, 4, 0, 2): <gurobi.Constr *Awaiting Model Update*>,\n",
       " (1, 4, 0, 3): <gurobi.Constr *Awaiting Model Update*>,\n",
       " (1, 4, 0, 4): <gurobi.Constr *Awaiting Model Update*>,\n",
       " (1, 4, 1, 0): <gurobi.Constr *Awaiting Model Update*>,\n",
       " (1, 4, 1, 1): <gurobi.Constr *Awaiting Model Update*>,\n",
       " (1, 4, 1, 2): <gurobi.Constr *Awaiting Model Update*>,\n",
       " (1, 4, 1, 3): <gurobi.Constr *Awaiting Model Update*>,\n",
       " (1, 4, 1, 4): <gurobi.Constr *Awaiting Model Update*>,\n",
       " (1, 4, 2, 0): <gurobi.Constr *Awaiting Model Update*>,\n",
       " (1, 4, 2, 1): <gurobi.Constr *Awaiting Model Update*>,\n",
       " (1, 4, 2, 2): <gurobi.Constr *Awaiting Model Update*>,\n",
       " (1, 4, 2, 3): <gurobi.Constr *Awaiting Model Update*>,\n",
       " (1, 4, 2, 4): <gurobi.Constr *Awaiting Model Update*>,\n",
       " (2, 0, 0, 0): <gurobi.Constr *Awaiting Model Update*>,\n",
       " (2, 0, 0, 1): <gurobi.Constr *Awaiting Model Update*>,\n",
       " (2, 0, 0, 2): <gurobi.Constr *Awaiting Model Update*>,\n",
       " (2, 0, 0, 3): <gurobi.Constr *Awaiting Model Update*>,\n",
       " (2, 0, 0, 4): <gurobi.Constr *Awaiting Model Update*>,\n",
       " (2, 0, 1, 0): <gurobi.Constr *Awaiting Model Update*>,\n",
       " (2, 0, 1, 1): <gurobi.Constr *Awaiting Model Update*>,\n",
       " (2, 0, 1, 2): <gurobi.Constr *Awaiting Model Update*>,\n",
       " (2, 0, 1, 3): <gurobi.Constr *Awaiting Model Update*>,\n",
       " (2, 0, 1, 4): <gurobi.Constr *Awaiting Model Update*>,\n",
       " (2, 0, 2, 0): <gurobi.Constr *Awaiting Model Update*>,\n",
       " (2, 0, 2, 1): <gurobi.Constr *Awaiting Model Update*>,\n",
       " (2, 0, 2, 2): <gurobi.Constr *Awaiting Model Update*>,\n",
       " (2, 0, 2, 3): <gurobi.Constr *Awaiting Model Update*>,\n",
       " (2, 0, 2, 4): <gurobi.Constr *Awaiting Model Update*>,\n",
       " (2, 1, 0, 0): <gurobi.Constr *Awaiting Model Update*>,\n",
       " (2, 1, 0, 1): <gurobi.Constr *Awaiting Model Update*>,\n",
       " (2, 1, 0, 2): <gurobi.Constr *Awaiting Model Update*>,\n",
       " (2, 1, 0, 3): <gurobi.Constr *Awaiting Model Update*>,\n",
       " (2, 1, 0, 4): <gurobi.Constr *Awaiting Model Update*>,\n",
       " (2, 1, 1, 0): <gurobi.Constr *Awaiting Model Update*>,\n",
       " (2, 1, 1, 1): <gurobi.Constr *Awaiting Model Update*>,\n",
       " (2, 1, 1, 2): <gurobi.Constr *Awaiting Model Update*>,\n",
       " (2, 1, 1, 3): <gurobi.Constr *Awaiting Model Update*>,\n",
       " (2, 1, 1, 4): <gurobi.Constr *Awaiting Model Update*>,\n",
       " (2, 1, 2, 0): <gurobi.Constr *Awaiting Model Update*>,\n",
       " (2, 1, 2, 1): <gurobi.Constr *Awaiting Model Update*>,\n",
       " (2, 1, 2, 2): <gurobi.Constr *Awaiting Model Update*>,\n",
       " (2, 1, 2, 3): <gurobi.Constr *Awaiting Model Update*>,\n",
       " (2, 1, 2, 4): <gurobi.Constr *Awaiting Model Update*>,\n",
       " (2, 2, 0, 0): <gurobi.Constr *Awaiting Model Update*>,\n",
       " (2, 2, 0, 1): <gurobi.Constr *Awaiting Model Update*>,\n",
       " (2, 2, 0, 2): <gurobi.Constr *Awaiting Model Update*>,\n",
       " (2, 2, 0, 3): <gurobi.Constr *Awaiting Model Update*>,\n",
       " (2, 2, 0, 4): <gurobi.Constr *Awaiting Model Update*>,\n",
       " (2, 2, 1, 0): <gurobi.Constr *Awaiting Model Update*>,\n",
       " (2, 2, 1, 1): <gurobi.Constr *Awaiting Model Update*>,\n",
       " (2, 2, 1, 2): <gurobi.Constr *Awaiting Model Update*>,\n",
       " (2, 2, 1, 3): <gurobi.Constr *Awaiting Model Update*>,\n",
       " (2, 2, 1, 4): <gurobi.Constr *Awaiting Model Update*>,\n",
       " (2, 2, 2, 0): <gurobi.Constr *Awaiting Model Update*>,\n",
       " (2, 2, 2, 1): <gurobi.Constr *Awaiting Model Update*>,\n",
       " (2, 2, 2, 2): <gurobi.Constr *Awaiting Model Update*>,\n",
       " (2, 2, 2, 3): <gurobi.Constr *Awaiting Model Update*>,\n",
       " (2, 2, 2, 4): <gurobi.Constr *Awaiting Model Update*>,\n",
       " (2, 3, 0, 0): <gurobi.Constr *Awaiting Model Update*>,\n",
       " (2, 3, 0, 1): <gurobi.Constr *Awaiting Model Update*>,\n",
       " (2, 3, 0, 2): <gurobi.Constr *Awaiting Model Update*>,\n",
       " (2, 3, 0, 3): <gurobi.Constr *Awaiting Model Update*>,\n",
       " (2, 3, 0, 4): <gurobi.Constr *Awaiting Model Update*>,\n",
       " (2, 3, 1, 0): <gurobi.Constr *Awaiting Model Update*>,\n",
       " (2, 3, 1, 1): <gurobi.Constr *Awaiting Model Update*>,\n",
       " (2, 3, 1, 2): <gurobi.Constr *Awaiting Model Update*>,\n",
       " (2, 3, 1, 3): <gurobi.Constr *Awaiting Model Update*>,\n",
       " (2, 3, 1, 4): <gurobi.Constr *Awaiting Model Update*>,\n",
       " (2, 3, 2, 0): <gurobi.Constr *Awaiting Model Update*>,\n",
       " (2, 3, 2, 1): <gurobi.Constr *Awaiting Model Update*>,\n",
       " (2, 3, 2, 2): <gurobi.Constr *Awaiting Model Update*>,\n",
       " (2, 3, 2, 3): <gurobi.Constr *Awaiting Model Update*>,\n",
       " (2, 3, 2, 4): <gurobi.Constr *Awaiting Model Update*>,\n",
       " (2, 4, 0, 0): <gurobi.Constr *Awaiting Model Update*>,\n",
       " (2, 4, 0, 1): <gurobi.Constr *Awaiting Model Update*>,\n",
       " (2, 4, 0, 2): <gurobi.Constr *Awaiting Model Update*>,\n",
       " (2, 4, 0, 3): <gurobi.Constr *Awaiting Model Update*>,\n",
       " (2, 4, 0, 4): <gurobi.Constr *Awaiting Model Update*>,\n",
       " (2, 4, 1, 0): <gurobi.Constr *Awaiting Model Update*>,\n",
       " (2, 4, 1, 1): <gurobi.Constr *Awaiting Model Update*>,\n",
       " (2, 4, 1, 2): <gurobi.Constr *Awaiting Model Update*>,\n",
       " (2, 4, 1, 3): <gurobi.Constr *Awaiting Model Update*>,\n",
       " (2, 4, 1, 4): <gurobi.Constr *Awaiting Model Update*>,\n",
       " (2, 4, 2, 0): <gurobi.Constr *Awaiting Model Update*>,\n",
       " (2, 4, 2, 1): <gurobi.Constr *Awaiting Model Update*>,\n",
       " (2, 4, 2, 2): <gurobi.Constr *Awaiting Model Update*>,\n",
       " (2, 4, 2, 3): <gurobi.Constr *Awaiting Model Update*>,\n",
       " (2, 4, 2, 4): <gurobi.Constr *Awaiting Model Update*>}"
      ]
     },
     "execution_count": 420,
     "metadata": {},
     "output_type": "execute_result"
    }
   ],
   "source": [
    "model.addConstrs(\n",
    "    (\n",
    "        works_worker_job_skill_day[worker, job, skill, day] <= qualifications_worker_skill[worker, skill]\n",
    "        for worker in range(worker_length)\n",
    "        for job in range(job_length)\n",
    "        for skill in range(skill_length)\n",
    "        for day in range(day_length)\n",
    "    ),\n",
    "    name=\"qualification\",\n",
    ")"
   ]
  },
  {
   "attachments": {},
   "cell_type": "markdown",
   "metadata": {},
   "source": [
    "- Uniqueness of the daily assignement : *done with the vacation constraint (see below)*"
   ]
  },
  {
   "attachments": {},
   "cell_type": "markdown",
   "metadata": {},
   "source": [
    "- Vacation constraint"
   ]
  },
  {
   "cell_type": "code",
   "execution_count": 421,
   "metadata": {},
   "outputs": [
    {
     "data": {
      "text/plain": [
       "{(0, 0): <gurobi.Constr *Awaiting Model Update*>,\n",
       " (0, 1): <gurobi.Constr *Awaiting Model Update*>,\n",
       " (0, 2): <gurobi.Constr *Awaiting Model Update*>,\n",
       " (0, 3): <gurobi.Constr *Awaiting Model Update*>,\n",
       " (0, 4): <gurobi.Constr *Awaiting Model Update*>,\n",
       " (1, 0): <gurobi.Constr *Awaiting Model Update*>,\n",
       " (1, 1): <gurobi.Constr *Awaiting Model Update*>,\n",
       " (1, 2): <gurobi.Constr *Awaiting Model Update*>,\n",
       " (1, 3): <gurobi.Constr *Awaiting Model Update*>,\n",
       " (1, 4): <gurobi.Constr *Awaiting Model Update*>,\n",
       " (2, 0): <gurobi.Constr *Awaiting Model Update*>,\n",
       " (2, 1): <gurobi.Constr *Awaiting Model Update*>,\n",
       " (2, 2): <gurobi.Constr *Awaiting Model Update*>,\n",
       " (2, 3): <gurobi.Constr *Awaiting Model Update*>,\n",
       " (2, 4): <gurobi.Constr *Awaiting Model Update*>}"
      ]
     },
     "execution_count": 421,
     "metadata": {},
     "output_type": "execute_result"
    }
   ],
   "source": [
    "model.addConstrs(\n",
    "    (\n",
    "        grb.quicksum(works_worker_job_skill_day[worker, job, skill, day] for job in range(job_length) for skill in range(skill_length)) \\\n",
    "            <= 1 - vacations_worker_day[worker, day]\n",
    "        for worker in range(worker_length)\n",
    "        for day in range(day_length)\n",
    "    ),\n",
    "    name=\"vacation\",\n",
    ")"
   ]
  },
  {
   "attachments": {},
   "cell_type": "markdown",
   "metadata": {},
   "source": [
    "- Job coverage constraint"
   ]
  },
  {
   "cell_type": "code",
   "execution_count": 422,
   "metadata": {},
   "outputs": [
    {
     "data": {
      "text/plain": [
       "{(0, 0): <gurobi.Constr *Awaiting Model Update*>,\n",
       " (0, 1): <gurobi.Constr *Awaiting Model Update*>,\n",
       " (0, 2): <gurobi.Constr *Awaiting Model Update*>,\n",
       " (1, 0): <gurobi.Constr *Awaiting Model Update*>,\n",
       " (1, 1): <gurobi.Constr *Awaiting Model Update*>,\n",
       " (1, 2): <gurobi.Constr *Awaiting Model Update*>,\n",
       " (2, 0): <gurobi.Constr *Awaiting Model Update*>,\n",
       " (2, 1): <gurobi.Constr *Awaiting Model Update*>,\n",
       " (2, 2): <gurobi.Constr *Awaiting Model Update*>,\n",
       " (3, 0): <gurobi.Constr *Awaiting Model Update*>,\n",
       " (3, 1): <gurobi.Constr *Awaiting Model Update*>,\n",
       " (3, 2): <gurobi.Constr *Awaiting Model Update*>,\n",
       " (4, 0): <gurobi.Constr *Awaiting Model Update*>,\n",
       " (4, 1): <gurobi.Constr *Awaiting Model Update*>,\n",
       " (4, 2): <gurobi.Constr *Awaiting Model Update*>}"
      ]
     },
     "execution_count": 422,
     "metadata": {},
     "output_type": "execute_result"
    }
   ],
   "source": [
    "model.addConstrs(\n",
    "    (\n",
    "        grb.quicksum(works_worker_job_skill_day[worker, job, skill, day] for worker in range(worker_length) for day in range(day_length)) \\\n",
    "            == is_realized_job[job] * work_days_job_skill[job, skill]\n",
    "        for job in range(job_length)\n",
    "        for skill in range(skill_length)\n",
    "    ),\n",
    "    name=\"job_coverage\",\n",
    ")"
   ]
  },
  {
   "attachments": {},
   "cell_type": "markdown",
   "metadata": {},
   "source": [
    "- Uniqueness of the realized projects : *done with realized_job either 0 or 1*"
   ]
  },
  {
   "attachments": {},
   "cell_type": "markdown",
   "metadata": {},
   "source": [
    "#### Variable Constraints\n",
    "\n",
    "Define the constraints that are related to the definition of additional variables."
   ]
  },
  {
   "attachments": {},
   "cell_type": "markdown",
   "metadata": {},
   "source": [
    "- Is realized : *done with job coverage constraint*"
   ]
  },
  {
   "attachments": {},
   "cell_type": "markdown",
   "metadata": {},
   "source": [
    "- Is worked"
   ]
  },
  {
   "cell_type": "code",
   "execution_count": 423,
   "metadata": {},
   "outputs": [
    {
     "data": {
      "text/plain": [
       "{(0, 0): <gurobi.Constr *Awaiting Model Update*>,\n",
       " (0, 1): <gurobi.Constr *Awaiting Model Update*>,\n",
       " (0, 2): <gurobi.Constr *Awaiting Model Update*>,\n",
       " (0, 3): <gurobi.Constr *Awaiting Model Update*>,\n",
       " (0, 4): <gurobi.Constr *Awaiting Model Update*>,\n",
       " (1, 0): <gurobi.Constr *Awaiting Model Update*>,\n",
       " (1, 1): <gurobi.Constr *Awaiting Model Update*>,\n",
       " (1, 2): <gurobi.Constr *Awaiting Model Update*>,\n",
       " (1, 3): <gurobi.Constr *Awaiting Model Update*>,\n",
       " (1, 4): <gurobi.Constr *Awaiting Model Update*>,\n",
       " (2, 0): <gurobi.Constr *Awaiting Model Update*>,\n",
       " (2, 1): <gurobi.Constr *Awaiting Model Update*>,\n",
       " (2, 2): <gurobi.Constr *Awaiting Model Update*>,\n",
       " (2, 3): <gurobi.Constr *Awaiting Model Update*>,\n",
       " (2, 4): <gurobi.Constr *Awaiting Model Update*>,\n",
       " (3, 0): <gurobi.Constr *Awaiting Model Update*>,\n",
       " (3, 1): <gurobi.Constr *Awaiting Model Update*>,\n",
       " (3, 2): <gurobi.Constr *Awaiting Model Update*>,\n",
       " (3, 3): <gurobi.Constr *Awaiting Model Update*>,\n",
       " (3, 4): <gurobi.Constr *Awaiting Model Update*>,\n",
       " (4, 0): <gurobi.Constr *Awaiting Model Update*>,\n",
       " (4, 1): <gurobi.Constr *Awaiting Model Update*>,\n",
       " (4, 2): <gurobi.Constr *Awaiting Model Update*>,\n",
       " (4, 3): <gurobi.Constr *Awaiting Model Update*>,\n",
       " (4, 4): <gurobi.Constr *Awaiting Model Update*>}"
      ]
     },
     "execution_count": 423,
     "metadata": {},
     "output_type": "execute_result"
    }
   ],
   "source": [
    "# exists_worker_skill works == 1 => is_worked == 1\n",
    "model.addConstrs(\n",
    "    (\n",
    "        works_worker_job_skill_day[worker, job, skill, day] <= is_worked_job_day[job, day]\n",
    "        for worker in range(worker_length)\n",
    "        for job in range(job_length)\n",
    "        for skill in range(skill_length)\n",
    "        for day in range(day_length)\n",
    "    ),\n",
    "    name=\"is_worked_job_day\",\n",
    ")\n",
    "# forall_worker_skill works == 0 => is_worked == 0\n",
    "model.addConstrs(\n",
    "    (\n",
    "        is_worked_job_day[job, day] <= \\\n",
    "            grb.quicksum(\n",
    "                works_worker_job_skill_day[worker, job, skill, day]\n",
    "                for worker in range(worker_length)\n",
    "                for skill in range(skill_length)\n",
    "            )\n",
    "        for job in range(job_length)\n",
    "        for day in range(day_length)\n",
    "    ),\n",
    "    name=\"is_worked_job_day_bis\",\n",
    ")"
   ]
  },
  {
   "attachments": {},
   "cell_type": "markdown",
   "metadata": {},
   "source": [
    "- Maximum duration"
   ]
  },
  {
   "cell_type": "code",
   "execution_count": 424,
   "metadata": {},
   "outputs": [
    {
     "data": {
      "text/plain": [
       "{0: <gurobi.Constr *Awaiting Model Update*>,\n",
       " 1: <gurobi.Constr *Awaiting Model Update*>,\n",
       " 2: <gurobi.Constr *Awaiting Model Update*>,\n",
       " 3: <gurobi.Constr *Awaiting Model Update*>,\n",
       " 4: <gurobi.Constr *Awaiting Model Update*>}"
      ]
     },
     "execution_count": 424,
     "metadata": {},
     "output_type": "execute_result"
    }
   ],
   "source": [
    "model.addConstrs(\n",
    "    (\n",
    "        grb.quicksum(is_worked_job_day[job, day] for day in range(day_length)) \\\n",
    "            <= max_duration\n",
    "        for job in range(job_length)\n",
    "    ),\n",
    "    name=\"max_duration\",\n",
    ")"
   ]
  },
  {
   "cell_type": "markdown",
   "metadata": {},
   "source": [
    "- Is assigned"
   ]
  },
  {
   "cell_type": "code",
   "execution_count": 425,
   "metadata": {},
   "outputs": [
    {
     "data": {
      "text/plain": [
       "{(0, 0): <gurobi.Constr *Awaiting Model Update*>,\n",
       " (0, 1): <gurobi.Constr *Awaiting Model Update*>,\n",
       " (0, 2): <gurobi.Constr *Awaiting Model Update*>,\n",
       " (0, 3): <gurobi.Constr *Awaiting Model Update*>,\n",
       " (0, 4): <gurobi.Constr *Awaiting Model Update*>,\n",
       " (1, 0): <gurobi.Constr *Awaiting Model Update*>,\n",
       " (1, 1): <gurobi.Constr *Awaiting Model Update*>,\n",
       " (1, 2): <gurobi.Constr *Awaiting Model Update*>,\n",
       " (1, 3): <gurobi.Constr *Awaiting Model Update*>,\n",
       " (1, 4): <gurobi.Constr *Awaiting Model Update*>,\n",
       " (2, 0): <gurobi.Constr *Awaiting Model Update*>,\n",
       " (2, 1): <gurobi.Constr *Awaiting Model Update*>,\n",
       " (2, 2): <gurobi.Constr *Awaiting Model Update*>,\n",
       " (2, 3): <gurobi.Constr *Awaiting Model Update*>,\n",
       " (2, 4): <gurobi.Constr *Awaiting Model Update*>}"
      ]
     },
     "execution_count": 425,
     "metadata": {},
     "output_type": "execute_result"
    }
   ],
   "source": [
    "# exists_skill_day works == 1 => is_assigned == 1\n",
    "model.addConstrs(\n",
    "    (\n",
    "        works_worker_job_skill_day[worker, job, skill, day] <= is_assigned_worker_job[worker, job]\n",
    "        for worker in range(worker_length)\n",
    "        for job in range(job_length)\n",
    "        for skill in range(skill_length)\n",
    "        for day in range(day_length)\n",
    "    ),\n",
    "    name=\"is_assigned_worker_job\",\n",
    ")\n",
    "# forall_skill_day works == 0 => is_assigned == 0\n",
    "model.addConstrs(\n",
    "    (\n",
    "        is_assigned_worker_job[worker, job] <= \\\n",
    "            grb.quicksum(\n",
    "                works_worker_job_skill_day[worker, job, skill, day]\n",
    "                for skill in range(skill_length)\n",
    "                for day in range(day_length)\n",
    "            )\n",
    "        for worker in range(worker_length)\n",
    "        for job in range(job_length)\n",
    "    ),\n",
    "    name=\"is_assigned_worker_job_bis\",\n",
    ")"
   ]
  },
  {
   "attachments": {},
   "cell_type": "markdown",
   "metadata": {},
   "source": [
    "- Maximum assigned"
   ]
  },
  {
   "cell_type": "code",
   "execution_count": 426,
   "metadata": {},
   "outputs": [
    {
     "data": {
      "text/plain": [
       "{0: <gurobi.Constr *Awaiting Model Update*>,\n",
       " 1: <gurobi.Constr *Awaiting Model Update*>,\n",
       " 2: <gurobi.Constr *Awaiting Model Update*>}"
      ]
     },
     "execution_count": 426,
     "metadata": {},
     "output_type": "execute_result"
    }
   ],
   "source": [
    "model.addConstrs(\n",
    "    (\n",
    "        grb.quicksum(is_assigned_worker_job[worker, job] for job in range(job_length)) \\\n",
    "            <= max_assigned\n",
    "        for worker in range(worker_length)\n",
    "    ),\n",
    "    name=\"max_assigned\",\n",
    ")"
   ]
  },
  {
   "attachments": {},
   "cell_type": "markdown",
   "metadata": {},
   "source": [
    "### Objectives"
   ]
  },
  {
   "cell_type": "code",
   "execution_count": 427,
   "metadata": {},
   "outputs": [],
   "source": [
    "# Add primary objective\n",
    "model.setObjective(\n",
    "  grb.quicksum(\n",
    "    gains_job[job] * is_realized_job[job] \\\n",
    "      - penalties_job[job] * grb.quicksum(\n",
    "        is_worked_job_day[job, day]\n",
    "        for day in range(due_dates_job[job], day_length)\n",
    "      )\n",
    "    for job in range(job_length)\n",
    "  ),\n",
    "  sense=GRB.MAXIMIZE,\n",
    ")\n",
    "\n",
    "# # Add multi-objective functions\n",
    "# model.ModelSense = GRB.MINIMIZE\n",
    "# model.setObjectiveN(\n",
    "#   max_assigned,\n",
    "#   1,\n",
    "#   priority=2,\n",
    "# )\n",
    "# model.setObjectiveN(\n",
    "#   max_duration,\n",
    "#   2,\n",
    "#   priority=1,\n",
    "# )"
   ]
  },
  {
   "attachments": {},
   "cell_type": "markdown",
   "metadata": {},
   "source": [
    "## Optimization"
   ]
  },
  {
   "cell_type": "code",
   "execution_count": 428,
   "metadata": {},
   "outputs": [
    {
     "name": "stdout",
     "output_type": "stream",
     "text": [
      "Gurobi Optimizer version 10.0.0 build v10.0.0rc2 (linux64)\n",
      "\n",
      "CPU model: AMD Ryzen 5 3500U with Radeon Vega Mobile Gfx, instruction set [SSE2|AVX|AVX2]\n",
      "Thread count: 4 physical cores, 8 logical processors, using up to 8 threads\n",
      "\n",
      "Optimize a model with 753 rows, 272 columns and 2123 nonzeros\n",
      "Model fingerprint: 0x62922262\n",
      "Variable types: 0 continuous, 272 integer (270 binary)\n",
      "Coefficient statistics:\n",
      "  Matrix range     [1e+00, 2e+00]\n",
      "  Objective range  [3e+00, 2e+01]\n",
      "  Bounds range     [1e+00, 1e+00]\n",
      "  RHS range        [1e+00, 1e+00]\n",
      "Found heuristic solution: objective -0.0000000\n",
      "Presolve removed 617 rows and 148 columns\n",
      "Presolve time: 0.01s\n",
      "Presolved: 136 rows, 124 columns, 611 nonzeros\n",
      "Variable types: 0 continuous, 124 integer (124 binary)\n",
      "\n",
      "Root relaxation: objective 7.200000e+01, 154 iterations, 0.00 seconds (0.00 work units)\n",
      "\n",
      "    Nodes    |    Current Node    |     Objective Bounds      |     Work\n",
      " Expl Unexpl |  Obj  Depth IntInf | Incumbent    BestBd   Gap | It/Node Time\n",
      "\n",
      "     0     0   72.00000    0    3   -0.00000   72.00000      -     -    0s\n",
      "H    0     0                      56.0000000   72.00000  28.6%     -    0s\n",
      "     0     0   72.00000    0   19   56.00000   72.00000  28.6%     -    0s\n",
      "H    0     0                      65.0000000   72.00000  10.8%     -    0s\n",
      "H    0     0                      67.0000000   70.33333  4.98%     -    0s\n",
      "     0     0   67.00000    0    1   67.00000   67.00000  0.00%     -    0s\n",
      "\n",
      "Cutting planes:\n",
      "  Gomory: 3\n",
      "  Cover: 1\n",
      "  Clique: 2\n",
      "  Zero half: 7\n",
      "\n",
      "Explored 1 nodes (340 simplex iterations) in 0.07 seconds (0.01 work units)\n",
      "Thread count was 8 (of 8 available processors)\n",
      "\n",
      "Solution count 4: 67 65 56 -0 \n",
      "\n",
      "Optimal solution found (tolerance 1.00e-04)\n",
      "Best objective 6.700000000000e+01, best bound 6.700000000000e+01, gap 0.0000%\n"
     ]
    }
   ],
   "source": [
    "model.optimize()"
   ]
  },
  {
   "cell_type": "code",
   "execution_count": 429,
   "metadata": {},
   "outputs": [
    {
     "name": "stdout",
     "output_type": "stream",
     "text": [
      "True False False\n"
     ]
    }
   ],
   "source": [
    "# Get optimization status\n",
    "print(model.Status == GRB.OPTIMAL, model.Status == GRB.TIME_LIMIT, model.Status == GRB.INFEASIBLE)"
   ]
  },
  {
   "cell_type": "code",
   "execution_count": 430,
   "metadata": {},
   "outputs": [
    {
     "name": "stdout",
     "output_type": "stream",
     "text": [
      "67.0\n"
     ]
    }
   ],
   "source": [
    "# Get objective value\n",
    "objective_value = model.objVal\n",
    "print(objective_value)"
   ]
  },
  {
   "cell_type": "code",
   "execution_count": 432,
   "metadata": {},
   "outputs": [],
   "source": [
    "import pandas as pd\n",
    "import matplotlib as mpl"
   ]
  },
  {
   "cell_type": "code",
   "execution_count": 433,
   "metadata": {},
   "outputs": [],
   "source": [
    "qualifications = data[\"qualifications\"]\n",
    "names = [worker[\"name\"] for worker in data[\"staff\"]]\n",
    "jobs = [job[\"name\"] for job in data[\"jobs\"]]"
   ]
  },
  {
   "cell_type": "code",
   "execution_count": 434,
   "metadata": {},
   "outputs": [],
   "source": [
    "# Give a hex color to each job\n",
    "cmap = mpl.cm.get_cmap('hsv', int(len(jobs)*1.2))\n",
    "job_colors = [mpl.colors.rgb2hex(cmap(i)[:3]) for i in range(cmap.N)][:len(jobs)]"
   ]
  },
  {
   "cell_type": "code",
   "execution_count": 435,
   "metadata": {},
   "outputs": [],
   "source": [
    "def disply_worker_skills():\n",
    "    res = pd.DataFrame(\n",
    "        [\n",
    "            [\n",
    "                str([q for (r, q) in zip(row_q, qualifications) if r == 1]).replace(\"'\", \"\"),\n",
    "                str([d for (r, d) in zip(row_d, range(day_length)) if r == 1]),\n",
    "            ]\n",
    "            for row_q, row_d in zip(qualifications_worker_skill, vacations_worker_day)],\n",
    "        index=names,\n",
    "        columns=[\"qualifications\", \"vacations\"]\n",
    "    )\n",
    "    return res\n",
    "    "
   ]
  },
  {
   "cell_type": "code",
   "execution_count": 436,
   "metadata": {},
   "outputs": [],
   "source": [
    "def highlight_cols(col):\n",
    "    return [f\"color:black;background-color: {color}\" for color in job_colors]\n",
    "\n",
    "def display_work_days():\n",
    "    res = pd.DataFrame(work_days_job_skill, index=jobs, columns=qualifications)\n",
    "    res[\"due date\"] = pd.Series(due_dates_job, index=jobs)\n",
    "    res[\"gain\"] = pd.Series(gains_job, index=jobs)\n",
    "    res[\"penalty\"] = pd.Series(penalties_job, index=jobs)\n",
    "    res = res.style.apply(highlight_cols, axis=0)\n",
    "    return res"
   ]
  },
  {
   "cell_type": "code",
   "execution_count": 437,
   "metadata": {},
   "outputs": [],
   "source": [
    "def find_task(tab, worker, day):\n",
    "    for job in range(job_length):\n",
    "        for skill in range(skill_length):\n",
    "            if tab[worker, job, skill, day].x == 1:\n",
    "                return job, qualifications[skill]\n",
    "    return None\n",
    "\n",
    "def color_cells(x, df):\n",
    "        df = df.applymap(lambda val: job_colors[val[0]] if val is not None else \"\")\n",
    "        df = df.applymap(lambda color: f\"color:{'' if color == '' else 'black'};background-color: {color}\")\n",
    "        return df\n",
    "\n",
    "def display_time_table():\n",
    "    data = [\n",
    "        [\n",
    "            find_task(works_worker_job_skill_day, worker, day)\n",
    "            for day in range(day_length)\n",
    "        ]\n",
    "        for worker in range(worker_length)\n",
    "    ]\n",
    "    df = pd.DataFrame(\n",
    "        data,\n",
    "        index=names,\n",
    "        columns=range(day_length)\n",
    "    )\n",
    "    res = df.applymap(lambda x: x[1] if x is not None else None)\n",
    "    res = res.style.apply(lambda x: color_cells(x, df), axis=None)\n",
    "    return res"
   ]
  },
  {
   "cell_type": "code",
   "execution_count": 438,
   "metadata": {},
   "outputs": [
    {
     "data": {
      "text/html": [
       "<div>\n",
       "<style scoped>\n",
       "    .dataframe tbody tr th:only-of-type {\n",
       "        vertical-align: middle;\n",
       "    }\n",
       "\n",
       "    .dataframe tbody tr th {\n",
       "        vertical-align: top;\n",
       "    }\n",
       "\n",
       "    .dataframe thead th {\n",
       "        text-align: right;\n",
       "    }\n",
       "</style>\n",
       "<table border=\"1\" class=\"dataframe\">\n",
       "  <thead>\n",
       "    <tr style=\"text-align: right;\">\n",
       "      <th></th>\n",
       "      <th>qualifications</th>\n",
       "      <th>vacations</th>\n",
       "    </tr>\n",
       "  </thead>\n",
       "  <tbody>\n",
       "    <tr>\n",
       "      <th>Olivia</th>\n",
       "      <td>[A, B, C]</td>\n",
       "      <td>[]</td>\n",
       "    </tr>\n",
       "    <tr>\n",
       "      <th>Liam</th>\n",
       "      <td>[A, B]</td>\n",
       "      <td>[0]</td>\n",
       "    </tr>\n",
       "    <tr>\n",
       "      <th>Emma</th>\n",
       "      <td>[C]</td>\n",
       "      <td>[1]</td>\n",
       "    </tr>\n",
       "  </tbody>\n",
       "</table>\n",
       "</div>"
      ],
      "text/plain": [
       "       qualifications vacations\n",
       "Olivia      [A, B, C]        []\n",
       "Liam           [A, B]       [0]\n",
       "Emma              [C]       [1]"
      ]
     },
     "execution_count": 438,
     "metadata": {},
     "output_type": "execute_result"
    }
   ],
   "source": [
    "disply_worker_skills()"
   ]
  },
  {
   "cell_type": "code",
   "execution_count": 439,
   "metadata": {},
   "outputs": [
    {
     "data": {
      "text/html": [
       "<style type=\"text/css\">\n",
       "#T_fe95f_row0_col0, #T_fe95f_row0_col1, #T_fe95f_row0_col2, #T_fe95f_row0_col3, #T_fe95f_row0_col4, #T_fe95f_row0_col5 {\n",
       "  color: black;\n",
       "  background-color: #ff0000;\n",
       "}\n",
       "#T_fe95f_row1_col0, #T_fe95f_row1_col1, #T_fe95f_row1_col2, #T_fe95f_row1_col3, #T_fe95f_row1_col4, #T_fe95f_row1_col5 {\n",
       "  color: black;\n",
       "  background-color: #d1ff00;\n",
       "}\n",
       "#T_fe95f_row2_col0, #T_fe95f_row2_col1, #T_fe95f_row2_col2, #T_fe95f_row2_col3, #T_fe95f_row2_col4, #T_fe95f_row2_col5 {\n",
       "  color: black;\n",
       "  background-color: #00ff5c;\n",
       "}\n",
       "#T_fe95f_row3_col0, #T_fe95f_row3_col1, #T_fe95f_row3_col2, #T_fe95f_row3_col3, #T_fe95f_row3_col4, #T_fe95f_row3_col5 {\n",
       "  color: black;\n",
       "  background-color: #0074ff;\n",
       "}\n",
       "#T_fe95f_row4_col0, #T_fe95f_row4_col1, #T_fe95f_row4_col2, #T_fe95f_row4_col3, #T_fe95f_row4_col4, #T_fe95f_row4_col5 {\n",
       "  color: black;\n",
       "  background-color: #b900ff;\n",
       "}\n",
       "</style>\n",
       "<table id=\"T_fe95f\">\n",
       "  <thead>\n",
       "    <tr>\n",
       "      <th class=\"blank level0\" >&nbsp;</th>\n",
       "      <th id=\"T_fe95f_level0_col0\" class=\"col_heading level0 col0\" >A</th>\n",
       "      <th id=\"T_fe95f_level0_col1\" class=\"col_heading level0 col1\" >B</th>\n",
       "      <th id=\"T_fe95f_level0_col2\" class=\"col_heading level0 col2\" >C</th>\n",
       "      <th id=\"T_fe95f_level0_col3\" class=\"col_heading level0 col3\" >due date</th>\n",
       "      <th id=\"T_fe95f_level0_col4\" class=\"col_heading level0 col4\" >gain</th>\n",
       "      <th id=\"T_fe95f_level0_col5\" class=\"col_heading level0 col5\" >penalty</th>\n",
       "    </tr>\n",
       "  </thead>\n",
       "  <tbody>\n",
       "    <tr>\n",
       "      <th id=\"T_fe95f_level0_row0\" class=\"row_heading level0 row0\" >Job1</th>\n",
       "      <td id=\"T_fe95f_row0_col0\" class=\"data row0 col0\" >1</td>\n",
       "      <td id=\"T_fe95f_row0_col1\" class=\"data row0 col1\" >1</td>\n",
       "      <td id=\"T_fe95f_row0_col2\" class=\"data row0 col2\" >1</td>\n",
       "      <td id=\"T_fe95f_row0_col3\" class=\"data row0 col3\" >3</td>\n",
       "      <td id=\"T_fe95f_row0_col4\" class=\"data row0 col4\" >20</td>\n",
       "      <td id=\"T_fe95f_row0_col5\" class=\"data row0 col5\" >3</td>\n",
       "    </tr>\n",
       "    <tr>\n",
       "      <th id=\"T_fe95f_level0_row1\" class=\"row_heading level0 row1\" >Job2</th>\n",
       "      <td id=\"T_fe95f_row1_col0\" class=\"data row1 col0\" >1</td>\n",
       "      <td id=\"T_fe95f_row1_col1\" class=\"data row1 col1\" >2</td>\n",
       "      <td id=\"T_fe95f_row1_col2\" class=\"data row1 col2\" >0</td>\n",
       "      <td id=\"T_fe95f_row1_col3\" class=\"data row1 col3\" >3</td>\n",
       "      <td id=\"T_fe95f_row1_col4\" class=\"data row1 col4\" >15</td>\n",
       "      <td id=\"T_fe95f_row1_col5\" class=\"data row1 col5\" >3</td>\n",
       "    </tr>\n",
       "    <tr>\n",
       "      <th id=\"T_fe95f_level0_row2\" class=\"row_heading level0 row2\" >Job3</th>\n",
       "      <td id=\"T_fe95f_row2_col0\" class=\"data row2 col0\" >1</td>\n",
       "      <td id=\"T_fe95f_row2_col1\" class=\"data row2 col1\" >0</td>\n",
       "      <td id=\"T_fe95f_row2_col2\" class=\"data row2 col2\" >2</td>\n",
       "      <td id=\"T_fe95f_row2_col3\" class=\"data row2 col3\" >4</td>\n",
       "      <td id=\"T_fe95f_row2_col4\" class=\"data row2 col4\" >15</td>\n",
       "      <td id=\"T_fe95f_row2_col5\" class=\"data row2 col5\" >3</td>\n",
       "    </tr>\n",
       "    <tr>\n",
       "      <th id=\"T_fe95f_level0_row3\" class=\"row_heading level0 row3\" >Job4</th>\n",
       "      <td id=\"T_fe95f_row3_col0\" class=\"data row3 col0\" >0</td>\n",
       "      <td id=\"T_fe95f_row3_col1\" class=\"data row3 col1\" >2</td>\n",
       "      <td id=\"T_fe95f_row3_col2\" class=\"data row3 col2\" >1</td>\n",
       "      <td id=\"T_fe95f_row3_col3\" class=\"data row3 col3\" >3</td>\n",
       "      <td id=\"T_fe95f_row3_col4\" class=\"data row3 col4\" >20</td>\n",
       "      <td id=\"T_fe95f_row3_col5\" class=\"data row3 col5\" >3</td>\n",
       "    </tr>\n",
       "    <tr>\n",
       "      <th id=\"T_fe95f_level0_row4\" class=\"row_heading level0 row4\" >Job5</th>\n",
       "      <td id=\"T_fe95f_row4_col0\" class=\"data row4 col0\" >0</td>\n",
       "      <td id=\"T_fe95f_row4_col1\" class=\"data row4 col1\" >0</td>\n",
       "      <td id=\"T_fe95f_row4_col2\" class=\"data row4 col2\" >2</td>\n",
       "      <td id=\"T_fe95f_row4_col3\" class=\"data row4 col3\" >5</td>\n",
       "      <td id=\"T_fe95f_row4_col4\" class=\"data row4 col4\" >10</td>\n",
       "      <td id=\"T_fe95f_row4_col5\" class=\"data row4 col5\" >3</td>\n",
       "    </tr>\n",
       "  </tbody>\n",
       "</table>\n"
      ],
      "text/plain": [
       "<pandas.io.formats.style.Styler at 0x7f85a9f152a0>"
      ]
     },
     "execution_count": 439,
     "metadata": {},
     "output_type": "execute_result"
    }
   ],
   "source": [
    "display_work_days()"
   ]
  },
  {
   "cell_type": "code",
   "execution_count": 440,
   "metadata": {},
   "outputs": [
    {
     "data": {
      "text/html": [
       "<style type=\"text/css\">\n",
       "#T_0f5ac_row0_col0, #T_0f5ac_row0_col1, #T_0f5ac_row2_col2 {\n",
       "  color: black;\n",
       "  background-color: #0074ff;\n",
       "}\n",
       "#T_0f5ac_row0_col2, #T_0f5ac_row0_col4, #T_0f5ac_row1_col4 {\n",
       "  color: black;\n",
       "  background-color: #d1ff00;\n",
       "}\n",
       "#T_0f5ac_row0_col3, #T_0f5ac_row1_col3, #T_0f5ac_row2_col3 {\n",
       "  color: black;\n",
       "  background-color: #00ff5c;\n",
       "}\n",
       "#T_0f5ac_row1_col0, #T_0f5ac_row2_col1, #T_0f5ac_row2_col4 {\n",
       "  color: ;\n",
       "  background-color: ;\n",
       "}\n",
       "#T_0f5ac_row1_col1, #T_0f5ac_row1_col2, #T_0f5ac_row2_col0 {\n",
       "  color: black;\n",
       "  background-color: #ff0000;\n",
       "}\n",
       "</style>\n",
       "<table id=\"T_0f5ac\">\n",
       "  <thead>\n",
       "    <tr>\n",
       "      <th class=\"blank level0\" >&nbsp;</th>\n",
       "      <th id=\"T_0f5ac_level0_col0\" class=\"col_heading level0 col0\" >0</th>\n",
       "      <th id=\"T_0f5ac_level0_col1\" class=\"col_heading level0 col1\" >1</th>\n",
       "      <th id=\"T_0f5ac_level0_col2\" class=\"col_heading level0 col2\" >2</th>\n",
       "      <th id=\"T_0f5ac_level0_col3\" class=\"col_heading level0 col3\" >3</th>\n",
       "      <th id=\"T_0f5ac_level0_col4\" class=\"col_heading level0 col4\" >4</th>\n",
       "    </tr>\n",
       "  </thead>\n",
       "  <tbody>\n",
       "    <tr>\n",
       "      <th id=\"T_0f5ac_level0_row0\" class=\"row_heading level0 row0\" >Olivia</th>\n",
       "      <td id=\"T_0f5ac_row0_col0\" class=\"data row0 col0\" >B</td>\n",
       "      <td id=\"T_0f5ac_row0_col1\" class=\"data row0 col1\" >B</td>\n",
       "      <td id=\"T_0f5ac_row0_col2\" class=\"data row0 col2\" >A</td>\n",
       "      <td id=\"T_0f5ac_row0_col3\" class=\"data row0 col3\" >C</td>\n",
       "      <td id=\"T_0f5ac_row0_col4\" class=\"data row0 col4\" >B</td>\n",
       "    </tr>\n",
       "    <tr>\n",
       "      <th id=\"T_0f5ac_level0_row1\" class=\"row_heading level0 row1\" >Liam</th>\n",
       "      <td id=\"T_0f5ac_row1_col0\" class=\"data row1 col0\" >None</td>\n",
       "      <td id=\"T_0f5ac_row1_col1\" class=\"data row1 col1\" >A</td>\n",
       "      <td id=\"T_0f5ac_row1_col2\" class=\"data row1 col2\" >B</td>\n",
       "      <td id=\"T_0f5ac_row1_col3\" class=\"data row1 col3\" >A</td>\n",
       "      <td id=\"T_0f5ac_row1_col4\" class=\"data row1 col4\" >B</td>\n",
       "    </tr>\n",
       "    <tr>\n",
       "      <th id=\"T_0f5ac_level0_row2\" class=\"row_heading level0 row2\" >Emma</th>\n",
       "      <td id=\"T_0f5ac_row2_col0\" class=\"data row2 col0\" >C</td>\n",
       "      <td id=\"T_0f5ac_row2_col1\" class=\"data row2 col1\" >None</td>\n",
       "      <td id=\"T_0f5ac_row2_col2\" class=\"data row2 col2\" >C</td>\n",
       "      <td id=\"T_0f5ac_row2_col3\" class=\"data row2 col3\" >C</td>\n",
       "      <td id=\"T_0f5ac_row2_col4\" class=\"data row2 col4\" >None</td>\n",
       "    </tr>\n",
       "  </tbody>\n",
       "</table>\n"
      ],
      "text/plain": [
       "<pandas.io.formats.style.Styler at 0x7f85ab38eec0>"
      ]
     },
     "execution_count": 440,
     "metadata": {},
     "output_type": "execute_result"
    }
   ],
   "source": [
    "display_time_table()"
   ]
  }
 ],
 "metadata": {
  "kernelspec": {
   "display_name": "Python 3",
   "language": "python",
   "name": "python3"
  },
  "language_info": {
   "codemirror_mode": {
    "name": "ipython",
    "version": 3
   },
   "file_extension": ".py",
   "mimetype": "text/x-python",
   "name": "python",
   "nbconvert_exporter": "python",
   "pygments_lexer": "ipython3",
   "version": "3.10.4"
  },
  "orig_nbformat": 4,
  "vscode": {
   "interpreter": {
    "hash": "5372fa4cf8c924fc741702be56b11c428b552d59c4a502a0fb32c9af273f7d1e"
   }
  }
 },
 "nbformat": 4,
 "nbformat_minor": 2
}
