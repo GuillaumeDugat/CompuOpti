{
 "cells": [
  {
   "attachments": {},
   "cell_type": "markdown",
   "metadata": {},
   "source": [
    "# CompuOpti"
   ]
  },
  {
   "cell_type": "code",
   "execution_count": 28,
   "metadata": {},
   "outputs": [],
   "source": [
    "import os\n",
    "import json\n",
    "\n",
    "import numpy as np\n",
    "import gurobipy as grb\n",
    "from gurobipy import GRB"
   ]
  },
  {
   "cell_type": "code",
   "execution_count": 29,
   "metadata": {},
   "outputs": [],
   "source": [
    "model = grb.Model()"
   ]
  },
  {
   "cell_type": "code",
   "execution_count": 30,
   "metadata": {},
   "outputs": [],
   "source": [
    "instance = \"toy_instance.json\"\n",
    "\n",
    "file = os.path.join(\"instances\", instance)\n",
    "data = json.load(open(file, \"r\"))"
   ]
  },
  {
   "attachments": {},
   "cell_type": "markdown",
   "metadata": {},
   "source": [
    "## Modeling"
   ]
  },
  {
   "attachments": {},
   "cell_type": "markdown",
   "metadata": {},
   "source": [
    "### Parameters of the problem"
   ]
  },
  {
   "attachments": {},
   "cell_type": "markdown",
   "metadata": {},
   "source": [
    "Define the length of indices"
   ]
  },
  {
   "cell_type": "code",
   "execution_count": 31,
   "metadata": {},
   "outputs": [],
   "source": [
    "# Number of workers\n",
    "worker_length = len(data[\"staff\"])\n",
    "\n",
    "# Number of jobs\n",
    "job_length = len(data[\"jobs\"])\n",
    "\n",
    "# Number of skills\n",
    "skill_length = len(data[\"qualifications\"])\n",
    "\n",
    "# Number of days\n",
    "day_length = data[\"horizon\"]"
   ]
  },
  {
   "attachments": {},
   "cell_type": "markdown",
   "metadata": {},
   "source": [
    "Define jobs parameters"
   ]
  },
  {
   "cell_type": "code",
   "execution_count": 32,
   "metadata": {},
   "outputs": [],
   "source": [
    "gains_job = np.array([job[\"gain\"] for job in data[\"jobs\"]])\n",
    "penalties_job = np.array([job[\"daily_penalty\"] for job in data[\"jobs\"]])\n",
    "due_dates_job = np.array([job[\"due_date\"] for job in data[\"jobs\"]])\n",
    "work_days_job_skill = np.array([\n",
    "    [\n",
    "        job[\"working_days_per_qualification\"][skill] if skill in job[\"working_days_per_qualification\"] else 0\n",
    "        for skill in data[\"qualifications\"]\n",
    "    ]\n",
    "    for job in data[\"jobs\"]\n",
    "])"
   ]
  },
  {
   "attachments": {},
   "cell_type": "markdown",
   "metadata": {},
   "source": [
    "Define staff parameters"
   ]
  },
  {
   "cell_type": "code",
   "execution_count": 33,
   "metadata": {},
   "outputs": [],
   "source": [
    "qualifications_worker_skill = np.array([\n",
    "    [\n",
    "        1 if skill in worker[\"qualifications\"] else 0\n",
    "        for skill in data[\"qualifications\"]\n",
    "    ]\n",
    "    for worker in data[\"staff\"]\n",
    "])\n",
    "vacations_worker_day = np.array([\n",
    "    [\n",
    "        1 if 1 + day in worker[\"vacations\"] else 0\n",
    "        for day in range(day_length)\n",
    "    ]\n",
    "    for worker in data[\"staff\"]\n",
    "])"
   ]
  },
  {
   "attachments": {},
   "cell_type": "markdown",
   "metadata": {},
   "source": [
    "### Decision variables"
   ]
  },
  {
   "attachments": {},
   "cell_type": "markdown",
   "metadata": {},
   "source": [
    "Variable to model the full solution"
   ]
  },
  {
   "cell_type": "code",
   "execution_count": 34,
   "metadata": {},
   "outputs": [],
   "source": [
    "# 4-D array of binary variables : 1 if a worker is assigned to a certain project for a certain skill on a certain day, else 0\n",
    "works_worker_job_skill_day = model.addVars(worker_length, job_length, skill_length, day_length, vtype=GRB.BINARY, name=\"work\")"
   ]
  },
  {
   "attachments": {},
   "cell_type": "markdown",
   "metadata": {},
   "source": [
    "Variables to compute the total gain"
   ]
  },
  {
   "cell_type": "code",
   "execution_count": 35,
   "metadata": {},
   "outputs": [],
   "source": [
    "realized_job = model.addVars(job_length, vtype=GRB.BINARY, name=\"realized\") # 1 if a job is realized, else 0\n",
    "finished_late_job = model.addVars(job_length, vtype=GRB.BINARY, name=\"finished_late\") # 1 if a job is finished late, else 0"
   ]
  },
  {
   "attachments": {},
   "cell_type": "markdown",
   "metadata": {},
   "source": [
    "Variables to compute the duration of a job"
   ]
  },
  {
   "cell_type": "code",
   "execution_count": 36,
   "metadata": {},
   "outputs": [],
   "source": [
    "finished_before_job_day = model.addVars(job_length, day_length, vtype=GRB.BINARY, name=\"finished_before\") # 1 if a job is finished before a certain day, else 0\n",
    "started_after_job_day = model.addVars(job_length, day_length, vtype=GRB.BINARY, name=\"started_after\") # 1 if a job is started after a certain day, else 0"
   ]
  },
  {
   "attachments": {},
   "cell_type": "markdown",
   "metadata": {},
   "source": [
    "Variable to compute the maximum duration per job"
   ]
  },
  {
   "cell_type": "code",
   "execution_count": 37,
   "metadata": {},
   "outputs": [],
   "source": [
    "max_duration = model.addVar(vtype=GRB.INTEGER, name=\"max_duration\") # Integer that represents the maximum duration for any job"
   ]
  },
  {
   "attachments": {},
   "cell_type": "markdown",
   "metadata": {},
   "source": [
    "Variables to compute the maximum assignements per worker"
   ]
  },
  {
   "cell_type": "code",
   "execution_count": 38,
   "metadata": {},
   "outputs": [],
   "source": [
    "assigned_worker_job = model.addVars(worker_length, job_length, vtype=GRB.BINARY, name=\"assigned\") # 1 if a certain worker is assigned on a certain job, else 0\n",
    "nb_assigned_worker = model.addVars(worker_length, vtype=GRB.INTEGER, name=\"nb_assigned\") # Integers that represents the number of assigned jobs for each worker\n",
    "max_assigned = model.addVar(vtype=GRB.INTEGER, name=\"max_assigned\") # Integer that represents the maximum number of assigned jobs for any worker"
   ]
  },
  {
   "attachments": {},
   "cell_type": "markdown",
   "metadata": {},
   "source": [
    "### Constraints"
   ]
  },
  {
   "attachments": {},
   "cell_type": "markdown",
   "metadata": {},
   "source": [
    "### Objectives"
   ]
  }
 ],
 "metadata": {
  "kernelspec": {
   "display_name": "Python 3",
   "language": "python",
   "name": "python3"
  },
  "language_info": {
   "codemirror_mode": {
    "name": "ipython",
    "version": 3
   },
   "file_extension": ".py",
   "mimetype": "text/x-python",
   "name": "python",
   "nbconvert_exporter": "python",
   "pygments_lexer": "ipython3",
   "version": "3.10.4"
  },
  "orig_nbformat": 4,
  "vscode": {
   "interpreter": {
    "hash": "5372fa4cf8c924fc741702be56b11c428b552d59c4a502a0fb32c9af273f7d1e"
   }
  }
 },
 "nbformat": 4,
 "nbformat_minor": 2
}
